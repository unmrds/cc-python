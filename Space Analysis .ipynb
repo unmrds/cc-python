{
 "cells": [
  {
   "cell_type": "markdown",
   "metadata": {},
   "source": [
    "# Space Analysis Demonstration\n",
    "\n",
    "We are currently in the process of testing a strategy for capturing shelf space data and would like to use the growing dataset to better understand the time required to collect the data and perform some preliminary analyses of the data. Some questions that we would like to ask of this dataset include: \n",
    "\n",
    "* How many shelves can be measured per hour\n",
    "* How much shelf space is taken up by each (LC subject level) range in the dataset\n",
    "* How much shelf space is available within each range in the dataset\n",
    "\n",
    "In support of answering these questions we need to do the following:\n",
    "\n",
    "* Import the data into the script for analysis\n",
    "* Aggregate the data by hour and count the number of shelves that were measured in each hour\n",
    "* Aggregate the occupied space for all of the shelves for each range\n",
    "* Calculate the total shelf space for each range"
   ]
  },
  {
   "cell_type": "markdown",
   "metadata": {},
   "source": [
    "## 1. Import the data for the analysis\n",
    "\n",
    "Importing the data for the analysis includes the following sub-tasks:\n",
    "\n",
    "* Point to the local data file that containes the values that we want to analyze\n",
    "* Create a file-like object from which we can read the data\n",
    "* Read the data into a variable that we can use in our analyses"
   ]
  },
  {
   "cell_type": "code",
   "execution_count": 224,
   "metadata": {},
   "outputs": [
    {
     "name": "stdout",
     "output_type": "stream",
     "text": [
      "Requirement already satisfied (use --upgrade to upgrade): tabulate in /opt/conda/lib/python3.5/site-packages\n",
      "\u001b[33mYou are using pip version 8.1.2, however version 9.0.1 is available.\n",
      "You should consider upgrading via the 'pip install --upgrade pip' command.\u001b[0m\n",
      "The generated report will be: Space_Analysis_Pilot_(Responses).csv\n",
      "The version of pandas is: 0.18.1\n",
      "The file that will be read is: Space_Analysis_Pilot_(Responses).csv\n",
      "\n",
      "The data types in the table are:\n",
      "timestamp                 object\n",
      "leading_alpha             object\n",
      "ending_alpha              object\n",
      "occupied_in              float64\n",
      "datetime          datetime64[ns]\n",
      "leading_prefix            object\n",
      "ending_prefix             object\n",
      "capacity                 float64\n",
      "dtype: object\n",
      "\n"
     ]
    },
    {
     "name": "stderr",
     "output_type": "stream",
     "text": [
      "/opt/conda/lib/python3.5/site-packages/pandas/core/indexing.py:132: SettingWithCopyWarning: \n",
      "A value is trying to be set on a copy of a slice from a DataFrame\n",
      "\n",
      "See the caveats in the documentation: http://pandas.pydata.org/pandas-docs/stable/indexing.html#indexing-view-versus-copy\n",
      "  self._setitem_with_indexer(indexer, value)\n"
     ]
    }
   ],
   "source": [
    "# Import a very useful and powerful module for interacting with tabular data\n",
    "import pandas as pd\n",
    "\n",
    "# Install and import tabulate for generating tables for hardcopy reports\n",
    "!TABULATE_INSTALL=lib-only; pip install tabulate\n",
    "from tabulate import tabulate\n",
    "\n",
    "# Set up the report generation variables\n",
    "report_file_name = 'report.md'\n",
    "report_content = []\n",
    "print(\"The generated report will be: \" + file_name)\n",
    "\n",
    "print(\"The version of pandas is: \" + pd.__version__)\n",
    "\n",
    "# Define the location of the file of interest\n",
    "file_path = \"\"      # include a trailing \"/\" if not empty\n",
    "file_name = \"Space_Analysis_Pilot_(Responses).csv\"\n",
    "file_location = file_path + file_name\n",
    "print(\"The file that will be read is: \" + file_location)\n",
    "\n",
    "# explicitly define the column names that will be associated with our table - this helps mitigate any\n",
    "# strangeness in the column names in the source CSV file\n",
    "column_names=[\n",
    "    \"timestamp\", \n",
    "    \"building\", \n",
    "    \"floor\", \n",
    "    \"range\", \n",
    "    \"section\", \n",
    "    \"shelf\",\n",
    "    \"leading_alpha\", \n",
    "    \"leading_numeric\",\n",
    "    \"ending_alpha\",\n",
    "    \"ending_numeric\",\n",
    "    \"occupied_in\",\n",
    "    \"stacked\"\n",
    "]\n",
    "\n",
    "# Load the referenced file into a pandas dataframe for use in our analysis\n",
    "shelf_data = pd.read_csv(\n",
    "    file_location,\n",
    "    names = column_names,\n",
    "    header = 0,\n",
    "    usecols = ['timestamp','leading_alpha','ending_alpha','occupied_in'],\n",
    "    skipinitialspace = True\n",
    ")\n",
    "\n",
    "# create a series of datatime values from the timestamps in the dataframe\n",
    "# attempt to coerce error generating values, if can't set value to NaT (missing)\n",
    "shelf_data['datetime'] = pd.to_datetime(shelf_data.loc[:,\"timestamp\"], errors='coerce')\n",
    "\n",
    "# fill the NA values in the leading and ending alpha fields with a symbol\n",
    "shelf_data.leading_alpha = shelf_data.leading_alpha.fillna('*')\n",
    "shelf_data.ending_alpha = shelf_data.ending_alpha.fillna('*')\n",
    "shelf_data.occupied_in.loc[(shelf_data.leading_alpha == \"*\")] = 0\n",
    "\n",
    "\n",
    "# drop the rows that are missing leading_alpha values\n",
    "shelf_data = shelf_data.loc[shelf_data.leading_alpha.notnull()]\n",
    "\n",
    "# strip any leading or trailing white space from the alpha fields\n",
    "shelf_data.leading_alpha.astype(str)\n",
    "shelf_data['leading_alpha'] = shelf_data.leading_alpha.str.strip()\n",
    "shelf_data['ending_alpha'] = shelf_data.ending_alpha.str.strip()\n",
    "\n",
    "# generate columns with alpha prefixes for higher-level grouping\n",
    "shelf_data['leading_prefix'] = shelf_data.leading_alpha.str[0]\n",
    "shelf_data['ending_prefix'] = shelf_data.ending_alpha.str[0]\n",
    "\n",
    "# add shelf capacity to each row in the table\n",
    "shelf_data['capacity'] = 35.5\n",
    "\n",
    "print(\"\\nThe data types in the table are:\\n\"+str(shelf_data.dtypes))\n",
    "print()\n",
    "#print(shelf_data)"
   ]
  },
  {
   "cell_type": "markdown",
   "metadata": {},
   "source": [
    "## 2. Aggregate the data by hour and count the shelves for each hour\n",
    "\n",
    "The following sub-tasks are required for this part of our analysis\n",
    "\n",
    "* Create a new column in the dataframe that contains a distinct value for each hour in the database\n",
    "* Group the individual shelves by hour label\n",
    "* Count the shelves for each hour\n",
    "* Plot the number of shelves per hour for the analysis period\n",
    " "
   ]
  },
  {
   "cell_type": "code",
   "execution_count": 225,
   "metadata": {},
   "outputs": [
    {
     "data": {
      "text/plain": [
       "datetime\n",
       "2017-05-22 17:00:00    111\n",
       "2017-05-22 18:00:00      1\n",
       "2017-05-22 19:00:00      0\n",
       "2017-05-22 20:00:00      0\n",
       "2017-05-22 21:00:00      0\n",
       "2017-05-22 22:00:00      0\n",
       "2017-05-22 23:00:00      0\n",
       "2017-05-23 00:00:00      0\n",
       "2017-05-23 01:00:00      0\n",
       "2017-05-23 02:00:00      0\n",
       "2017-05-23 03:00:00      0\n",
       "2017-05-23 04:00:00      0\n",
       "2017-05-23 05:00:00      0\n",
       "2017-05-23 06:00:00      0\n",
       "2017-05-23 07:00:00      0\n",
       "2017-05-23 08:00:00      0\n",
       "2017-05-23 09:00:00      0\n",
       "2017-05-23 10:00:00      0\n",
       "2017-05-23 11:00:00      0\n",
       "2017-05-23 12:00:00      0\n",
       "2017-05-23 13:00:00      0\n",
       "2017-05-23 14:00:00      0\n",
       "2017-05-23 15:00:00      0\n",
       "2017-05-23 16:00:00      0\n",
       "2017-05-23 17:00:00      0\n",
       "2017-05-23 18:00:00      0\n",
       "2017-05-23 19:00:00      0\n",
       "2017-05-23 20:00:00      0\n",
       "2017-05-23 21:00:00      0\n",
       "2017-05-23 22:00:00      0\n",
       "                      ... \n",
       "2017-05-31 12:00:00    175\n",
       "2017-05-31 13:00:00    126\n",
       "2017-05-31 14:00:00     46\n",
       "2017-05-31 15:00:00     23\n",
       "2017-05-31 16:00:00    154\n",
       "2017-05-31 17:00:00     64\n",
       "2017-05-31 18:00:00    166\n",
       "2017-05-31 19:00:00    155\n",
       "2017-05-31 20:00:00     14\n",
       "2017-05-31 21:00:00      0\n",
       "2017-05-31 22:00:00      0\n",
       "2017-05-31 23:00:00      0\n",
       "2017-06-01 00:00:00      0\n",
       "2017-06-01 01:00:00      0\n",
       "2017-06-01 02:00:00      0\n",
       "2017-06-01 03:00:00      0\n",
       "2017-06-01 04:00:00      0\n",
       "2017-06-01 05:00:00      0\n",
       "2017-06-01 06:00:00      0\n",
       "2017-06-01 07:00:00      0\n",
       "2017-06-01 08:00:00      0\n",
       "2017-06-01 09:00:00      0\n",
       "2017-06-01 10:00:00      0\n",
       "2017-06-01 11:00:00      0\n",
       "2017-06-01 12:00:00      0\n",
       "2017-06-01 13:00:00      0\n",
       "2017-06-01 14:00:00      0\n",
       "2017-06-01 15:00:00      0\n",
       "2017-06-01 16:00:00      0\n",
       "2017-06-01 17:00:00     14\n",
       "Freq: H, Name: timestamp, dtype: int64"
      ]
     },
     "execution_count": 225,
     "metadata": {},
     "output_type": "execute_result"
    }
   ],
   "source": [
    "# create a dataframe that has a subset of rows that only contain valid datetime values\n",
    "clean_dates = shelf_data[shelf_data.datetime.notnull()]\n",
    "clean_dates = clean_dates.set_index('datetime')\n",
    "#clean_dates['hour'] = clean_dates['datetime'].strftime('%Y-%M-%d %H')\n",
    "\n",
    "clean_dates\n",
    "\n",
    "# resample the timestamps by hour and return the frequency distribution\n",
    "r = clean_dates.resample(\"1H\")\n",
    "\n",
    "r_count = r.count() # .loc[(r_count.timestamp > 0)]\n",
    "\n",
    "r_count.timestamp"
   ]
  },
  {
   "cell_type": "code",
   "execution_count": 226,
   "metadata": {},
   "outputs": [
    {
     "data": {
      "text/plain": [
       "<matplotlib.axes._subplots.AxesSubplot at 0x7f8793253cc0>"
      ]
     },
     "execution_count": 226,
     "metadata": {},
     "output_type": "execute_result"
    },
    {
     "data": {
      "image/png": "[encoded data removed]",
      "text/plain": [
       "<matplotlib.figure.Figure at 0x7f8793a0e470>"
      ]
     },
     "metadata": {},
     "output_type": "display_data"
    }
   ],
   "source": [
    "r_count['timestamp'].plot()"
   ]
  },
  {
   "cell_type": "markdown",
   "metadata": {},
   "source": [
    "## 3. Aggregate the occupied space for all of the shelves for each range\n",
    "\n",
    "The following sub-tasks are required for this part of our analysis:\n",
    "\n",
    "* Total the occupied space for all of the whole shelves - i.e. those where the start and end range alpha values are the same\n",
    "* Estimate the occupied space for all of the partial shelves\n",
    "* Add these numbers up  for an estimate of the total occupied space for each range"
   ]
  },
  {
   "cell_type": "code",
   "execution_count": 227,
   "metadata": {
    "scrolled": false
   },
   "outputs": [],
   "source": [
    "full_shelves = shelf_data.loc[(shelf_data.leading_alpha == shelf_data.ending_alpha)]\n",
    "partial_shelves = shelf_data.loc[(shelf_data.leading_alpha != shelf_data.ending_alpha)].loc[(shelf_data.leading_alpha.notnull())]\n",
    "\n",
    "# convert our column to numeric values instead of the string type it defaulted to - adding strings is not \n",
    "# what we want to do. Partial shelves are arbitrarily assigned half of the occupied value and the capacity. \n",
    "pd.to_numeric(full_shelves['occupied_in'], errors=\"coerce\")\n",
    "partial_shelves['partial_occupied_in'] = pd.to_numeric(partial_shelves['occupied_in'], errors=\"coerce\") / 2\n",
    "partial_shelves['partial_capacity'] = pd.to_numeric(partial_shelves['capacity'], errors=\"coerce\") / 2\n",
    "\n",
    "\n",
    "#print(full_shelves[['leading_alpha','ending_alpha','occupied_in','capacity']])\n",
    "#print(partial_shelves[['leading_alpha','ending_alpha','partial_occupied_in','partial_capacity']])"
   ]
  },
  {
   "cell_type": "markdown",
   "metadata": {},
   "source": [
    "## 4. Calculate occupied and total shelf space for each LC subject\n",
    "\n",
    "For this we need to:\n",
    "\n",
    "* Group the individual shelf data by LC subject categories\n",
    "* Calculate the occupied and total capacity for each group\n",
    "* Calculate some derived values for reporting"
   ]
  },
  {
   "cell_type": "code",
   "execution_count": 228,
   "metadata": {},
   "outputs": [
    {
     "data": {
      "image/png": "[encoded data removed]",
      "text/plain": [
       "<matplotlib.figure.Figure at 0x7f87917f9be0>"
      ]
     },
     "metadata": {},
     "output_type": "display_data"
    }
   ],
   "source": [
    "# import a useful library for doing calculations on arrays - including our data table and its columns\n",
    "import numpy as np\n",
    "\n",
    "# group our full and partial shelves by the leading_alpha subject string\n",
    "full_shelves_by_range = full_shelves.groupby('leading_alpha')\n",
    "partial_shelves_by_range = partial_shelves.groupby('leading_alpha')\n",
    "\n",
    "# calculate the sum for all of the numeric columns for our full and partial shelves\n",
    "full_ranges = full_shelves_by_range.aggregate(np.sum)\n",
    "partial_ranges = partial_shelves_by_range.aggregate(np.sum)\n",
    "\n",
    "# calculate some new columns of data for each range\n",
    "combined_by_lc = pd.concat([full_ranges,partial_ranges], axis=1)\n",
    "combined_by_lc['total_occupied_in'] = combined_by_lc[['occupied_in','partial_occupied_in']].sum(axis=1)\n",
    "combined_by_lc['total_capacity_in'] = combined_by_lc[['capacity','partial_capacity']].sum(axis=1)\n",
    "combined_by_lc['total_empty_in'] = combined_by_lc['total_capacity_in'] - combined_by_lc['total_occupied_in']\n",
    "combined_by_lc['total_empty_pct'] =  100 * (1-combined_by_lc['total_occupied_in'] / combined_by_lc['total_capacity_in'])\n",
    "\n",
    "# now let's generate some plots for fun\n",
    "\n",
    "lc_plot = combined_by_lc['total_empty_in'].plot(kind=\"barh\",stacked=False,figsize={8,10}, title=\"Empty space (in) for each LC subject\")\n",
    "lc_fig = lc_plot.get_figure()\n",
    "lc_fig.savefig(\"lc_fig.png\")\n",
    "\n",
    "report_content.append(\"\"\"\n",
    "![Empty Space (in) for each LC subject](lc_fig.png)\n",
    "\n",
    "\"\"\")\n",
    "\n",
    "# cumulative = combined_by_lc[['total_occupied_in','total_capacity_in','total_empty_in']].cumsum()\n",
    "# print(cumulative)\n",
    "\n",
    "#cumulative.plot(kind=\"barh\",stacked=True,figsize={8,10})"
   ]
  },
  {
   "cell_type": "markdown",
   "metadata": {
    "collapsed": true
   },
   "source": [
    "## 5. Repeat the above range-level analyses for the full top-level LC subject category prefixes"
   ]
  },
  {
   "cell_type": "code",
   "execution_count": 229,
   "metadata": {},
   "outputs": [
    {
     "data": {
      "image/png": "[encoded data removed]",
      "text/plain": [
       "<matplotlib.figure.Figure at 0x7f879188b128>"
      ]
     },
     "metadata": {},
     "output_type": "display_data"
    }
   ],
   "source": [
    "prefix_full_shelves = shelf_data.loc[(shelf_data.leading_prefix == shelf_data.ending_prefix)]\n",
    "prefix_partial_shelves = shelf_data.loc[(shelf_data.leading_prefix != shelf_data.ending_prefix)].loc[(shelf_data.leading_prefix.notnull())]\n",
    "\n",
    "# convert our column to numeric values instead of the string type it defaulted to - adding strings is not \n",
    "# what we want to do. Partial shelves are arbitrarily assigned half of the occupied value and the capacity. \n",
    "pd.to_numeric(prefix_full_shelves['occupied_in'], errors=\"coerce\")\n",
    "prefix_partial_shelves['partial_occupied_in'] = pd.to_numeric(prefix_partial_shelves['occupied_in'], errors=\"coerce\") / 2\n",
    "prefix_partial_shelves['partial_capacity'] = pd.to_numeric(prefix_partial_shelves['capacity'], errors=\"coerce\") / 2\n",
    "\n",
    "\n",
    "#print(full_shelves[['leading_prefix','ending_prefix','occupied_in','capacity']])\n",
    "#print(partial_shelves[['leading_prefix','ending_prefix','partial_occupied_in','partial_capacity']])\n",
    "\n",
    "# import a useful library for doing calculations on arrays - including our data table and its columns\n",
    "import numpy as np\n",
    "\n",
    "# group our full and partial shelves by the leading_alpha subject string\n",
    "prefix_full_shelves_by_range = prefix_full_shelves.groupby('leading_prefix')\n",
    "prefix_partial_shelves_by_range = prefix_partial_shelves.groupby('leading_prefix')\n",
    "\n",
    "# calculate the sum for all of the numeric columns for our full and partial shelves\n",
    "prefix_full_ranges = prefix_full_shelves_by_range.aggregate(np.sum)\n",
    "prefix_partial_ranges = prefix_partial_shelves_by_range.aggregate(np.sum)\n",
    "\n",
    "# calculate some new columns of data for each range\n",
    "prefix_combined_by_lc = pd.concat([prefix_full_ranges,prefix_partial_ranges], axis=1)\n",
    "prefix_combined_by_lc['total_occupied_in'] = prefix_combined_by_lc[['occupied_in','partial_occupied_in']].sum(axis=1)\n",
    "prefix_combined_by_lc['total_capacity_in'] = prefix_combined_by_lc[['capacity','partial_capacity']].sum(axis=1)\n",
    "prefix_combined_by_lc['total_empty_in'] = prefix_combined_by_lc['total_capacity_in'] - prefix_combined_by_lc['total_occupied_in']\n",
    "prefix_combined_by_lc['total_empty_pct'] =  100 * (1-prefix_combined_by_lc['total_occupied_in'] / prefix_combined_by_lc['total_capacity_in'])\n",
    "\n",
    "# now let's generate some plots for fun\n",
    "\n",
    "prefix_plot = prefix_combined_by_lc['total_empty_in'].plot(kind=\"barh\",stacked=False,figsize={8,10}, title=\"Empty space (in) for each LC subject\")\n",
    "prefix_fig = prefix_plot.get_figure()\n",
    "prefix_fig.savefig(\"prefix_fig.png\")\n",
    "\n",
    "report_content.append(\"\"\"\n",
    "![Empty Space (in) for each LC subject prefix](prefix_fig.png)\n",
    "\n",
    "\"\"\")\n",
    "\n",
    "\n",
    "\n",
    "# prefix_cumulative = prefix_combined_by_lc[['total_occupied_in','total_capacity_in','total_empty_in']].cumsum()\n",
    "# print(cumulative)\n",
    "\n",
    "#cumulative.plot(kind=\"barh\",stacked=True,figsize={8,10})"
   ]
  },
  {
   "cell_type": "markdown",
   "metadata": {},
   "source": [
    "## Generate a report with the results"
   ]
  },
  {
   "cell_type": "code",
   "execution_count": 230,
   "metadata": {},
   "outputs": [
    {
     "name": "stdout",
     "output_type": "stream",
     "text": [
      "For Library of Congress Subject Prefixes\n",
      "\tTotal Capacity (in): 144786.75\n",
      "\tTotal Occupied (in): 129149.0\n",
      "\tTotal Empty Space (in): 15637.75\n",
      "\tTotal Empty Space (pct): 10.800539414\n",
      "\n",
      "For Library of Congress Subjects\n",
      "\tTotal Capacity (in): 145532.25\n",
      "\tTotal Occupied (in): 129815.5\n",
      "\tTotal Empty Space (in): 15716.75\n",
      "\tTotal Empty Space (pct): 10.7994963316\n",
      "\n"
     ]
    }
   ],
   "source": [
    "report_content.append(\"\"\"\n",
    "# UNM College of University Libraries and Learning Sciences Shelf Space Analysis\n",
    "\n",
    "This is where some intro text will go ...\n",
    "\"\"\")\n",
    "\n",
    "# calculate some overall totals for all LC subjects\n",
    "prefix_grand_total_capacity_in = prefix_combined_by_lc['total_capacity_in'].sum()\n",
    "prefix_grand_total_occupied_in = prefix_combined_by_lc['total_occupied_in'].sum()\n",
    "prefix_grand_total_empty_in = prefix_combined_by_lc['total_empty_in'].sum()\n",
    "prefix_grand_total_empty_pct = 100 * (prefix_grand_total_empty_in / prefix_grand_total_capacity_in)\n",
    "\n",
    "# print out the generated information\n",
    "print(\"For Library of Congress Subject Prefixes\")\n",
    "print(\"\\tTotal Capacity (in): \" + str(prefix_grand_total_capacity_in))\n",
    "print(\"\\tTotal Occupied (in): \" + str(prefix_grand_total_occupied_in))\n",
    "print(\"\\tTotal Empty Space (in): \" + str(prefix_grand_total_empty_in))\n",
    "print(\"\\tTotal Empty Space (pct): \" + str(prefix_grand_total_empty_pct))\n",
    "print()\n",
    "\n",
    "# write the information into the report\n",
    "report_content.append(\"\"\"\n",
    "## Summary information for LC subject prefixes\n",
    "\n",
    "Total Capacity (in): %s\\\\\n",
    "Total Occupied (in): %s\\\\\n",
    "Total Empty Space (in): %s\\\\\n",
    "Total Empty Space (pct): %s\\\\\n",
    "\n",
    "\"\"\"%(\n",
    "        prefix_grand_total_capacity_in,\n",
    "        prefix_grand_total_occupied_in,\n",
    "        prefix_grand_total_empty_in,\n",
    "        prefix_grand_total_empty_pct\n",
    "    ) \n",
    ")\n",
    "\n",
    "# calculate some overall totals for all LC subjects\n",
    "grand_total_capacity_in = combined_by_lc['total_capacity_in'].sum()\n",
    "grand_total_occupied_in = combined_by_lc['total_occupied_in'].sum()\n",
    "grand_total_empty_in = combined_by_lc['total_empty_in'].sum()\n",
    "grand_total_empty_pct = 100 * (grand_total_empty_in / grand_total_capacity_in)\n",
    "\n",
    "# print out the generated information\n",
    "print(\"For Library of Congress Subjects\")\n",
    "print(\"\\tTotal Capacity (in): \" + str(grand_total_capacity_in))\n",
    "print(\"\\tTotal Occupied (in): \" + str(grand_total_occupied_in))\n",
    "print(\"\\tTotal Empty Space (in): \" + str(grand_total_empty_in))\n",
    "print(\"\\tTotal Empty Space (pct): \" + str(grand_total_empty_pct))\n",
    "print()\n",
    "\n",
    "# write the information into the report\n",
    "report_content.append(\"\"\"\n",
    "## Summary information for LC subjects\n",
    "\n",
    "Total Capacity (in): %s\\\\\n",
    "Total Occupied (in): %s\\\\\n",
    "Total Empty Space (in): %s\\\\\n",
    "Total Empty Space (pct): %s\\\\\n",
    "\n",
    "\"\"\"%(\n",
    "        grand_total_capacity_in,\n",
    "        grand_total_occupied_in,\n",
    "        grand_total_empty_in,\n",
    "        grand_total_empty_pct\n",
    "    ) \n",
    ")\n"
   ]
  },
  {
   "cell_type": "code",
   "execution_count": 231,
   "metadata": {},
   "outputs": [
    {
     "name": "stdout",
     "output_type": "stream",
     "text": [
      "      Occupied (in)    Capacity (in)    Empty (in)    Empty (pct)\n",
      "--  ---------------  ---------------  ------------  -------------\n",
      "*                 0          2130          2130         100\n",
      "A              4220          4828           608          12.5932\n",
      "B             57100         63403          6303           9.94117\n",
      "C              8464          9744.75       1280.75       13.143\n",
      "D             59365         64681          5316           8.2188\n",
      "       Occupied (in)    Capacity (in)    Empty (in)    Empty (pct)\n",
      "---  ---------------  ---------------  ------------  -------------\n",
      "*                0            2130          2130         100\n",
      "A               45              53.25          8.25       15.493\n",
      "AC            1214.5          1402.25        187.75       13.3892\n",
      "AE            1231            1420           189          13.3099\n",
      "AG             331.5           372.75         41.25       11.0664\n",
      "AI              49.5            53.25          3.75        7.04225\n",
      "AM             366             390.5          24.5         6.27401\n",
      "AP             207.5           230.75         23.25       10.0758\n",
      "AS             621             727.75        106.75       14.6685\n",
      "AY              78.5            88.75         10.25       11.5493\n",
      "AZ             180             213            33          15.493\n",
      "B            13594.5         15637.8        2043.25       13.0661\n",
      "BC             776             940.75        164.75       17.5126\n",
      "BD            2322.5          2680.25        357.75       13.3476\n",
      "BH             750             869.75        119.75       13.7683\n",
      "BJ            2166            2502.75        336.75       13.4552\n",
      "BL            6730            7508.25        778.25       10.3653\n",
      "BM            2034.5          2183.25        148.75        6.81324\n",
      "BP            1585            1721.75        136.75        7.9425\n",
      "BQ            1073            1171.5          98.5         8.40802\n",
      "BR            5478            6106           628          10.285\n",
      "BS            4828            5023.25        195.25        3.88693\n",
      "BT            3012            3195           183           5.7277\n",
      "BV            2500            2751.25        251.25        9.13221\n",
      "BX           10405           11289           884           7.83063\n",
      "C               36              53.25         17.25       32.3944\n",
      "CB            2039            2378.5         339.5        14.2737\n",
      "CC            1207.5          1366.75        159.25       11.6517\n",
      "CD            1330            1544.25        214.25       13.874\n",
      "CE              51              53.25          2.25        4.22535\n",
      "CJ             175             195.25         20.25       10.3713\n",
      "CN             106.5           124.25         17.75       14.2857\n",
      "CR             217             230.75         13.75        5.95883\n",
      "CS             699.5           798.75         99.25       12.4257\n",
      "CT            2726            3141.75        415.75       13.2331\n",
      "D            13744           14892.2        1148.25        7.71039\n",
      "DA           10809           11626.2         817.25        7.02935\n",
      "DAW             51              53.25          2.25        4.22535\n",
      "DB            1027.5          1082.75         55.25        5.10275\n",
      "DC            4652.5          5094.25        441.75        8.67154\n",
      "DD            3400            3567.75        167.75        4.70184\n",
      "DE             352             372.75         20.75        5.56673\n",
      "DF            1531.5          1686.25        154.75        9.17717\n",
      "DG            2861.5          3106.25        244.75        7.87928\n",
      "DH             247.5           266.25         18.75        7.04225\n",
      "DJ             121.5           124.25          2.75        2.21328\n",
      "DJK            233             266.25         33.25       12.4883\n",
      "DK            4562.5          5058.75        496.25        9.80974\n",
      "DL             399             443.75         44.75       10.0845\n",
      "DP            7748            8715.25        967.25       11.0984\n",
      "DQ             144             159.75         15.75        9.85915\n",
      "DR             932.5          1011.75         79.25        7.83296\n",
      "DS            6832            7455           623           8.35681\n"
     ]
    }
   ],
   "source": [
    "# generate some tables for the report\n",
    "prefix_table = tabulate(prefix_combined_by_lc[['total_occupied_in','total_capacity_in','total_empty_in', 'total_empty_pct']], headers=[\"Occupied (in)\",\"Capacity (in)\",\"Empty (in)\",\"Empty (pct)\"])\n",
    "subject_table = tabulate(combined_by_lc[['total_occupied_in','total_capacity_in','total_empty_in', 'total_empty_pct']], headers=[\"Occupied (in)\",\"Capacity (in)\",\"Empty (in)\",\"Empty (pct)\"])\n",
    "\n",
    "report_content.append(\"\"\"\n",
    "## Summary Tables\n",
    "\n",
    "%s\n",
    "\n",
    "Table: LC Prefix Space Summary Table\n",
    "\n",
    "%s\n",
    "\n",
    "Table: LC Subject Space Summary Table\n",
    "\n",
    "\n",
    "\"\"\"%(prefix_table, subject_table))\n",
    "\n",
    "\n",
    "print(prefix_table)\n",
    "print(subject_table)"
   ]
  },
  {
   "cell_type": "code",
   "execution_count": 232,
   "metadata": {},
   "outputs": [
    {
     "data": {
      "text/plain": [
       "CompletedProcess(args=['pandoc', '-o report.md.pdf', 'report.md'], returncode=0)"
      ]
     },
     "execution_count": 232,
     "metadata": {},
     "output_type": "execute_result"
    }
   ],
   "source": [
    "# generate the report\n",
    "\n",
    "with open(report_file_name,\"w\") as f:\n",
    "    for block in report_content:\n",
    "        f.write(block)\n",
    "\n",
    "pandoc_options = \"-o %s.pdf %s\"%(report_file_name,report_file_name)\n",
    "        \n",
    "import subprocess\n",
    "subprocess.run(['pandoc', \"-o %s.pdf\"%(report_file_name), report_file_name])"
   ]
  },
  {
   "cell_type": "code",
   "execution_count": null,
   "metadata": {
    "collapsed": true
   },
   "outputs": [],
   "source": []
  }
 ],
 "metadata": {
  "kernelspec": {
   "display_name": "Python 3",
   "language": "python",
   "name": "python3"
  },
  "language_info": {
   "codemirror_mode": {
    "name": "ipython",
    "version": 3
   },
   "file_extension": ".py",
   "mimetype": "text/x-python",
   "name": "python",
   "nbconvert_exporter": "python",
   "pygments_lexer": "ipython3",
   "version": "3.6.1"
  }
 },
 "nbformat": 4,
 "nbformat_minor": 1
}
