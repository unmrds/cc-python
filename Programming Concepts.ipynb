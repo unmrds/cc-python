{
 "cells": [
  {
   "cell_type": "markdown",
   "metadata": {},
   "source": [
    "# A Gentle Introduction to Programming Concepts - Using Python"
   ]
  },
  {
   "cell_type": "markdown",
   "metadata": {},
   "source": [
    "## Introduction"
   ]
  },
  {
   "cell_type": "markdown",
   "metadata": {},
   "source": [
    "### Play along at home\n",
    "\n",
    "You can follow along and through the notebooks that we will be working through by going to the GitHub repository that we manage our content in.\n",
    "\n",
    "* Repository: https://github.com/unmrds/cc-python\n",
    "* Introduction/Concepts (this notebook): \n",
    "    * http://tinyurl.com/cc-python-intro \n",
    "    * https://github.com/unmrds/cc-python/blob/master/Programming%20Concepts.ipynb\n",
    "* Aboutness demo: \n",
    "    * http://tinyurl.com/cc-python-aboutness \n",
    "    * https://github.com/unmrds/cc-python/blob/master/IR%20Keywords%20Versus%20IR%20%22Aboutness%22.ipynb\n",
    "* Space Analysis: \n",
    "    * http://tinyurl.com/cc-python-space \n",
    "    * https://github.com/unmrds/cc-python/blob/master/Space%20Analysis%20.ipynb\n",
    "    \n",
    "You can practice and play with code in Pangeo binder environment: \n",
    "\n",
    "[![Binder](https://binder.pangeo.io/badge_logo.svg)](https://binder.pangeo.io/v2/gh/unmrds/cc-python.git/master)\n",
    "\n",
    "### Why learn the basic principles of programming?\n",
    "\n",
    "* Thinking algorithmically (a key element in the process used in developing programming solutions) is a powerful problem solving skill that is reinforeced with practice. Practicing programming is great practice. \n",
    "    * Defining a problem with sufficient specificity that a solution can be effectively developed\n",
    "    * Defining what the end-product of the process should be\n",
    "    * Breaking a problem down into smaller components that interact with each other\n",
    "    * Identifying the objects/data and actions that are needed to meet the requirements of each component\n",
    "    * Linking components together to solve the defined problem\n",
    "    * Identifying potential expansion points to reuse the developed capacity for solving related problems\n",
    "\n",
    "![Problem decomposition illustration](problemDecomposition.png)\n",
    "\n",
    "* Capabilities to streamline and automate routine processes through scripting are ubiquitous\n",
    "    * Query languages built into existing tools (e.g. Excel, ArcGIS, Word)\n",
    "    * Specialized languages for specific tasks (e.g. R, Pandoc template language, PHP)\n",
    "    * General purpose languages for solving many problems (e.g. Bash shell, Perl, Python, C#)\n",
    "\n",
    "* Repeatabilty with documentation\n",
    "* Scalability\n",
    "* Portability"
   ]
  },
  {
   "cell_type": "markdown",
   "metadata": {},
   "source": [
    "### Why Python?\n",
    "\n",
    "* It is available as a free and [Open Source](https://opensource.org/osd-annotated) programming language that can be \n",
    "installed on numerous computer systems, including Windows, Linux and the Mac OS. It can even be editited and run \n",
    "through a web interface such as this Jupyter Notebook. \n",
    "* It is a modern programming language that includes many features that make it a very efficient language\n",
    "to both learn programming with and write programs in.\n",
    "* It is readable and expressive. \n",
    "* It supports a variety of development models including object-oriented, procedural and functional capabilities. \n",
    "* It includes a standard library of functions that support significant programming capabilities including:\n",
    "    * Handling email\n",
    "    * Interacting with and publishing web and other online resources\n",
    "    * Connecting with a wide variety of databases\n",
    "    * Executing operating system commands\n",
    "    * Developing graphical user interfaces\n",
    "* It is relatively easy to start to become productive in Python, though it still takes time and practice to become\n",
    "an expert (as is the case with any programming language).\n",
    "\n",
    "The primary downside that is mentioned when discussing the choice of Python as a programming language is that as\n",
    "an interpreted language it can execute more slowly than traditional compiled languages such as C or C++. "
   ]
  },
  {
   "cell_type": "markdown",
   "metadata": {},
   "source": [
    "### Can I Play at Home?\n",
    "\n",
    "There are a variety of ways to run Python on your computer:\n",
    "\n",
    "* You may already have a version of Python installed. Many operating systems have a version of Python installed that is used for routine processes within the operating system. You can easily check to see what version of Python might already be on your computer by typing `python` at the `Command Prompt` (Windows) or in the `Terminal` (Mac OS) and seeing what response you get. If Python is installed you will typically see information about the currently installed version and then be taken to the Python command prompt where you can start typing commands. \n",
    "* You can install one of the available versions directly from the Python project site: https://www.python.org/downloads/. Following this installation you will be able to execute commands from the *interactive command prompt* or you can start the *IDLE* integrated development environment (IDE). \n",
    "* You can install a pre-packaged python system such as the Anaconda release of Python (https://www.continuum.io/downloads) that has both Python 2.x and 3.x versions available for download. I prefer this method as it installs a copy of Python that is separate from any previous ones on your system, and allows you to execute the (enhanced) interactive Python command prompt, **and** run the Jupyter Notebook web-based environment for writing and executing Python code. The examples that we will go through today will be executed in the Jupyter Notebook environment. "
   ]
  },
  {
   "cell_type": "markdown",
   "metadata": {},
   "source": [
    "## Running a Python Environment\n",
    "\n",
    "Once Python is installed on your computer you have a number of options for how you start up an environment where you can execute Python commands/code. \n",
    "\n",
    "1. The most simple method is to just type `python` at the *Command Prompt* (Windows) or *Terminal* (Mac OS and Linux). If you installation was successful you will be taken to the interactive prompt. For example:\n",
    "    \n",
    "        UL0100MAC:~ kbene$ python\n",
    "        Python 2.7.10 |Anaconda 2.3.0 (x86_64)| (default, May 28 2015, 17:04:42)\n",
    "        [GCC 4.2.1 (Apple Inc. build 5577)] on darwin\n",
    "        Type \"help\", \"copyright\", \"credits\" or \"license\" for more information.\n",
    "        Anaconda is brought to you by Continuum Analytics.\n",
    "        Please check out: http://continuum.io/thanks and https://binstar.org\n",
    "        >>>\n",
    "\n",
    "2. If you would like to run the IDLE IDE you should be able to find the executable file in the folder where the Python executable installed on your system.\n",
    "\n",
    "3. If you installed the Anaconda release of Python you can type `ipython` at the *Command Prompt* (Windows) or *Terminal* (Mac OS and Linux). If you installation was successful you will be taken to an enhanced (compared with the basic Python prompt) interactive prompt. For example:\n",
    "\n",
    "        UL0100MAC:~ kbene$ ipython\n",
    "        Python 2.7.10 |Anaconda 2.3.0 (x86_64)| (default, May 28 2015, 17:04:42)\n",
    "        Type \"copyright\", \"credits\" or \"license\" for more information.\n",
    "\n",
    "        IPython 3.2.0 -- An enhanced Interactive Python.\n",
    "        Anaconda is brought to you by Continuum Analytics.\n",
    "        Please check out: http://continuum.io/thanks and https://anaconda.org\n",
    "        ?         -> Introduction and overview of IPython's features.\n",
    "        %quickref -> Quick reference.\n",
    "        help      -> Python's own help system.\n",
    "        object?   -> Details about 'object', use 'object??' for extra details.\n",
    "\n",
    "        In [1]:\n",
    "\n",
    "4. If you installed the Anaconda release of Python you can type `jupyter notebook` at the *Command Prompt* (Windows) or *Terminal* (Mac OS and Linux). If you installation was successful you should see some startup messages in the terminal window and your browser should open up and display the *Jupyter Notebook* interface from where you can navigate through your system's folder structure (starting in the folder that you ran the `ipython notebook` command from), and load existing notebooks or create new ones in which you can enter and execute Python commands. You can also start a local Jupyter Notebook instance through the *Anaconda Navigator* application that is included with recent releases of the Anaconda Python distribution. In more recent releases of the Anaconda Python distribution you can run the *Anaconda Navigator* from which you can run *Jupyter Notebooks* and other applications. *This is the interface that we are using for today's workshop**. \n",
    "\n",
    "\n",
    "[![Binder](https://binder.pangeo.io/badge_logo.svg)](https://binder.pangeo.io/v2/gh/unmrds/cc-python.git/master)\n"
   ]
  },
  {
   "cell_type": "markdown",
   "metadata": {},
   "source": [
    "## Getting Help\n",
    "\n",
    "There are a number of strategies that you can use for getting help with specific Python commands and syntax. First and foremost you can access the Python [documentation](https://docs.python.org/3/index.html) which will default to the most recent Python 3.x version that is in production, but from which (in the upper left corner of the page) you can select other Python versions if you are not using the version referenced by the page. Looking at and working through some of the materials in the Python [tutorial](https://docs.python.org/3/tutorial/) is also a great way to see the core Python capabilities in action. \n",
    "\n",
    "In some cases you can find quite a few useful and interesting resources through a resonably crafted Google search: e.g. for [`python create list`](https://www.google.com/search?client=safari&rls=en&q=python+create+list&ie=UTF-8&oe=UTF-8). \n",
    "\n",
    "You can also get targeted help some specific commands or objects from the command prompt by just using the `help()` function. Where you put the name of the command or object between the parentheses `()`. \n",
    "\n",
    "For example:\n",
    "\n",
    "    >>>help(print)\n",
    " \n",
    "and\n",
    "\n",
    "    >>>help(str)\n",
    "\n",
    "and\n",
    "\n",
    "    >>>myVar = [1,2,3,4,5]\n",
    "    >>>help(myVar)"
   ]
  },
  {
   "cell_type": "markdown",
   "metadata": {},
   "source": [
    "### Try It Yourself\n",
    "\n",
    "Type in the help command in a code box in Jupyter Notebook for a few of the following commands/objects and take a look at the information you get:\n",
    "\n",
    "* `dict` - e.g. `help(dict)`\n",
    "* `print`\n",
    "* `sorted`\n",
    "* `float`\n",
    "\n",
    "For some commands/functions you need to import the module that that command belongs to. For example:\n",
    "\n",
    "        import os\n",
    "        help(os.path)\n",
    "\n",
    "Try this pair of commands in a code window in your Jupyter Notebook or interactive terminal. "
   ]
  },
  {
   "cell_type": "code",
   "execution_count": 1,
   "metadata": {
    "collapsed": true
   },
   "outputs": [],
   "source": [
    "# type your help commands in the box and \n",
    "# execute the code in the box by typing shift-enter \n",
    "# (hold down the shift key while hitting the enter/return key)"
   ]
  },
  {
   "cell_type": "markdown",
   "metadata": {},
   "source": [
    "## The Basics\n",
    "\n",
    "At the core of Python (and any programming language) there are some key characteristics of how a program is structured that enable the proper execution of that program. These characteristics include the structure of the code itself, the core data types from which others are built, and core operators that modify objects or create new ones. From these raw materials more complex commands, functions, and modules are built.\n",
    "For guidance on recommended Python structure refer to the [Python Style Guide](https://www.python.org/dev/peps/pep-0008).\n",
    "\n",
    "# Examples: Variables and Data Types\n",
    "\n",
    "## The Interpreter"
   ]
  },
  {
   "cell_type": "code",
   "execution_count": 1,
   "metadata": {},
   "outputs": [
    {
     "data": {
      "text/plain": [
       "6"
      ]
     },
     "execution_count": 1,
     "metadata": {},
     "output_type": "execute_result"
    }
   ],
   "source": [
    "# The interpreter can be used as a calculator, and can also echo or concatenate strings.\n",
    "\n",
    "3 + 3"
   ]
  },
  {
   "cell_type": "code",
   "execution_count": 2,
   "metadata": {},
   "outputs": [
    {
     "data": {
      "text/plain": [
       "9"
      ]
     },
     "execution_count": 2,
     "metadata": {},
     "output_type": "execute_result"
    }
   ],
   "source": [
    "3 * 3"
   ]
  },
  {
   "cell_type": "code",
   "execution_count": 3,
   "metadata": {},
   "outputs": [
    {
     "data": {
      "text/plain": [
       "27"
      ]
     },
     "execution_count": 3,
     "metadata": {},
     "output_type": "execute_result"
    }
   ],
   "source": [
    "3 ** 3"
   ]
  },
  {
   "cell_type": "code",
   "execution_count": 4,
   "metadata": {},
   "outputs": [
    {
     "data": {
      "text/plain": [
       "1.5"
      ]
     },
     "execution_count": 4,
     "metadata": {},
     "output_type": "execute_result"
    }
   ],
   "source": [
    "3 / 2 # classic division - output is a floating point number"
   ]
  },
  {
   "cell_type": "code",
   "execution_count": 5,
   "metadata": {},
   "outputs": [
    {
     "data": {
      "text/plain": [
       "'dogs'"
      ]
     },
     "execution_count": 5,
     "metadata": {},
     "output_type": "execute_result"
    }
   ],
   "source": [
    "# Use quotes around strings\n",
    "\n",
    "'dogs'"
   ]
  },
  {
   "cell_type": "code",
   "execution_count": 6,
   "metadata": {},
   "outputs": [
    {
     "data": {
      "text/plain": [
       "'dogscats'"
      ]
     },
     "execution_count": 6,
     "metadata": {},
     "output_type": "execute_result"
    }
   ],
   "source": [
    "# + operator can be used to concatenate strings\n",
    "\n",
    "'dogs' + \"cats\""
   ]
  },
  {
   "cell_type": "code",
   "execution_count": 7,
   "metadata": {},
   "outputs": [
    {
     "name": "stdout",
     "output_type": "stream",
     "text": [
      "Hello World!\n"
     ]
    }
   ],
   "source": [
    "print('Hello World!')"
   ]
  },
  {
   "cell_type": "markdown",
   "metadata": {},
   "source": [
    "### Try It Yourself\n",
    "\n",
    "Go to the section _4.4. Numeric Types_ in the Python 3 documentation at <https://docs.python.org/3.4/library/stdtypes.html>. The table in that section describes different operators - try some!\n",
    "\n",
    "What is the difference between the different division operators (`/`, `//`, and `%`)?\n",
    "\n",
    "## Variables\n",
    "\n",
    "Variables allow us to store values for later use. "
   ]
  },
  {
   "cell_type": "code",
   "execution_count": 9,
   "metadata": {},
   "outputs": [
    {
     "data": {
      "text/plain": [
       "15"
      ]
     },
     "execution_count": 9,
     "metadata": {},
     "output_type": "execute_result"
    }
   ],
   "source": [
    "a = 5\n",
    "b = 10\n",
    "a + b"
   ]
  },
  {
   "cell_type": "markdown",
   "metadata": {},
   "source": [
    "Variables can be reassigned:"
   ]
  },
  {
   "cell_type": "code",
   "execution_count": 10,
   "metadata": {},
   "outputs": [
    {
     "data": {
      "text/plain": [
       "38764294.1097"
      ]
     },
     "execution_count": 10,
     "metadata": {},
     "output_type": "execute_result"
    }
   ],
   "source": [
    "b = 38764289.1097\n",
    "a + b"
   ]
  },
  {
   "cell_type": "markdown",
   "metadata": {},
   "source": [
    "The ability to reassign variable values becomes important when iterating through groups of objects for batch processing or other purposes. In the example below, the value of `b` is dynamically updated every time the `while` loop is executed:"
   ]
  },
  {
   "cell_type": "code",
   "execution_count": 11,
   "metadata": {},
   "outputs": [
    {
     "name": "stdout",
     "output_type": "stream",
     "text": [
      "b=10\n",
      "b=9\n",
      "b=8\n",
      "b=7\n",
      "b=6\n"
     ]
    }
   ],
   "source": [
    "a = 5\n",
    "b = 10\n",
    "while b > a:\n",
    "    print(\"b=\"+str(b))\n",
    "    b = b-1"
   ]
  },
  {
   "cell_type": "markdown",
   "metadata": {},
   "source": [
    "Variable data types can be inferred, so Python does not require us to declare the data type of a variable on assignment."
   ]
  },
  {
   "cell_type": "code",
   "execution_count": 12,
   "metadata": {},
   "outputs": [
    {
     "data": {
      "text/plain": [
       "int"
      ]
     },
     "execution_count": 12,
     "metadata": {},
     "output_type": "execute_result"
    }
   ],
   "source": [
    "a = 5\n",
    "type(a)"
   ]
  },
  {
   "cell_type": "markdown",
   "metadata": {},
   "source": [
    "is equivalent to"
   ]
  },
  {
   "cell_type": "code",
   "execution_count": 13,
   "metadata": {},
   "outputs": [
    {
     "data": {
      "text/plain": [
       "int"
      ]
     },
     "execution_count": 13,
     "metadata": {},
     "output_type": "execute_result"
    }
   ],
   "source": [
    "a = int(5)\n",
    "type(a)"
   ]
  },
  {
   "cell_type": "code",
   "execution_count": 14,
   "metadata": {},
   "outputs": [
    {
     "name": "stdout",
     "output_type": "stream",
     "text": [
      "<class 'str'>\n",
      "<class 'str'>\n"
     ]
    }
   ],
   "source": [
    "c = 'dogs'\n",
    "print(type(c))\n",
    "\n",
    "c = str('dogs')\n",
    "print(type(c))"
   ]
  },
  {
   "cell_type": "markdown",
   "metadata": {},
   "source": [
    "There are cases when we may want to declare the data type, for example to assign a different data type from the default that will be inferred. Concatenating strings provides a good example. "
   ]
  },
  {
   "cell_type": "code",
   "execution_count": 15,
   "metadata": {},
   "outputs": [
    {
     "ename": "TypeError",
     "evalue": "must be str, not int",
     "output_type": "error",
     "traceback": [
      "\u001b[0;31m---------------------------------------------------------------------------\u001b[0m",
      "\u001b[0;31mTypeError\u001b[0m                                 Traceback (most recent call last)",
      "\u001b[0;32m<ipython-input-15-57638a3a162b>\u001b[0m in \u001b[0;36m<module>\u001b[0;34m\u001b[0m\n\u001b[1;32m      1\u001b[0m \u001b[0mcustomer\u001b[0m \u001b[0;34m=\u001b[0m \u001b[0;34m'Carol'\u001b[0m\u001b[0;34m\u001b[0m\u001b[0;34m\u001b[0m\u001b[0m\n\u001b[1;32m      2\u001b[0m \u001b[0mpizzas\u001b[0m \u001b[0;34m=\u001b[0m \u001b[0;36m2\u001b[0m\u001b[0;34m\u001b[0m\u001b[0;34m\u001b[0m\u001b[0m\n\u001b[0;32m----> 3\u001b[0;31m \u001b[0mprint\u001b[0m\u001b[0;34m(\u001b[0m\u001b[0mcustomer\u001b[0m \u001b[0;34m+\u001b[0m \u001b[0;34m' ordered '\u001b[0m \u001b[0;34m+\u001b[0m \u001b[0mpizzas\u001b[0m \u001b[0;34m+\u001b[0m \u001b[0;34m' pizzas.'\u001b[0m\u001b[0;34m)\u001b[0m\u001b[0;34m\u001b[0m\u001b[0;34m\u001b[0m\u001b[0m\n\u001b[0m",
      "\u001b[0;31mTypeError\u001b[0m: must be str, not int"
     ]
    }
   ],
   "source": [
    "customer = 'Carol'\n",
    "pizzas = 2\n",
    "print(customer + ' ordered ' + pizzas + ' pizzas.')"
   ]
  },
  {
   "cell_type": "markdown",
   "metadata": {},
   "source": [
    "Above, Python has inferred the type of the variable `pizza` to be an integer. Since strings can only be concatenated with other strings, our print statement generates an error. There are two ways we can resolve the error:\n",
    "\n",
    "1. Declare the `pizzas` variable as type string (`str`) on assignment or\n",
    "2. Re-cast the `pizzas` variable as a string within the `print` statement."
   ]
  },
  {
   "cell_type": "code",
   "execution_count": 16,
   "metadata": {},
   "outputs": [
    {
     "name": "stdout",
     "output_type": "stream",
     "text": [
      "Carol ordered 2 pizzas.\n"
     ]
    }
   ],
   "source": [
    "customer = 'Carol'\n",
    "pizzas = str(2)\n",
    "print(customer + ' ordered ' + pizzas + ' pizzas.')"
   ]
  },
  {
   "cell_type": "code",
   "execution_count": 17,
   "metadata": {},
   "outputs": [
    {
     "name": "stdout",
     "output_type": "stream",
     "text": [
      "Carol ordered 2 pizzas.\n"
     ]
    }
   ],
   "source": [
    "customer = 'Carol'\n",
    "pizzas = 2\n",
    "print(customer + ' ordered ' + str(pizzas) + ' pizzas.')"
   ]
  },
  {
   "cell_type": "markdown",
   "metadata": {},
   "source": [
    "Given the following variable assignments:\n",
    "\n",
    "```\n",
    "x = 12\n",
    "y = str(14)\n",
    "z = donuts\n",
    "```\n",
    "\n",
    "Predict the output of the following:\n",
    "\n",
    "1. `y + z`\n",
    "2. `x + y`\n",
    "3. `x + int(y)`\n",
    "4. `str(x) + y`\n",
    "\n",
    "Check your answers in the interpreter.\n",
    "\n",
    "### Variable Naming Rules\n",
    "\n",
    "Variable names are case senstive and:\n",
    "\n",
    "1. Can only consist of one \"word\" (no spaces).\n",
    "2. Must begin with a letter or underscore character ('\\_').\n",
    "3. Can only use letters, numbers, and the underscore character.\n",
    "\n",
    "We further recommend using variable names that are meaningful within the context of the script and the research."
   ]
  },
  {
   "cell_type": "markdown",
   "metadata": {},
   "source": [
    "### Structure\n",
    "\n",
    "#### Blocks\n",
    "\n",
    "The structure of a Python program is pretty simple:\n",
    "Blocks of code are defined using indentation. Code that is at a lower level of indentation is not considerd part of a block. Indentation can be defined using spaces or tabs (spaces are recommended by the style guide), but be consistent (and prepared to defend your choice). As we will see, code blocks define the boundaries of sets of commands that fit within a given section of code. This indentation model for defining blocks of code significantly increases the readabiltiy of Python code.\n",
    "\n",
    "For example:\n",
    "\n",
    "    >>>a = 5\n",
    "    >>>b = 10\n",
    "    >>>while b > a:\n",
    "    ...    print(\"b=\"+str(b))\n",
    "    ...    b = b-1\n",
    "    >>>print(\"I'm outside the block\")"
   ]
  },
  {
   "cell_type": "markdown",
   "metadata": {},
   "source": [
    "#### Comments & Documentation\n",
    "\n",
    "You can (and should) also include documentation and comments in the code your write - both for yourself, and potential future users (including yourself). Comments are pretty much any content on a line that follows a `#` symbol (unless it is between quotation marks. For example:\n",
    "\n",
    "    >>># we're going to do some math now\n",
    "    >>>yae = 5                   # the number of votes in favor\n",
    "    >>>nay = 10                  # the number of votes against\n",
    "    >>>proportion = yae / nay    # the proportion of votes in favor\n",
    "    >>>print(proportion)\n"
   ]
  },
  {
   "cell_type": "markdown",
   "metadata": {},
   "source": [
    "When you are creating functions or classes (a bit more on what these are in a bit) you can also create what are called *doc strings* that provide a defined location for content that is used to generate the `help()` information highlighted above and is also used by other systems for the automatic generation of documentation for packages that contain these *doc strings*. Creating a *doc string* is simple - just create a single or multi-line text string (more on this soon) that starts on the first indented line following the start of the definition of the function or class. For example:  \n",
    "\n",
    "    >>># we're going to create a documented function and then access the information about the function\n",
    "    >>>def doc_demo(some_text=\"Ill skewer yer gizzard, ye salty sea bass\"):\n",
    "    ...    \"\"\"This function takes the provided text and prints it out in Pirate\n",
    "    ...    \n",
    "    ...    If a string is not provided for `some_text` a default message will be displayed\n",
    "    ...    \"\"\"\n",
    "    ...    out_string = \"Ahoy Matey. \" + some_text\n",
    "    ...    print(out_string)\n",
    "    >>>help(doc_demo)\n",
    "    >>>doc_demo()\n",
    "    >>>doc_demo(\"Sail ho!\")"
   ]
  },
  {
   "cell_type": "markdown",
   "metadata": {},
   "source": [
    "### Standard Objects\n",
    "\n",
    "Any programming language has at its foundation a collection of *types* or in Python's terminology *objects*. The standard objects of Python consist of the following:\n",
    "\n",
    "* **Numbers** - integer, floating point, complex, and multiple-base defined numeric values\n",
    "* **Strings** - **immutable** strings of characters, numbers, and symbols that are bounded by single- or double-quotes\n",
    "* **Lists** - an ordered collection of objects that is bounded by square-brackets - `[]`. Elements in lists are extracted or referenced by their position in the list. For example, `my_list[0]` refers to the first item in the list, `my_list[5]` the sixth, and `my_list[-1]` to the last item in the list. \n",
    "* **Dictionaries** -  an unordered collection of objects that are referenced by *keys* that allow for referring to those objexts by reference to those keys. Dictionaryies are bounded by curley-brackets - `{}` with each element of the dictionary consisting of a *key* (string) and a *value* (object) separated by a colon `:`. Elements of a dictionary are extracted or referenced using their keys. for example:\n",
    "\n",
    "        my_dict = {\"key1\":\"value1\", \"key2\":36, \"key3\":[1,2,3]}\n",
    "        my_dict['key1'] returns \"value1\"\n",
    "        my_dict['key3'] returns [1,2,3]\n",
    "\n",
    "* **Tuples** - **immutable** lists that are bounded by parentheses = `()`. Referencing elements in a tuple is the same as referencing elements in a list above. \n",
    "* **Files** - objects that represent external files on the file system. Programs can interact with (e.g. read, write, append) external files through their representative file objects in the program.\n",
    "* **Sets** - unordered, collections of **immutable** objects (i.e. ints, floats, strings, and tuples) where membership in the set and uniqueness within the set are defining characteristics of the member objects. Sets are created using the `set` function on a sequence of objects. A specialized list of operators on sets allow for identifying *union*, *intersection*, and *difference* (among others) between sets. \n",
    "* **Other core types** - Booleans, types, `None`\n",
    "* **Program unit types** - *functions*, *modules*, and *classes* for example\n",
    "* **Implementation-related types** (not covered in this workshop)\n",
    "\n",
    "These objects have their own sets of related methods (as we saw in the `help()` examples above) that enable their creation, and operations upon them."
   ]
  },
  {
   "cell_type": "markdown",
   "metadata": {},
   "source": [
    "    >>># Fun with types\n",
    "    >>>\n",
    "    >>>this = 12\n",
    "    >>>that = 15\n",
    "    >>>the_other = \"27\"\n",
    "    >>>my_stuff = [this,that,the_other,[\"a\",\"b\",\"c\",4]]\n",
    "    >>>more_stuff = {\n",
    "    ...    \"item1\": this, \n",
    "    ...    \"item2\": that, \n",
    "    ...    \"item3\": the_other, \n",
    "    ...    \"item4\": my_stuff\n",
    "    ...}\n",
    "    >>>this + that\n",
    "    >>>\n",
    "    >>># this won't work ...\n",
    "    >>>this + that + the_other\n",
    "    >>>\n",
    "    >>># ... but this will ...\n",
    "    >>>this + that + int(the_other)\n",
    "    >>>\n",
    "    >>># ...and this too\n",
    "    >>>str(this) + str(that) + the_other"
   ]
  },
  {
   "cell_type": "markdown",
   "metadata": {},
   "source": [
    "## Lists\n",
    "\n",
    "<https://docs.python.org/3/library/stdtypes.html?highlight=lists#list>\n",
    "\n",
    "Lists are a type of collection in Python. Lists allow us to store sequences of items that are typically but not always similar. All of the following lists are legal in Python:"
   ]
  },
  {
   "cell_type": "code",
   "execution_count": 18,
   "metadata": {
    "collapsed": true
   },
   "outputs": [],
   "source": [
    "# Separate list items with commas!\n",
    "\n",
    "number_list = [1, 2, 3, 4, 5]\n",
    "string_list = ['apples', 'oranges', 'pears', 'grapes', 'pineapples']\n",
    "combined_list = [1, 2, 'oranges', 3.14, 'peaches', 'grapes', 99.19876]\n",
    "\n",
    "# Nested lists - lists of lists - are allowed.\n",
    "\n",
    "list_of_lists = [[1, 2, 3], ['oranges', 'grapes', 8], [['small list'], ['bigger', 'list', 55], ['url_1', 'url_2']]]"
   ]
  },
  {
   "cell_type": "markdown",
   "metadata": {},
   "source": [
    "There are multiple ways to create a list:"
   ]
  },
  {
   "cell_type": "code",
   "execution_count": 19,
   "metadata": {
    "collapsed": true
   },
   "outputs": [],
   "source": [
    "# Create an empty list\n",
    "\n",
    "empty_list = []\n",
    "\n",
    "# As we did above, by using square brackets around a comma-separated sequence of items\n",
    "\n",
    "new_list = [1, 2, 3]\n",
    "\n",
    "# Using the type constructor\n",
    "\n",
    "constructed_list = list('purple')\n",
    "\n",
    "# Using a list comprehension\n",
    "\n",
    "result_list = [i for i in range(1, 20)]"
   ]
  },
  {
   "cell_type": "markdown",
   "metadata": {},
   "source": [
    "We can inspect our lists:"
   ]
  },
  {
   "cell_type": "code",
   "execution_count": 20,
   "metadata": {},
   "outputs": [
    {
     "data": {
      "text/plain": [
       "[]"
      ]
     },
     "execution_count": 20,
     "metadata": {},
     "output_type": "execute_result"
    }
   ],
   "source": [
    "empty_list"
   ]
  },
  {
   "cell_type": "code",
   "execution_count": 21,
   "metadata": {},
   "outputs": [
    {
     "data": {
      "text/plain": [
       "[1, 2, 3]"
      ]
     },
     "execution_count": 21,
     "metadata": {},
     "output_type": "execute_result"
    }
   ],
   "source": [
    "new_list"
   ]
  },
  {
   "cell_type": "code",
   "execution_count": 22,
   "metadata": {},
   "outputs": [
    {
     "data": {
      "text/plain": [
       "[1, 2, 3, 4, 5, 6, 7, 8, 9, 10, 11, 12, 13, 14, 15, 16, 17, 18, 19]"
      ]
     },
     "execution_count": 22,
     "metadata": {},
     "output_type": "execute_result"
    }
   ],
   "source": [
    "result_list"
   ]
  },
  {
   "cell_type": "code",
   "execution_count": 23,
   "metadata": {},
   "outputs": [
    {
     "data": {
      "text/plain": [
       "['p', 'u', 'r', 'p', 'l', 'e']"
      ]
     },
     "execution_count": 23,
     "metadata": {},
     "output_type": "execute_result"
    }
   ],
   "source": [
    "constructed_list"
   ]
  },
  {
   "cell_type": "markdown",
   "metadata": {},
   "source": [
    "The above output for `typed_list` may seem odd. Referring to the documentation, we see that the argument to the type constructor is an _iterable_, which according to the documentation is \"An object capable of returning its members one at a time.\" In our construtor statement above\n",
    "\n",
    "```\n",
    "# Using the type constructor\n",
    "\n",
    "constructed_list = list('purple')\n",
    "```\n",
    "\n",
    "the word 'purple' is the object - in this case a word - that when used to construct a list returns its members (individual letters) one at a time.\n",
    "\n",
    "Compare the outputs below:"
   ]
  },
  {
   "cell_type": "code",
   "execution_count": 24,
   "metadata": {},
   "outputs": [
    {
     "ename": "TypeError",
     "evalue": "'int' object is not iterable",
     "output_type": "error",
     "traceback": [
      "\u001b[0;31m---------------------------------------------------------------------------\u001b[0m",
      "\u001b[0;31mTypeError\u001b[0m                                 Traceback (most recent call last)",
      "\u001b[0;32m<ipython-input-24-c2e9f559c5ec>\u001b[0m in \u001b[0;36m<module>\u001b[0;34m\u001b[0m\n\u001b[0;32m----> 1\u001b[0;31m \u001b[0mconstructed_list_int\u001b[0m \u001b[0;34m=\u001b[0m \u001b[0mlist\u001b[0m\u001b[0;34m(\u001b[0m\u001b[0;36m123\u001b[0m\u001b[0;34m)\u001b[0m\u001b[0;34m\u001b[0m\u001b[0;34m\u001b[0m\u001b[0m\n\u001b[0m",
      "\u001b[0;31mTypeError\u001b[0m: 'int' object is not iterable"
     ]
    }
   ],
   "source": [
    "constructed_list_int = list(123)"
   ]
  },
  {
   "cell_type": "code",
   "execution_count": 25,
   "metadata": {},
   "outputs": [
    {
     "data": {
      "text/plain": [
       "['1', '2', '3']"
      ]
     },
     "execution_count": 25,
     "metadata": {},
     "output_type": "execute_result"
    }
   ],
   "source": [
    "constructed_list_str = list('123')\n",
    "constructed_list_str"
   ]
  },
  {
   "cell_type": "markdown",
   "metadata": {},
   "source": [
    "Lists in Python are:\n",
    "\n",
    "* mutable - the list and list items can be changed\n",
    "* ordered - list items keep the same \"place\" in the list\n",
    "\n",
    "_Ordered_ here does not mean sorted. The list below is printed with the numbers in the order we added them to the list, not in numeric order:"
   ]
  },
  {
   "cell_type": "code",
   "execution_count": 26,
   "metadata": {},
   "outputs": [
    {
     "data": {
      "text/plain": [
       "[3, 2, 7, 1, 19, 0]"
      ]
     },
     "execution_count": 26,
     "metadata": {},
     "output_type": "execute_result"
    }
   ],
   "source": [
    "ordered = [3, 2, 7, 1, 19, 0]\n",
    "ordered"
   ]
  },
  {
   "cell_type": "code",
   "execution_count": 27,
   "metadata": {},
   "outputs": [
    {
     "data": {
      "text/plain": [
       "[0, 1, 2, 3, 7, 19]"
      ]
     },
     "execution_count": 27,
     "metadata": {},
     "output_type": "execute_result"
    }
   ],
   "source": [
    "# There is a 'sort' method for sorting list items as needed:\n",
    "\n",
    "ordered.sort()\n",
    "ordered"
   ]
  },
  {
   "cell_type": "markdown",
   "metadata": {},
   "source": [
    "Info on additional list methods is available at <https://docs.python.org/3/library/stdtypes.html?highlight=lists#mutable-sequence-types>\n",
    "\n",
    "Because lists are ordered, it is possible to access list items by referencing their positions. Note that the position of the first item in a list is 0 (zero), not 1!"
   ]
  },
  {
   "cell_type": "code",
   "execution_count": 28,
   "metadata": {
    "collapsed": true
   },
   "outputs": [],
   "source": [
    "string_list = ['apples', 'oranges', 'pears', 'grapes', 'pineapples']"
   ]
  },
  {
   "cell_type": "code",
   "execution_count": 29,
   "metadata": {},
   "outputs": [
    {
     "data": {
      "text/plain": [
       "'apples'"
      ]
     },
     "execution_count": 29,
     "metadata": {},
     "output_type": "execute_result"
    }
   ],
   "source": [
    "string_list[0]"
   ]
  },
  {
   "cell_type": "code",
   "execution_count": 30,
   "metadata": {},
   "outputs": [
    {
     "data": {
      "text/plain": [
       "['grapes', 'pineapples']"
      ]
     },
     "execution_count": 30,
     "metadata": {},
     "output_type": "execute_result"
    }
   ],
   "source": [
    "# We can use positions to 'slice' or selection sections of a list:\n",
    "\n",
    "string_list[3:]"
   ]
  },
  {
   "cell_type": "code",
   "execution_count": 31,
   "metadata": {},
   "outputs": [
    {
     "data": {
      "text/plain": [
       "['apples', 'oranges', 'pears']"
      ]
     },
     "execution_count": 31,
     "metadata": {},
     "output_type": "execute_result"
    }
   ],
   "source": [
    "string_list[:3]"
   ]
  },
  {
   "cell_type": "code",
   "execution_count": 32,
   "metadata": {},
   "outputs": [
    {
     "data": {
      "text/plain": [
       "['oranges', 'pears', 'grapes']"
      ]
     },
     "execution_count": 32,
     "metadata": {},
     "output_type": "execute_result"
    }
   ],
   "source": [
    "string_list[1:4]"
   ]
  },
  {
   "cell_type": "code",
   "execution_count": 33,
   "metadata": {},
   "outputs": [
    {
     "data": {
      "text/plain": [
       "2"
      ]
     },
     "execution_count": 33,
     "metadata": {},
     "output_type": "execute_result"
    }
   ],
   "source": [
    "# If we don't know the position of a list item, we can use the 'index()' method to find out.\n",
    "# Note that in the case of duplicate list items, this only returns the position of the first one:\n",
    "\n",
    "string_list.index('pears')"
   ]
  },
  {
   "cell_type": "code",
   "execution_count": 34,
   "metadata": {
    "collapsed": true
   },
   "outputs": [],
   "source": [
    "string_list.append('oranges')"
   ]
  },
  {
   "cell_type": "code",
   "execution_count": 35,
   "metadata": {},
   "outputs": [
    {
     "data": {
      "text/plain": [
       "['apples', 'oranges', 'pears', 'grapes', 'pineapples', 'oranges']"
      ]
     },
     "execution_count": 35,
     "metadata": {},
     "output_type": "execute_result"
    }
   ],
   "source": [
    "string_list"
   ]
  },
  {
   "cell_type": "code",
   "execution_count": 36,
   "metadata": {},
   "outputs": [
    {
     "data": {
      "text/plain": [
       "1"
      ]
     },
     "execution_count": 36,
     "metadata": {},
     "output_type": "execute_result"
    }
   ],
   "source": [
    "string_list.index('oranges')"
   ]
  },
  {
   "cell_type": "code",
   "execution_count": 14,
   "metadata": {},
   "outputs": [
    {
     "name": "stdout",
     "output_type": "stream",
     "text": [
      "54\n",
      "121527a\n",
      "54\n",
      "121527\n"
     ]
    }
   ],
   "source": [
    "# one more time with lists and dictionaries\n",
    "list_ex1 = my_stuff[0] + my_stuff[1] + int(my_stuff[2])\n",
    "print(list_ex1)\n",
    "\n",
    "list_ex2 = (\n",
    "    str(my_stuff[0]) \n",
    "    + str(my_stuff[1]) \n",
    "    + my_stuff[2] \n",
    "    + my_stuff[3][0]\n",
    ")\n",
    "print(list_ex2)\n",
    "\n",
    "dict_ex1 = (\n",
    "    more_stuff['item1']\n",
    "    + more_stuff['item2']\n",
    "    + int(more_stuff['item3'])\n",
    ")\n",
    "print(dict_ex1)\n",
    "\n",
    "dict_ex2 = (\n",
    "    str(more_stuff['item1'])\n",
    "    + str(more_stuff['item2'])\n",
    "    + more_stuff['item3']\n",
    ")\n",
    "print(dict_ex2)\n",
    "\n"
   ]
  },
  {
   "cell_type": "code",
   "execution_count": 16,
   "metadata": {
    "collapsed": true
   },
   "outputs": [],
   "source": [
    "# Now try it yourself ...\n",
    "# print out the phrase \"The answer: 42\" using the following \n",
    "# variables and one or more of your own and the 'print()' function\n",
    "# (remember spaces are characters as well)\n",
    "\n",
    "start = \"The\"\n",
    "answer = 42\n"
   ]
  },
  {
   "cell_type": "markdown",
   "metadata": {},
   "source": [
    "### Operators\n",
    "\n",
    "If *objects* are the nouns, operators are the verbs of a programming language. We've already seen examples of some operators: *assignment* with the `=` operator, *arithmetic* addition *and* string concatenation with the `+` operator, *arithmetic* division with the `/` and `-` operators, and *comparison* with the `>` operator. Different object types have different operators that may be used with them. The [Python Documentation](https://docs.python.org/3/library/stdtypes.html) provides detailed information about the operators and their functions as they relate to the standard object types described above. \n",
    "\n",
    "###  Flow Control and Logical Tests\n",
    "\n",
    "Flow control commands allow for the dynamic execution of parts of the program based upon logical conditions, or processing of objects within an *iterable* object (like a list or dictionary). Some key flow control commands in python include:\n",
    "\n",
    "* `while-else` loops that continue to run until the termination test is `False` or a `break` command is issued within the loop:\n",
    "\n",
    "        done = False\n",
    "        i = 0\n",
    "        while not done:\n",
    "            i = i+1\n",
    "            if i > 5: done = True\n",
    "\n",
    "* `if-elif-else` statements defined alternative blocks of code that are executed if a test condition is met:\n",
    "\n",
    "        do_something = \"what?\"\n",
    "        if do_something == \"what?\":\n",
    "            print(do_something)\n",
    "        elif do_something == \"where?\":\n",
    "            print(\"Where are we going?\")\n",
    "        else:\n",
    "            print(\"I guess nothing is going to happen\")\n",
    "            \n",
    "* `for` loops allow for repeated execution of a block of code for each item in a python sequence such as a list or dictionary. For example:\n",
    "\n",
    "        my_stuff = ['a', 'b', 'c']\n",
    "        for item in my_stuff:\n",
    "            print(item)\n",
    "        \n",
    "        a\n",
    "        b\n",
    "        c\n"
   ]
  },
  {
   "cell_type": "markdown",
   "metadata": {},
   "source": [
    "### Functions\n",
    "\n",
    "Functions represent reusable blocks of code that you can reference by name and pass informatin into to customize the exectuion of the function, and receive a response representing the outcome of the defined code in the function. \n",
    "\n",
    "### Putting it all together\n",
    "\n",
    "An example of reading a data file and doing basic work with it illustrates all of these concepts. This also illustrates the concept of writing a script that combines all of your commands into a file that can be run. `eggs.py` in this case. \n",
    "\n",
    "    #!/usr/bin/env python\n",
    "    \n",
    "    import csv\n",
    "    \n",
    "    # create an empty list that will be filled with the rows of data from the CSV as dictionaries\n",
    "    csv_content = []\n",
    "    \n",
    "    # open and loop through each line of the csv file to populate our data file\n",
    "    with open('aaj1945_DataS1_Egg_shape_by_species_v2.csv') as csv_file:\n",
    "        csv_reader = csv.DictReader(csv_file)\n",
    "        lineNo = 0\n",
    "        for row in csv_reader:             # process each row of the csv file\n",
    "            csv_content.append(row)\n",
    "            if lineNo < 3:                 # print out a few lines of data for our inspection\n",
    "                print(row)\n",
    "            lineNo += 1\n",
    "    \n",
    "    # create some empty lists that we will fill with values for each column of data\n",
    "    order = []\n",
    "    family = []\n",
    "    species = []\n",
    "    asymmetry = []\n",
    "    ellipticity = []\n",
    "    avglength = []\n",
    "            \n",
    "    # for each row of data in our dataset write a set of values into the lists of column values\n",
    "    for item in csv_content:\n",
    "        order.append(item['\\ufeffOrder'])\n",
    "        family.append(item['Family'])\n",
    "        species.append(item['Species'])\n",
    "        \n",
    "        # deal with issues \n",
    "        try:\n",
    "            asymmetry.append(float(item['Asymmetry']))\n",
    "        except:\n",
    "            asymmetry.append(-9999)\n",
    "            \n",
    "        try:\n",
    "            ellipticity.append(float(item['Ellipticity']))\n",
    "        except:\n",
    "            ellipticity.append(-9999)\n",
    "        \n",
    "        try:\n",
    "            avglength.append(float(item['AvgLength (cm)']))\n",
    "        except:\n",
    "            avglength.append(-9999)\n",
    "    \n",
    "    print()\n",
    "    print()\n",
    "    \n",
    "    # Calculate and print some statistics\n",
    "    mean_asymmetry = sum(asymmetry)/len(asymmetry)\n",
    "    print(\"Mean Asymmetry: \", str(mean_asymmetry))\n",
    "    mean_ellipticity = sum(ellipticity)/len(ellipticity)\n",
    "    print(\"Mean Ellipticity: \", str(mean_ellipticity))\n",
    "    mean_avglength = sum(avglength)/len(avglength)\n",
    "    print(\"Mean Average Length: \", str(mean_avglength))\n",
    "    \n",
    "    # What's wrong with these results? What would you do next to fix the problem?"
   ]
  },
  {
   "cell_type": "markdown",
   "metadata": {},
   "source": [
    "## Going beyond the *Standard Library*\n",
    "\n",
    "While Python's *Standard Library* of modules is very powerful and diverse, you will encounter times when you need functionality that is not included in the base installation of Python. *Fear not*, there are over 100,000 additional packages that have been developed to extend the capabilities of Python beyond those provided in the default installation. The central repository for Python packages is the [*Python Package Index*](https://pypi.python.org/pypi)  that can be browsed on the web, or can be programmatically interacted with using the [PIP](https://docs.python.org/3/tutorial/venv.html#managing-packages-with-pip) utility.\n",
    "\n",
    "Once installed, the functionality of a module (standard or not) is added to a script using the `import` command. "
   ]
  },
  {
   "cell_type": "markdown",
   "metadata": {},
   "source": [
    "## Resources\n",
    "\n",
    "* [*Computational Thinking for Teacher Education*](https://cacm.acm.org/magazines/2017/4/215031-computational-thinking-for-teacher-education/fulltext?mobile=false)\n",
    "* [Python Project Site](https://www.python.org/downloads/)\n",
    "* [Anaconda Python Site](https://www.continuum.io/downloads)\n",
    "* [Python Documentation](https://docs.python.org/3/index.html)\n",
    "* [Python 3.6 Tutorial](https://docs.python.org/3/tutorial/)\n",
    "\n",
    "Some book-length resources:\n",
    "\n",
    "* *Python 3 for Absolute Beginners*. 2009. Tim Hall and J-P Stacey. http://library.books24x7.com.libproxy.unm.edu/toc.aspx?bookid=33297\n",
    "* *Learning Python* 5th ed. 2013. Mark Lutz. https://www.amazon.com/Learning-Python-5th-Mark-Lutz/dp/1449355730/ref=sr_1_1?ie=UTF8&qid=1497019326&sr=8-1&keywords=%22learning+python%22\n",
    "* *The Quick Python Book* 2010. Naomi Ceder. https://www.amazon.com/Quick-Python-Book-Second/dp/193518220X/ref=sr_1_1?s=books&ie=UTF8&qid=1497019549&sr=1-1&keywords=%22quick+python%22\n",
    "\n"
   ]
  },
  {
   "cell_type": "code",
   "execution_count": null,
   "metadata": {
    "collapsed": true
   },
   "outputs": [],
   "source": []
  }
 ],
 "metadata": {
  "kernelspec": {
   "display_name": "Python 3",
   "language": "python",
   "name": "python3"
  },
  "language_info": {
   "codemirror_mode": {
    "name": "ipython",
    "version": 3
   },
   "file_extension": ".py",
   "mimetype": "text/x-python",
   "name": "python",
   "nbconvert_exporter": "python",
   "pygments_lexer": "ipython3",
   "version": "3.7.3"
  }
 },
 "nbformat": 4,
 "nbformat_minor": 2
}
