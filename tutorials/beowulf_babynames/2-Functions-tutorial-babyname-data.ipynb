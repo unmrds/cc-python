{
 "cells": [
  {
   "cell_type": "markdown",
   "metadata": {},
   "source": [
    "# Functions\n",
    "\n",
    "For this tutorial, we will use the modified US Census baby name dataset.\n",
    "\n",
    "> US Social Security Administration (2022). \"National data on the relative frequency of given names in the population of U.S. births wjere te individual has a Social Security Number.\" <https://www.ssa.gov/oact/babynames/limits.html>\n",
    "\n",
    "The dataset has been modified from the source to include column names, and to limit the date range from 2010-2021.\n",
    "\n",
    "First, a review of concepts:\n",
    "\n",
    "* lists\n",
    "* dictionaries\n",
    "* loops\n",
    "* conditionals\n",
    "* Jupyter commands\n",
    "\n",
    "For this we will refer back to tutorial 1.\n",
    "\n",
    "## Setup\n",
    "\n",
    "Begin by having everyone download \"names.zip\" from the repository. Make link available via Zoom and in-person.\n",
    "\n",
    "Navigate to extracted names directory and create notebooks there."
   ]
  },
  {
   "cell_type": "code",
   "execution_count": 22,
   "metadata": {},
   "outputs": [
    {
     "data": {
      "text/plain": [
       "'\\n# syntax\\ndef function_name(arg1, arg2, ...):\\n    do stuff here\\n    return\\n'"
      ]
     },
     "execution_count": 22,
     "metadata": {},
     "output_type": "execute_result"
    }
   ],
   "source": [
    "# functions - syntax and example\n",
    "# note the workflow here is based on the Carpentries\n",
    "\n",
    "\"\"\"\n",
    "# syntax\n",
    "def function_name(arg1, arg2, ...):\n",
    "    do stuff here\n",
    "    return\n",
    "\"\"\""
   ]
  },
  {
   "cell_type": "code",
   "execution_count": 23,
   "metadata": {},
   "outputs": [],
   "source": [
    "def kilograms_to_pounds(weight_k):\n",
    "    weight_lbs = weight_k * 2.2\n",
    "    return weight_lbs"
   ]
  },
  {
   "cell_type": "code",
   "execution_count": 24,
   "metadata": {},
   "outputs": [
    {
     "name": "stdout",
     "output_type": "stream",
     "text": [
      "my dog weighs 33.0 pounds\n"
     ]
    }
   ],
   "source": [
    "print(\"my dog weighs\", kilograms_to_pounds(15), 'pounds')"
   ]
  },
  {
   "cell_type": "markdown",
   "metadata": {},
   "source": [
    "### Exercise\n",
    "\n",
    "Write a function that converts pounds to kilograms. A call to the function should look like:\n",
    "\n",
    "```\n",
    "pounds_to_kilograms(33)\n",
    "```\n",
    "\n",
    "And the output in the above case would be\n",
    "\n",
    "```\n",
    "14.99\n",
    "```"
   ]
  },
  {
   "cell_type": "code",
   "execution_count": 25,
   "metadata": {},
   "outputs": [],
   "source": [
    "def pounds_to_kilograms(weight_pounds):\n",
    "    weight_k = weight_pounds / 2.2\n",
    "    return weight_k"
   ]
  },
  {
   "cell_type": "code",
   "execution_count": 26,
   "metadata": {},
   "outputs": [
    {
     "data": {
      "text/plain": [
       "14.999999999999998"
      ]
     },
     "execution_count": 26,
     "metadata": {},
     "output_type": "execute_result"
    }
   ],
   "source": [
    "pounds_to_kilograms(33)"
   ]
  },
  {
   "cell_type": "code",
   "execution_count": 27,
   "metadata": {},
   "outputs": [],
   "source": [
    "# we can calculate our weight on the moon\n",
    "\n",
    "\"\"\"\n",
    "Formula for this calculation is\n",
    "\n",
    "weight_moon = (weight_earth/9.81m/s^2) * 1.622m/s^2\n",
    "\"\"\"\n",
    "\n",
    "def moon_weight_kilograms(earth_weight_k):\n",
    "    moon_weight_k = (earth_weight_k/9.81) * 1.622\n",
    "    rounded_moon_weight = round(moon_weight_k, 2)\n",
    "    return rounded_moon_weight"
   ]
  },
  {
   "cell_type": "code",
   "execution_count": 28,
   "metadata": {},
   "outputs": [
    {
     "data": {
      "text/plain": [
       "2.48"
      ]
     },
     "execution_count": 28,
     "metadata": {},
     "output_type": "execute_result"
    }
   ],
   "source": [
    "moon_weight_kilograms(15)"
   ]
  },
  {
   "cell_type": "code",
   "execution_count": 29,
   "metadata": {},
   "outputs": [],
   "source": [
    "# my dog is overweight - should she get more exercise or move to the moon?\n",
    "# let's get her weight in pounds by _composing_ functions using the output of other functions\n",
    "\n",
    "# all the work in the next function is done by our other functions\n",
    "def moon_weight_pounds(earth_weight_k):\n",
    "    moon_weight_k = moon_weight_kilograms(earth_weight_k)\n",
    "    moon_weight_lbs = kilograms_to_pounds(moon_weight_k)\n",
    "    return moon_weight_lbs"
   ]
  },
  {
   "cell_type": "code",
   "execution_count": 30,
   "metadata": {},
   "outputs": [
    {
     "name": "stdout",
     "output_type": "stream",
     "text": [
      "on the moon my dog would weigh 5.456 pounds\n"
     ]
    }
   ],
   "source": [
    "print('on the moon my dog would weigh', moon_weight_pounds(15), 'pounds')"
   ]
  },
  {
   "cell_type": "markdown",
   "metadata": {},
   "source": [
    "### Exercise\n",
    "\n",
    "So far all of our functions have returned something - in most cases a weight that has been calculated by the function.\n",
    "\n",
    "It is not necessary to return an object in Python. In fact, the **return** statement itself is optional.\n",
    "\n",
    "Given the following function definitions:\n",
    "\n",
    "```\n",
    "def hello(name):\n",
    "    print(\"Hello\", name, \"!\")\n",
    " \n",
    "def greet(name):\n",
    "    greeting = \"Greetings \" + str(name) + \" !\"\n",
    "    return greeting\n",
    "    \n",
    "def farewell(name):\n",
    "    goodbye = \"Goodbye \" + str(name) + \" !\"\n",
    "    return\n",
    "```\n",
    "\n",
    "What is the output of the following:\n",
    "\n",
    "```\n",
    "hello('Sam')\n",
    "\n",
    "print(hello('Sam'))\n",
    "\n",
    "greet('Donna')\n",
    "\n",
    "print(greet('Donna'))\n",
    "\n",
    "farewell('Minerva')\n",
    "\n",
    "print(farewell('Minerva'))\n",
    "```\n",
    "\n",
    "Are any results different from what we expect? Why? \n",
    "\n",
    "How can we change the ```farewell``` function so that we get an output?"
   ]
  },
  {
   "cell_type": "code",
   "execution_count": 62,
   "metadata": {},
   "outputs": [],
   "source": [
    "def hello(name):\n",
    "    print(\"Hello\", name, \"!\")\n",
    "\n",
    "def greet(name):\n",
    "    greeting = \"Greetings \" + str(name) + \"!\"\n",
    "    return greeting\n",
    "\n",
    "def farewell(name):\n",
    "    goodbye = \"Goodbye \" + str(name) + \"!\"\n",
    "    return"
   ]
  },
  {
   "cell_type": "code",
   "execution_count": 63,
   "metadata": {},
   "outputs": [
    {
     "name": "stdout",
     "output_type": "stream",
     "text": [
      "Hello Sam !\n"
     ]
    }
   ],
   "source": [
    "hello('Sam')"
   ]
  },
  {
   "cell_type": "code",
   "execution_count": 64,
   "metadata": {},
   "outputs": [
    {
     "name": "stdout",
     "output_type": "stream",
     "text": [
      "Hello Sam !\n",
      "None\n"
     ]
    }
   ],
   "source": [
    "print(hello(\"Sam\")) # the None is bc nothing is returned"
   ]
  },
  {
   "cell_type": "code",
   "execution_count": 65,
   "metadata": {},
   "outputs": [
    {
     "data": {
      "text/plain": [
       "'Greetings Donna!'"
      ]
     },
     "execution_count": 65,
     "metadata": {},
     "output_type": "execute_result"
    }
   ],
   "source": [
    "greet('Donna')"
   ]
  },
  {
   "cell_type": "code",
   "execution_count": 66,
   "metadata": {},
   "outputs": [
    {
     "name": "stdout",
     "output_type": "stream",
     "text": [
      "Greetings Donna!\n"
     ]
    }
   ],
   "source": [
    "print(greet('Donna'))"
   ]
  },
  {
   "cell_type": "code",
   "execution_count": 67,
   "metadata": {},
   "outputs": [],
   "source": [
    "farewell('Minerva')"
   ]
  },
  {
   "cell_type": "code",
   "execution_count": 68,
   "metadata": {},
   "outputs": [
    {
     "name": "stdout",
     "output_type": "stream",
     "text": [
      "None\n"
     ]
    }
   ],
   "source": [
    "print(farewell('Minerva')) # again, nothing is returned"
   ]
  },
  {
   "cell_type": "code",
   "execution_count": 69,
   "metadata": {},
   "outputs": [],
   "source": [
    "# using baby name data without functions\n",
    "# let's get the most popular baby names for a given year\n",
    "# note we are using standard libraries - pandas is recommended for tabular data\n",
    "\n",
    "import glob\n",
    "import csv"
   ]
  },
  {
   "cell_type": "code",
   "execution_count": 70,
   "metadata": {},
   "outputs": [
    {
     "name": "stdout",
     "output_type": "stream",
     "text": [
      "all files: ['./names\\\\2010', './names\\\\2011', './names\\\\2012', './names\\\\2013', './names\\\\2014', './names\\\\2015', './names\\\\2016', './names\\\\2017', './names\\\\2018', './names\\\\2019', './names\\\\2020', './names\\\\2021']\n",
      "\n",
      "the first file in the list is: ./names\\2010\n"
     ]
    }
   ],
   "source": [
    "# get a list of file names and also just the first filename\n",
    "\n",
    "baby_name_files = glob.glob('./names/*')\n",
    "print('all files:', baby_name_files)\n",
    "\n",
    "one_year_names = baby_name_files[0]\n",
    "print('\\nthe first file in the list is:', one_year_names)"
   ]
  },
  {
   "cell_type": "code",
   "execution_count": 71,
   "metadata": {},
   "outputs": [],
   "source": [
    "# most popular names - since the files include the names most popular first,\n",
    "# we could just eyeball it but we'd have to search for the most popular boy name\n",
    "\n",
    "# read csv data into a list\n",
    "name_data = []\n",
    "with open(one_year_names, 'r') as f:\n",
    "    reader = csv.DictReader(f)\n",
    "    for row in reader:\n",
    "        name_data.append(row)"
   ]
  },
  {
   "cell_type": "code",
   "execution_count": 72,
   "metadata": {},
   "outputs": [
    {
     "data": {
      "text/plain": [
       "[{'name': 'Isabella', 'sex': 'F', 'count': '22925'},\n",
       " {'name': 'Sophia', 'sex': 'F', 'count': '20648'},\n",
       " {'name': 'Emma', 'sex': 'F', 'count': '17354'},\n",
       " {'name': 'Olivia', 'sex': 'F', 'count': '17030'},\n",
       " {'name': 'Ava', 'sex': 'F', 'count': '15436'}]"
      ]
     },
     "execution_count": 72,
     "metadata": {},
     "output_type": "execute_result"
    }
   ],
   "source": [
    "# note the structure - table is a list of dictionaries\n",
    "# each row is a dictionary, with column names as keys\n",
    "\n",
    "# we can open the CSV file in Jupyter and compare\n",
    "\n",
    "name_data[:5]"
   ]
  },
  {
   "cell_type": "code",
   "execution_count": 73,
   "metadata": {},
   "outputs": [],
   "source": [
    "# comparing values is a bit clumsy with CSV library\n",
    "# this is one way\n",
    "\n",
    "f_max_c = 0\n",
    "f_popular = None\n",
    "m_max_c = 0\n",
    "m_popular = None"
   ]
  },
  {
   "cell_type": "code",
   "execution_count": 74,
   "metadata": {},
   "outputs": [],
   "source": [
    "for name in name_data:\n",
    "        if name['sex'] == 'F':\n",
    "            if int(name['count']) > int(f_max_c):\n",
    "                f_max_c = int(name['count'])\n",
    "                f_popular = name['name']\n",
    "        elif name['sex'] == 'M':\n",
    "            if int(name['count']) > int(m_max_c):\n",
    "                m_max_c = int(name['count'])\n",
    "                m_popular = name['name']"
   ]
  },
  {
   "cell_type": "code",
   "execution_count": 75,
   "metadata": {},
   "outputs": [
    {
     "name": "stdout",
     "output_type": "stream",
     "text": [
      "2010 most popular girl name: Isabella ( 22925 )\n",
      "2010 most popular boy name: Jacob ( 22139 )\n"
     ]
    }
   ],
   "source": [
    "# clean up the filename a little\n",
    "y = one_year_names.replace('./names\\\\', '')\n",
    "\n",
    "# output results\n",
    "print(y, 'most popular girl name:', f_popular, '(', f_max_c, ')')\n",
    "print(y, 'most popular boy name:', m_popular, '(', m_max_c, ')')"
   ]
  },
  {
   "cell_type": "code",
   "execution_count": 76,
   "metadata": {},
   "outputs": [
    {
     "name": "stdout",
     "output_type": "stream",
     "text": [
      "2010 most popular girl name: Isabella ( 22925 )\n",
      "2010 most popular boy name: Jacob ( 22139 )\n"
     ]
    }
   ],
   "source": [
    "# our full code for the above is\n",
    "\n",
    "name_data = []\n",
    "with open(one_year_names, 'r') as f:\n",
    "    reader = csv.DictReader(f)\n",
    "    for row in reader:\n",
    "        name_data.append(row)\n",
    "f_max_c = 0\n",
    "f_popular = None\n",
    "m_max_c = 0\n",
    "m_popular = None\n",
    "for name in name_data:\n",
    "        if name['sex'] == 'F':\n",
    "            if int(name['count']) > int(f_max_c):\n",
    "                f_max_c = int(name['count'])\n",
    "                f_popular = name['name']\n",
    "        elif name['sex'] == 'M':\n",
    "            if int(name['count']) > int(m_max_c):\n",
    "                m_max_c = int(name['count'])\n",
    "                m_popular = name['name']\n",
    "# clean up the filename a little\n",
    "y = one_year_names.replace('./names\\\\', '')\n",
    "\n",
    "# output results\n",
    "print(y, 'most popular girl name:', f_popular, '(', f_max_c, ')')\n",
    "print(y, 'most popular boy name:', m_popular, '(', m_max_c, ')')"
   ]
  },
  {
   "cell_type": "code",
   "execution_count": 77,
   "metadata": {},
   "outputs": [],
   "source": [
    "# that's okay but it is a bit hard to read, and doesn't scale well\n",
    "# to get the results for a different year we need the file's index position in the file list\n",
    "# also, we're using the same logic twice- once for girls' names and a second time for boys'\n",
    "# these considerations (easy to break and repetitive) make this a good candidate for some functions\n",
    "\n",
    "# simplify the counting process first\n",
    "def popular_name(name_data, sex):\n",
    "    name_c = 0\n",
    "    popular = None\n",
    "    for name in name_data:\n",
    "        if name['sex'] == sex:\n",
    "            if int(name['count']) > int(name_c):\n",
    "                name_c = int(name['count'])\n",
    "                popular = name['name']\n",
    "    return popular, name_c"
   ]
  },
  {
   "cell_type": "code",
   "execution_count": 78,
   "metadata": {},
   "outputs": [
    {
     "name": "stdout",
     "output_type": "stream",
     "text": [
      "most popular girl name in the first file is: Isabella\n",
      "there were 22925 girls named Isabella in the file ./names\\2010\n"
     ]
    }
   ],
   "source": [
    "# test the function\n",
    "# we have replaced 13 lines of code with only 9 lines of code! (it adds up!)\n",
    "\n",
    "pop_girl_name, count_named = popular_name(name_data, 'F')\n",
    "print('most popular girl name in the first file is:', pop_girl_name)\n",
    "print('there were', count_named, 'girls named', pop_girl_name, 'in the file', one_year_names)"
   ]
  },
  {
   "cell_type": "code",
   "execution_count": 79,
   "metadata": {},
   "outputs": [],
   "source": [
    "# something we repeat is reading files, so that also makes a good function\n",
    "# in this case we're not really reducing the number of lines of code, but\n",
    "# we are modularizing our code for reuse - anytime we need to read a csv file from here on\n",
    "# only requires us to call this function\n",
    "\n",
    "def csv_to_list(file_pointer):\n",
    "    csv_data = []\n",
    "    with open(file_pointer, 'r') as f:\n",
    "        reader = csv.DictReader(f)\n",
    "        for row in reader:\n",
    "            csv_data.append(row)\n",
    "    return csv_data"
   ]
  },
  {
   "cell_type": "code",
   "execution_count": 80,
   "metadata": {},
   "outputs": [
    {
     "name": "stdout",
     "output_type": "stream",
     "text": [
      "2010 most popular girl name: Isabella ( 22925 )\n",
      "2010 most popular boy name: Jacob ( 22139 )\n"
     ]
    }
   ],
   "source": [
    "# here is our above process using functions\n",
    "\n",
    "name_data = csv_to_list(one_year_names)\n",
    "pop_girl_name, count_girls_named = popular_name(name_data, 'F')\n",
    "pop_boy_name, count_boys_named = popular_name(name_data, 'M')\n",
    "\n",
    "y = one_year_names.replace('./names\\\\', '')\n",
    "\n",
    "print(y, 'most popular girl name:', pop_girl_name, '(', count_girls_named, ')')\n",
    "print(y, 'most popular boy name:', pop_boy_name, '(', count_boys_named, ')')"
   ]
  },
  {
   "cell_type": "code",
   "execution_count": 81,
   "metadata": {},
   "outputs": [],
   "source": [
    "# we can refine this further\n",
    "# it would be nice to enter a year and get the info for that year\n",
    "\n",
    "def fnames_years(data_dir, fname_pattern):\n",
    "    year_data = {}\n",
    "    fnames = glob.glob(data_dir + \"/\" + fname_pattern)\n",
    "    # this is pretty fragile - will break easily\n",
    "    for f in fnames:\n",
    "        data_year = f.replace(data_dir + '\\\\', '')\n",
    "        year_data[data_year] = f\n",
    "    return year_data"
   ]
  },
  {
   "cell_type": "code",
   "execution_count": 82,
   "metadata": {},
   "outputs": [
    {
     "name": "stdout",
     "output_type": "stream",
     "text": [
      "{'2010': './names\\\\2010', '2011': './names\\\\2011', '2012': './names\\\\2012', '2013': './names\\\\2013', '2014': './names\\\\2014', '2015': './names\\\\2015', '2016': './names\\\\2016', '2017': './names\\\\2017', '2018': './names\\\\2018', '2019': './names\\\\2019', '2020': './names\\\\2020', '2021': './names\\\\2021'}\n"
     ]
    }
   ],
   "source": [
    "print(fnames_years('./names', \"*\"))"
   ]
  },
  {
   "cell_type": "code",
   "execution_count": 83,
   "metadata": {},
   "outputs": [],
   "source": [
    "annual_names = fnames_years('./names', \"*\")"
   ]
  },
  {
   "cell_type": "code",
   "execution_count": 84,
   "metadata": {},
   "outputs": [
    {
     "name": "stdout",
     "output_type": "stream",
     "text": [
      "Data for selected year not available.\n"
     ]
    }
   ],
   "source": [
    "# now we can pick an arbitrary year\n",
    "\n",
    "y = 2022\n",
    "if str(y) in annual_names.keys():\n",
    "    file_pointer = annual_names[str(y)]\n",
    "    name_data = csv_to_list(file_pointer)\n",
    "    pop_girl_name, count_girls_named = popular_name(name_data, 'F')\n",
    "    pop_boy_name, count_boys_named = popular_name(name_data, 'M')\n",
    "    print(y, 'most popular girl name:', pop_girl_name, '(', count_girls_named, ')')\n",
    "    print(y, 'most popular boy name:', pop_boy_name, '(', count_boys_named, ')')\n",
    "else:\n",
    "    print(\"Data for selected year not available.\")"
   ]
  },
  {
   "cell_type": "code",
   "execution_count": 85,
   "metadata": {},
   "outputs": [],
   "source": [
    "# we could make a function of the above\n",
    "# then use it to process lists of years, single years, whatever makes sense\n",
    "\n",
    "def favorite_baby_names_year(y, file_dict):\n",
    "    if str(y) in file_dict.keys():\n",
    "        file_pointer = file_dict[str(y)]\n",
    "        name_data = csv_to_list(file_pointer)\n",
    "        pop_girl_name, count_girls_named = popular_name(name_data, 'F')\n",
    "        pop_boy_name, count_boys_named = popular_name(name_data, 'M')\n",
    "        print(y, 'most popular girl name:', pop_girl_name, '(', count_girls_named, ')')\n",
    "        print(y, 'most popular boy name:', pop_boy_name, '(', count_boys_named, ')')\n",
    "    else:\n",
    "        print(\"Data for selected year not available.\")"
   ]
  },
  {
   "cell_type": "code",
   "execution_count": 86,
   "metadata": {},
   "outputs": [
    {
     "name": "stdout",
     "output_type": "stream",
     "text": [
      "2015 most popular girl name: Emma ( 20468 )\n",
      "2015 most popular boy name: Noah ( 19654 )\n"
     ]
    }
   ],
   "source": [
    "# one year\n",
    "\n",
    "favorite_baby_names_year(2015, annual_names)"
   ]
  },
  {
   "cell_type": "code",
   "execution_count": 87,
   "metadata": {},
   "outputs": [
    {
     "name": "stdout",
     "output_type": "stream",
     "text": [
      "2008\n",
      "Data for selected year not available.\n",
      "\n",
      "\n",
      "2012\n",
      "2012 most popular girl name: Sophia ( 22322 )\n",
      "2012 most popular boy name: Jacob ( 19091 )\n",
      "\n",
      "\n",
      "2018\n",
      "2018 most popular girl name: Emma ( 18786 )\n",
      "2018 most popular boy name: Liam ( 19940 )\n",
      "\n",
      "\n",
      "2024\n",
      "Data for selected year not available.\n",
      "\n",
      "\n"
     ]
    }
   ],
   "source": [
    "# a list of years\n",
    "\n",
    "year_list = [2008, 2012, 2018, 2024]\n",
    "for y in year_list:\n",
    "    print(y)\n",
    "    favorite_baby_names_year(y, annual_names)\n",
    "    print('\\n')"
   ]
  },
  {
   "cell_type": "code",
   "execution_count": null,
   "metadata": {},
   "outputs": [],
   "source": []
  }
 ],
 "metadata": {
  "kernelspec": {
   "display_name": "Python 3 (ipykernel)",
   "language": "python",
   "name": "python3"
  },
  "language_info": {
   "codemirror_mode": {
    "name": "ipython",
    "version": 3
   },
   "file_extension": ".py",
   "mimetype": "text/x-python",
   "name": "python",
   "nbconvert_exporter": "python",
   "pygments_lexer": "ipython3",
   "version": "3.9.16"
  }
 },
 "nbformat": 4,
 "nbformat_minor": 4
}
