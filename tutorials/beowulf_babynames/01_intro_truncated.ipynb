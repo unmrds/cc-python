{
 "cells": [
  {
   "cell_type": "markdown",
   "id": "8b202dbe-c98c-477d-95c0-d0b5df36b9bf",
   "metadata": {},
   "source": [
    "# Introduction to Python\n",
    "----------------------------------\n",
    "\n",
    "This hands-on tutorial is intended to provide an introduction to concepts that are key to programming in Python (or most any other language), through the development of a worked example. Topics to be covered include:\n",
    "\n",
    "- Interpreted languages\n",
    "    - Development environments\n",
    "- Variables\n",
    "    - Data types\n",
    "- Data structures\n",
    "    - Lists\n",
    "    - Dictionaries\n",
    "- Control of execution\n",
    "    - Loops\n",
    "    - Conditions\n",
    "- Troubleshooting\n",
    "\n",
    "We will use Jupyter Notebooks for the tutorial. Learners are encouraged to use the interpreter or development environment of their choice. Python 3 is recommended."
   ]
  },
  {
   "cell_type": "markdown",
   "id": "b26adfc8-1e9f-4700-a2ba-c8969f448b7e",
   "metadata": {},
   "source": [
    "## Python is an interpreted language\n",
    "\n",
    "Code does not need to be compiled. It is evaluated and executed by an interpreter. "
   ]
  },
  {
   "cell_type": "code",
   "execution_count": 6,
   "id": "1d4d342e-3ede-4808-8479-d336145da49d",
   "metadata": {},
   "outputs": [
    {
     "data": {
      "text/plain": [
       "255.0"
      ]
     },
     "execution_count": 6,
     "metadata": {},
     "output_type": "execute_result"
    }
   ],
   "source": [
    "# Demonstration: Python as a calculator\n",
    "# Mathematical expressions are evaluated using the standard order of operations (PEMDAS).\n",
    "3 * ((14 / 7) + 99 - 16)"
   ]
  },
  {
   "cell_type": "markdown",
   "id": "61552135-b11f-4204-9de0-c9b65a37c142",
   "metadata": {},
   "source": [
    "## Variables store values"
   ]
  },
  {
   "cell_type": "code",
   "execution_count": 8,
   "id": "f31cdf65-089b-4ca0-a4cb-f920a82eb504",
   "metadata": {},
   "outputs": [
    {
     "name": "stdout",
     "output_type": "stream",
     "text": [
      "The value of 'a' is: 5\n",
      "The value of 'b' is: 10\n"
     ]
    }
   ],
   "source": [
    "# Values are assigned to variables using =\n",
    "a = 5\n",
    "b = 10\n",
    "print(\"The value of 'a' is:\", a)\n",
    "print(\"The value of 'b' is:\", b)"
   ]
  },
  {
   "cell_type": "code",
   "execution_count": 11,
   "id": "436d31ac-1acf-4a1d-81ec-619e9aa73ca4",
   "metadata": {},
   "outputs": [
    {
     "name": "stdout",
     "output_type": "stream",
     "text": [
      "Sum of a + b: 15\n",
      "Product of a * b: 50\n",
      "a to the power of b: 9765625\n"
     ]
    }
   ],
   "source": [
    "# Variables can be used in expressions\n",
    "print(\"Sum of a + b:\", a + b)\n",
    "print(\"Product of a * b:\", a * b)\n",
    "print(\"a to the power of b:\", a ** b)"
   ]
  },
  {
   "cell_type": "code",
   "execution_count": 12,
   "id": "49c65c03-d2c4-4668-91bd-6de59792f956",
   "metadata": {},
   "outputs": [
    {
     "name": "stdout",
     "output_type": "stream",
     "text": [
      "Initial value of t: 84\n",
      "Final value of t: 134\n"
     ]
    }
   ],
   "source": [
    "# The value of a variable can be modified in place.\n",
    "# That is, it can be overwritten using the previous value.\n",
    "t = 84\n",
    "print(\"Initial value of t:\", t)\n",
    "t = t + (a * b)\n",
    "print(\"Final value of t:\", t)"
   ]
  },
  {
   "cell_type": "markdown",
   "id": "32192ca0-39b9-400c-b619-942618ddd775",
   "metadata": {},
   "source": [
    "## Variables have data types\n",
    "\n",
    "Python supports many different data types. Common data types are\n",
    "\n",
    "- string (character data)\n",
    "- integer\n",
    "- floating point number\n",
    "- boolean (True/False)"
   ]
  },
  {
   "cell_type": "code",
   "execution_count": 13,
   "id": "c751b451-c764-43eb-8190-e66da49b7d8b",
   "metadata": {},
   "outputs": [
    {
     "data": {
      "text/plain": [
       "int"
      ]
     },
     "execution_count": 13,
     "metadata": {},
     "output_type": "execute_result"
    }
   ],
   "source": [
    "# Use the type() function to find out an object's data type\n",
    "type(1)"
   ]
  },
  {
   "cell_type": "code",
   "execution_count": 14,
   "id": "3c78b864-eedc-4f5c-a6a9-2b381e5704a8",
   "metadata": {},
   "outputs": [
    {
     "data": {
      "text/plain": [
       "float"
      ]
     },
     "execution_count": 14,
     "metadata": {},
     "output_type": "execute_result"
    }
   ],
   "source": [
    "type(1.0)"
   ]
  },
  {
   "cell_type": "code",
   "execution_count": 15,
   "id": "79094b5b-45b7-4735-8c83-43a14cafd5fc",
   "metadata": {},
   "outputs": [
    {
     "data": {
      "text/plain": [
       "str"
      ]
     },
     "execution_count": 15,
     "metadata": {},
     "output_type": "execute_result"
    }
   ],
   "source": [
    "type(\"one\")"
   ]
  },
  {
   "cell_type": "code",
   "execution_count": 16,
   "id": "8c088d4a-d7d6-4abd-adc9-feba7390a273",
   "metadata": {},
   "outputs": [
    {
     "data": {
      "text/plain": [
       "str"
      ]
     },
     "execution_count": 16,
     "metadata": {},
     "output_type": "execute_result"
    }
   ],
   "source": [
    "type(\"1\")"
   ]
  },
  {
   "cell_type": "code",
   "execution_count": 17,
   "id": "c5077cd6-f1be-45f8-9d3d-259abdd8e962",
   "metadata": {},
   "outputs": [
    {
     "data": {
      "text/plain": [
       "bool"
      ]
     },
     "execution_count": 17,
     "metadata": {},
     "output_type": "execute_result"
    }
   ],
   "source": [
    "type(True)"
   ]
  },
  {
   "cell_type": "code",
   "execution_count": 22,
   "id": "76692e58-6f02-43a0-b12e-eaacf0902dff",
   "metadata": {},
   "outputs": [
    {
     "name": "stdout",
     "output_type": "stream",
     "text": [
      "2.0\n",
      "<class 'float'>\n"
     ]
    }
   ],
   "source": [
    "# Python will do its best to coerce data types as needed to evaluate an expression\n",
    "print(1 + 1.0)\n",
    "print(type(1 + 1.0))"
   ]
  },
  {
   "cell_type": "code",
   "execution_count": 24,
   "id": "5c6bfa61-bdd0-4c5d-b9b5-8c231ae3395a",
   "metadata": {},
   "outputs": [
    {
     "ename": "TypeError",
     "evalue": "unsupported operand type(s) for +: 'int' and 'str'",
     "output_type": "error",
     "traceback": [
      "\u001b[1;31m---------------------------------------------------------------------------\u001b[0m",
      "\u001b[1;31mTypeError\u001b[0m                                 Traceback (most recent call last)",
      "Cell \u001b[1;32mIn[24], line 2\u001b[0m\n\u001b[0;32m      1\u001b[0m \u001b[38;5;66;03m# But generally expressions that attempt to perform operations on both string and numeric data types will cause an error\u001b[39;00m\n\u001b[1;32m----> 2\u001b[0m \u001b[38;5;28mprint\u001b[39m(\u001b[38;5;241;43m1\u001b[39;49m\u001b[43m \u001b[49m\u001b[38;5;241;43m+\u001b[39;49m\u001b[43m \u001b[49m\u001b[38;5;124;43m\"\u001b[39;49m\u001b[38;5;124;43m1\u001b[39;49m\u001b[38;5;124;43m\"\u001b[39;49m)\n",
      "\u001b[1;31mTypeError\u001b[0m: unsupported operand type(s) for +: 'int' and 'str'"
     ]
    }
   ],
   "source": [
    "# But generally expressions that attempt to perform operations on both string and numeric data types will cause an error.\n",
    "# Troubleshooting tip - this is a common error.\n",
    "print(1 + \"1\")"
   ]
  },
  {
   "cell_type": "code",
   "execution_count": 29,
   "id": "e56d7be8-1892-496f-9b45-e3a4d7370ebd",
   "metadata": {},
   "outputs": [],
   "source": [
    "# Let's use some variables to describe a car\n",
    "make = \"Honda\"\n",
    "model = \"Fit\"\n",
    "year = 2013\n",
    "cyl = 4\n",
    "transmission = \"manual\""
   ]
  },
  {
   "cell_type": "code",
   "execution_count": 30,
   "id": "fb0b86ca-b1c8-4372-9aaf-37837d7f3c37",
   "metadata": {},
   "outputs": [],
   "source": [
    "# Describe a second car.\n",
    "# What happens is we reuse the previous variable names?\n",
    "# One solution is to use more variable names.\n",
    "make_c2 = \"GMC\"\n",
    "model_c2 = \"Canyon\"\n",
    "year_c2 = 2006\n",
    "cyl_c2 = 4\n",
    "transmission_c2= \"automatic\""
   ]
  },
  {
   "cell_type": "code",
   "execution_count": 31,
   "id": "2f48f4b5-433c-4f48-8197-f940e51d0732",
   "metadata": {},
   "outputs": [],
   "source": [
    "# We can use this variable naming schema to describe any number of cars.\n",
    "# Describe a third vehicle, using a '_c3' suffix after each of the common variable names.\n",
    "make_c3 = \"Honda\"\n",
    "model_c3 = \"Rebel\"\n",
    "year_c3 = 2018\n",
    "cyl_c3 = 1\n",
    "transmission_c3 = \"manual\""
   ]
  },
  {
   "cell_type": "markdown",
   "id": "c758a194-e92d-4dc4-8dd3-6a3f7b1087be",
   "metadata": {},
   "source": [
    "## Lists\n",
    "\n",
    "A list is an ordered, mutable collection of objects."
   ]
  },
  {
   "cell_type": "code",
   "execution_count": 32,
   "id": "0e09e350-fe2c-4526-931c-bf9db44159f6",
   "metadata": {},
   "outputs": [
    {
     "name": "stdout",
     "output_type": "stream",
     "text": [
      "[1, 23, 8, 14, 200, 75, 6]\n"
     ]
    }
   ],
   "source": [
    "# Ordered - in this case means not sorted\n",
    "number_list = [1, 23, 8, 14, 200, 75, 6]\n",
    "print(number_list)"
   ]
  },
  {
   "cell_type": "code",
   "execution_count": 34,
   "id": "473d337e-c80c-4f79-b2ed-de4c0329518f",
   "metadata": {},
   "outputs": [
    {
     "name": "stdout",
     "output_type": "stream",
     "text": [
      "['a', 'ball', 'car', 'Jon']\n"
     ]
    }
   ],
   "source": [
    "# Objects in a list can be any data type\n",
    "string_list = [\"a\", \"ball\", \"car\", \"Jon\"]\n",
    "print(string_list)"
   ]
  },
  {
   "cell_type": "code",
   "execution_count": 35,
   "id": "553a83c3-dee5-4470-9965-59bdbc39aa13",
   "metadata": {},
   "outputs": [],
   "source": [
    "# We can mix data types in a list.\n",
    "# For example if we create a list of information about one of our cars.\n",
    "first_car = [make, model, year, cyl, transmission]"
   ]
  },
  {
   "cell_type": "code",
   "execution_count": 36,
   "id": "9d17edfe-bb32-4823-839e-4635e0cacf5d",
   "metadata": {},
   "outputs": [
    {
     "name": "stdout",
     "output_type": "stream",
     "text": [
      "['Honda', 'Fit', 2013, 4, 'manual']\n"
     ]
    }
   ],
   "source": [
    "print(first_car)"
   ]
  },
  {
   "cell_type": "code",
   "execution_count": 37,
   "id": "97917360-7390-4eb3-9b9f-647c0f76320f",
   "metadata": {},
   "outputs": [
    {
     "data": {
      "text/plain": [
       "'manual'"
      ]
     },
     "execution_count": 37,
     "metadata": {},
     "output_type": "execute_result"
    }
   ],
   "source": [
    "# Mutable\n",
    "# What if we want to update a value?\n",
    "# We use the index position of the element we want to replace.\n",
    "first_car[4]"
   ]
  },
  {
   "cell_type": "code",
   "execution_count": 38,
   "id": "e2ca2adc-9f06-4e05-b8d4-5cca452e3867",
   "metadata": {},
   "outputs": [],
   "source": [
    "first_car[4] = 'standard'"
   ]
  },
  {
   "cell_type": "code",
   "execution_count": 39,
   "id": "88b1f4e9-fd7a-4f1c-bcb8-053e83ef3034",
   "metadata": {},
   "outputs": [
    {
     "name": "stdout",
     "output_type": "stream",
     "text": [
      "['Honda', 'Fit', 2013, 4, 'standard']\n"
     ]
    }
   ],
   "source": [
    "print(first_car)"
   ]
  },
  {
   "cell_type": "code",
   "execution_count": 48,
   "id": "72cd20ba-5bba-451b-9fcc-79a054785c13",
   "metadata": {},
   "outputs": [],
   "source": [
    "# more position indexing and slicing"
   ]
  },
  {
   "cell_type": "markdown",
   "id": "cb76f8ca-43c9-4d31-8f1d-c3f480b453e5",
   "metadata": {},
   "source": [
    "## Loops"
   ]
  },
  {
   "cell_type": "code",
   "execution_count": 40,
   "id": "893a381f-f8a7-42f2-8549-29dab5f0b62f",
   "metadata": {},
   "outputs": [
    {
     "name": "stdout",
     "output_type": "stream",
     "text": [
      "l\n",
      "e\n",
      "t\n",
      "t\n",
      "e\n",
      "r\n"
     ]
    }
   ],
   "source": [
    "# Use a for loop to iterate over a collection:\n",
    "for a in 'letter':\n",
    "    print(a)"
   ]
  },
  {
   "cell_type": "code",
   "execution_count": 42,
   "id": "2bbbbb1f-30a8-4cbd-9104-e0995281ba22",
   "metadata": {},
   "outputs": [
    {
     "name": "stdout",
     "output_type": "stream",
     "text": [
      "value: Honda\n",
      "data type: <class 'str'>\n",
      "value: Fit\n",
      "data type: <class 'str'>\n",
      "value: 2013\n",
      "data type: <class 'int'>\n",
      "value: 4\n",
      "data type: <class 'int'>\n",
      "value: standard\n",
      "data type: <class 'str'>\n"
     ]
    }
   ],
   "source": [
    "for v in first_car:\n",
    "    print(\"value:\", v)\n",
    "    print(\"data type:\", type(v))"
   ]
  },
  {
   "cell_type": "code",
   "execution_count": 45,
   "id": "cb53c990-fd0c-4092-9b85-f65566af3ff6",
   "metadata": {},
   "outputs": [
    {
     "name": "stdout",
     "output_type": "stream",
     "text": [
      "Initial value of c this time through the loop: 10\n",
      "Initial value of c this time through the loop: 11\n",
      "Initial value of c this time through the loop: 12\n",
      "Initial value of c this time through the loop: 13\n",
      "Initial value of c this time through the loop: 14\n",
      "Initial value of c this time through the loop: 15\n",
      "Initial value of c this time through the loop: 16\n",
      "Initial value of c this time through the loop: 17\n",
      "Initial value of c this time through the loop: 18\n",
      "Final value of c: 19\n"
     ]
    }
   ],
   "source": [
    "# Loops can be used to modify the value of a variable\n",
    "c = 10\n",
    "for i in range(1, 10):\n",
    "    print(\"Initial value of c this time through the loop:\", c)\n",
    "    c += 1\n",
    "\n",
    "print(\"Final value of c:\", c)"
   ]
  },
  {
   "cell_type": "code",
   "execution_count": 46,
   "id": "cb69e302-68b2-4cb9-986f-25193e256eaf",
   "metadata": {},
   "outputs": [
    {
     "name": "stdout",
     "output_type": "stream",
     "text": [
      "['GMC', 'Canyon', 2006, 4, 'automatic']\n",
      "['Honda', 'Rebel', 2018, 1, 'manual']\n"
     ]
    }
   ],
   "source": [
    "# Make two more car lists\n",
    "second_car = [make_c2, model_c2, year_c2, cyl_c2, transmission_c2]\n",
    "third_car = [make_c3, model_c3, year_c3, cyl_c3, transmission_c3]\n",
    "print(second_car)\n",
    "print(third_car)"
   ]
  },
  {
   "cell_type": "code",
   "execution_count": 47,
   "id": "e09e9069-7998-4264-933b-c80cf33e0ee8",
   "metadata": {},
   "outputs": [],
   "source": [
    "# We can create an inventory or catalog of our cars by nesting loops.\n",
    "car_inventory = [first_car, second_car, third_car]"
   ]
  },
  {
   "cell_type": "code",
   "execution_count": null,
   "id": "1d6f7315-1139-4c6d-8bd5-cd7b7f314414",
   "metadata": {},
   "outputs": [],
   "source": []
  }
 ],
 "metadata": {
  "kernelspec": {
   "display_name": "Python 3 (ipykernel)",
   "language": "python",
   "name": "python3"
  },
  "language_info": {
   "codemirror_mode": {
    "name": "ipython",
    "version": 3
   },
   "file_extension": ".py",
   "mimetype": "text/x-python",
   "name": "python",
   "nbconvert_exporter": "python",
   "pygments_lexer": "ipython3",
   "version": "3.9.18"
  }
 },
 "nbformat": 4,
 "nbformat_minor": 5
}
