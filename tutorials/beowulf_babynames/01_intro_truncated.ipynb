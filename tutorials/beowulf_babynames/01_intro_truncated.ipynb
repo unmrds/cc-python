{
 "cells": [
  {
   "cell_type": "markdown",
   "id": "8b202dbe-c98c-477d-95c0-d0b5df36b9bf",
   "metadata": {},
   "source": [
    "# Introduction to Python\n",
    "----------------------------------\n",
    "\n",
    "This hands-on tutorial is intended to provide an introduction to concepts that are key to programming in Python (or most any other language), through the development of a worked example. Topics to be covered include:\n",
    "\n",
    "- Interpreted languages\n",
    "    - Development environments\n",
    "- Variables\n",
    "    - Data types\n",
    "- Data structures\n",
    "    - Lists\n",
    "    - Dictionaries\n",
    "- Control of execution\n",
    "    - Loops\n",
    "    - Conditions\n",
    " \n",
    "We will also demonstrate data analysis with Pandas.\n",
    "\n",
    "We will use Jupyter Notebooks for the tutorial. Learners are encouraged to use the interpreter or development environment of their choice. Python 3 is recommended."
   ]
  },
  {
   "cell_type": "markdown",
   "id": "b26adfc8-1e9f-4700-a2ba-c8969f448b7e",
   "metadata": {},
   "source": [
    "## Python is an interpreted language\n",
    "\n",
    "Code does not need to be compiled. It is evaluated and executed by an interpreter. "
   ]
  },
  {
   "cell_type": "code",
   "execution_count": 1,
   "id": "1d4d342e-3ede-4808-8479-d336145da49d",
   "metadata": {},
   "outputs": [
    {
     "data": {
      "text/plain": [
       "255.0"
      ]
     },
     "execution_count": 1,
     "metadata": {},
     "output_type": "execute_result"
    }
   ],
   "source": [
    "# Demonstration: Python as a calculator\n",
    "# Mathematical expressions are evaluated using the standard order of operations (PEMDAS).\n",
    "3 * ((14 / 7) + 99 - 16)"
   ]
  },
  {
   "cell_type": "markdown",
   "id": "61552135-b11f-4204-9de0-c9b65a37c142",
   "metadata": {},
   "source": [
    "## Variables store values"
   ]
  },
  {
   "cell_type": "code",
   "execution_count": 2,
   "id": "f31cdf65-089b-4ca0-a4cb-f920a82eb504",
   "metadata": {},
   "outputs": [
    {
     "name": "stdout",
     "output_type": "stream",
     "text": [
      "The value of 'a' is: 5\n",
      "The value of 'b' is: 10\n"
     ]
    }
   ],
   "source": [
    "# Values are assigned to variables using =\n",
    "a = 5\n",
    "b = 10\n",
    "print(\"The value of 'a' is:\", a)\n",
    "print(\"The value of 'b' is:\", b)"
   ]
  },
  {
   "cell_type": "code",
   "execution_count": 3,
   "id": "436d31ac-1acf-4a1d-81ec-619e9aa73ca4",
   "metadata": {},
   "outputs": [
    {
     "name": "stdout",
     "output_type": "stream",
     "text": [
      "Sum of a + b: 15\n",
      "Product of a * b: 50\n",
      "a to the power of b: 9765625\n"
     ]
    }
   ],
   "source": [
    "# Variables can be used in expressions\n",
    "print(\"Sum of a + b:\", a + b)\n",
    "print(\"Product of a * b:\", a * b)\n",
    "print(\"a to the power of b:\", a ** b)"
   ]
  },
  {
   "cell_type": "code",
   "execution_count": 4,
   "id": "49c65c03-d2c4-4668-91bd-6de59792f956",
   "metadata": {},
   "outputs": [
    {
     "name": "stdout",
     "output_type": "stream",
     "text": [
      "Initial value of t: 84\n",
      "Final value of t: 134\n"
     ]
    }
   ],
   "source": [
    "# The value of a variable can be modified in place.\n",
    "# That is, it can be overwritten using the previous value.\n",
    "t = 84\n",
    "print(\"Initial value of t:\", t)\n",
    "t = t + (a * b)\n",
    "print(\"Final value of t:\", t)"
   ]
  },
  {
   "cell_type": "markdown",
   "id": "32192ca0-39b9-400c-b619-942618ddd775",
   "metadata": {},
   "source": [
    "## Variables have data types\n",
    "\n",
    "Python supports many different data types. Common data types are\n",
    "\n",
    "- string (character data)\n",
    "- integer\n",
    "- floating point number\n",
    "- boolean (True/False)"
   ]
  },
  {
   "cell_type": "code",
   "execution_count": 5,
   "id": "c751b451-c764-43eb-8190-e66da49b7d8b",
   "metadata": {},
   "outputs": [
    {
     "data": {
      "text/plain": [
       "int"
      ]
     },
     "execution_count": 5,
     "metadata": {},
     "output_type": "execute_result"
    }
   ],
   "source": [
    "# Use the type() function to find out an object's data type\n",
    "type(1)"
   ]
  },
  {
   "cell_type": "code",
   "execution_count": 6,
   "id": "3c78b864-eedc-4f5c-a6a9-2b381e5704a8",
   "metadata": {},
   "outputs": [
    {
     "data": {
      "text/plain": [
       "float"
      ]
     },
     "execution_count": 6,
     "metadata": {},
     "output_type": "execute_result"
    }
   ],
   "source": [
    "type(1.0)"
   ]
  },
  {
   "cell_type": "code",
   "execution_count": 7,
   "id": "79094b5b-45b7-4735-8c83-43a14cafd5fc",
   "metadata": {},
   "outputs": [
    {
     "data": {
      "text/plain": [
       "str"
      ]
     },
     "execution_count": 7,
     "metadata": {},
     "output_type": "execute_result"
    }
   ],
   "source": [
    "type(\"one\")"
   ]
  },
  {
   "cell_type": "code",
   "execution_count": 8,
   "id": "8c088d4a-d7d6-4abd-adc9-feba7390a273",
   "metadata": {},
   "outputs": [
    {
     "data": {
      "text/plain": [
       "str"
      ]
     },
     "execution_count": 8,
     "metadata": {},
     "output_type": "execute_result"
    }
   ],
   "source": [
    "type(\"1\")"
   ]
  },
  {
   "cell_type": "code",
   "execution_count": 9,
   "id": "c5077cd6-f1be-45f8-9d3d-259abdd8e962",
   "metadata": {},
   "outputs": [
    {
     "data": {
      "text/plain": [
       "bool"
      ]
     },
     "execution_count": 9,
     "metadata": {},
     "output_type": "execute_result"
    }
   ],
   "source": [
    "type(True)"
   ]
  },
  {
   "cell_type": "code",
   "execution_count": 10,
   "id": "76692e58-6f02-43a0-b12e-eaacf0902dff",
   "metadata": {},
   "outputs": [
    {
     "name": "stdout",
     "output_type": "stream",
     "text": [
      "2.0\n",
      "<class 'float'>\n"
     ]
    }
   ],
   "source": [
    "# Python will do its best to coerce data types as needed to evaluate an expression\n",
    "print(1 + 1.0)\n",
    "print(type(1 + 1.0))"
   ]
  },
  {
   "cell_type": "code",
   "execution_count": 11,
   "id": "5c6bfa61-bdd0-4c5d-b9b5-8c231ae3395a",
   "metadata": {},
   "outputs": [
    {
     "ename": "TypeError",
     "evalue": "unsupported operand type(s) for +: 'int' and 'str'",
     "output_type": "error",
     "traceback": [
      "\u001b[1;31m---------------------------------------------------------------------------\u001b[0m",
      "\u001b[1;31mTypeError\u001b[0m                                 Traceback (most recent call last)",
      "Cell \u001b[1;32mIn[11], line 3\u001b[0m\n\u001b[0;32m      1\u001b[0m \u001b[38;5;66;03m# But generally expressions that attempt to perform operations on both string and numeric data types will cause an error.\u001b[39;00m\n\u001b[0;32m      2\u001b[0m \u001b[38;5;66;03m# Troubleshooting tip - this is a common error.\u001b[39;00m\n\u001b[1;32m----> 3\u001b[0m \u001b[38;5;28mprint\u001b[39m(\u001b[38;5;241;43m1\u001b[39;49m\u001b[43m \u001b[49m\u001b[38;5;241;43m+\u001b[39;49m\u001b[43m \u001b[49m\u001b[38;5;124;43m\"\u001b[39;49m\u001b[38;5;124;43m1\u001b[39;49m\u001b[38;5;124;43m\"\u001b[39;49m)\n",
      "\u001b[1;31mTypeError\u001b[0m: unsupported operand type(s) for +: 'int' and 'str'"
     ]
    }
   ],
   "source": [
    "# But generally expressions that attempt to perform operations on both string and numeric data types will cause an error.\n",
    "# Troubleshooting tip - this is a common error.\n",
    "print(1 + \"1\")"
   ]
  },
  {
   "cell_type": "code",
   "execution_count": 12,
   "id": "e56d7be8-1892-496f-9b45-e3a4d7370ebd",
   "metadata": {},
   "outputs": [],
   "source": [
    "# Let's use some variables to describe a car\n",
    "make = \"Honda\"\n",
    "model = \"Fit\"\n",
    "year = 2013\n",
    "cyl = 4\n",
    "transmission = \"manual\""
   ]
  },
  {
   "cell_type": "code",
   "execution_count": 13,
   "id": "fb0b86ca-b1c8-4372-9aaf-37837d7f3c37",
   "metadata": {},
   "outputs": [],
   "source": [
    "# Describe a second car.\n",
    "# What happens is we reuse the previous variable names?\n",
    "# One solution is to use more variable names.\n",
    "make_c2 = \"GMC\"\n",
    "model_c2 = \"Canyon\"\n",
    "year_c2 = 2006\n",
    "cyl_c2 = 4\n",
    "transmission_c2= \"automatic\""
   ]
  },
  {
   "cell_type": "code",
   "execution_count": 14,
   "id": "2f48f4b5-433c-4f48-8197-f940e51d0732",
   "metadata": {},
   "outputs": [],
   "source": [
    "# We can use this variable naming schema to describe any number of cars.\n",
    "# Describe a third vehicle, using a '_c3' suffix after each of the common variable names.\n",
    "make_c3 = \"Honda\"\n",
    "model_c3 = \"Rebel\"\n",
    "year_c3 = 2018\n",
    "cyl_c3 = 1\n",
    "transmission_c3 = \"manual\""
   ]
  },
  {
   "cell_type": "markdown",
   "id": "c758a194-e92d-4dc4-8dd3-6a3f7b1087be",
   "metadata": {},
   "source": [
    "## Lists\n",
    "\n",
    "A list is an ordered, mutable collection of objects."
   ]
  },
  {
   "cell_type": "code",
   "execution_count": 15,
   "id": "0e09e350-fe2c-4526-931c-bf9db44159f6",
   "metadata": {},
   "outputs": [
    {
     "name": "stdout",
     "output_type": "stream",
     "text": [
      "[1, 23, 8, 14, 200, 75, 6]\n"
     ]
    }
   ],
   "source": [
    "# Ordered - in this case means not sorted\n",
    "number_list = [1, 23, 8, 14, 200, 75, 6]\n",
    "print(number_list)"
   ]
  },
  {
   "cell_type": "code",
   "execution_count": 16,
   "id": "473d337e-c80c-4f79-b2ed-de4c0329518f",
   "metadata": {},
   "outputs": [
    {
     "name": "stdout",
     "output_type": "stream",
     "text": [
      "['a', 'ball', 'car', 'Jon']\n"
     ]
    }
   ],
   "source": [
    "# Objects in a list can be any data type\n",
    "string_list = [\"a\", \"ball\", \"car\", \"Jon\"]\n",
    "print(string_list)"
   ]
  },
  {
   "cell_type": "code",
   "execution_count": 17,
   "id": "553a83c3-dee5-4470-9965-59bdbc39aa13",
   "metadata": {},
   "outputs": [],
   "source": [
    "# We can mix data types in a list.\n",
    "# For example if we create a list of information about one of our cars.\n",
    "first_car = [make, model, year, cyl, transmission]"
   ]
  },
  {
   "cell_type": "code",
   "execution_count": 18,
   "id": "9d17edfe-bb32-4823-839e-4635e0cacf5d",
   "metadata": {},
   "outputs": [
    {
     "name": "stdout",
     "output_type": "stream",
     "text": [
      "['Honda', 'Fit', 2013, 4, 'manual']\n"
     ]
    }
   ],
   "source": [
    "print(first_car)"
   ]
  },
  {
   "cell_type": "code",
   "execution_count": 19,
   "id": "97917360-7390-4eb3-9b9f-647c0f76320f",
   "metadata": {},
   "outputs": [
    {
     "data": {
      "text/plain": [
       "'manual'"
      ]
     },
     "execution_count": 19,
     "metadata": {},
     "output_type": "execute_result"
    }
   ],
   "source": [
    "# Mutable\n",
    "# What if we want to update a value?\n",
    "# We use the index position of the element we want to replace.\n",
    "first_car[4]"
   ]
  },
  {
   "cell_type": "code",
   "execution_count": 20,
   "id": "e2ca2adc-9f06-4e05-b8d4-5cca452e3867",
   "metadata": {},
   "outputs": [],
   "source": [
    "first_car[4] = 'standard'"
   ]
  },
  {
   "cell_type": "code",
   "execution_count": 21,
   "id": "88b1f4e9-fd7a-4f1c-bcb8-053e83ef3034",
   "metadata": {},
   "outputs": [
    {
     "name": "stdout",
     "output_type": "stream",
     "text": [
      "['Honda', 'Fit', 2013, 4, 'standard']\n"
     ]
    }
   ],
   "source": [
    "print(first_car)"
   ]
  },
  {
   "cell_type": "code",
   "execution_count": 22,
   "id": "72cd20ba-5bba-451b-9fcc-79a054785c13",
   "metadata": {},
   "outputs": [
    {
     "data": {
      "text/plain": [
       "1"
      ]
     },
     "execution_count": 22,
     "metadata": {},
     "output_type": "execute_result"
    }
   ],
   "source": [
    "# Index positions are used to select or retrieve elements from a lit\n",
    "# Python uses zero-indexing\n",
    "# Retrieve the first element\n",
    "number_list[0]"
   ]
  },
  {
   "cell_type": "code",
   "execution_count": 23,
   "id": "837a44c6-1220-4f07-95fa-b6c928952a3e",
   "metadata": {},
   "outputs": [
    {
     "data": {
      "text/plain": [
       "'ball'"
      ]
     },
     "execution_count": 23,
     "metadata": {},
     "output_type": "execute_result"
    }
   ],
   "source": [
    "# Retrieve the 2nd element, etc.\n",
    "string_list[1]"
   ]
  },
  {
   "cell_type": "code",
   "execution_count": 24,
   "id": "de94a5b3-e226-44d3-9722-53d68cb5e862",
   "metadata": {},
   "outputs": [
    {
     "name": "stdout",
     "output_type": "stream",
     "text": [
      "6\n",
      "car\n"
     ]
    }
   ],
   "source": [
    "# Negative index positions work\n",
    "# Get the last element\n",
    "print(number_list[-1])\n",
    "\n",
    "# And the second to last element\n",
    "print(string_list[-2])"
   ]
  },
  {
   "cell_type": "code",
   "execution_count": 25,
   "id": "324963a3-5169-456a-b8bb-9548941437d4",
   "metadata": {},
   "outputs": [
    {
     "data": {
      "text/plain": [
       "[23, 8]"
      ]
     },
     "execution_count": 25,
     "metadata": {},
     "output_type": "execute_result"
    }
   ],
   "source": [
    "# Use index positions to slice or subset list elements\n",
    "# Slicing syntax is begin with left index position, go up to but not including right index position\n",
    "number_list[1:3]"
   ]
  },
  {
   "cell_type": "code",
   "execution_count": 26,
   "id": "6fdd3751-ce0b-46b2-be99-3ccc7df4699d",
   "metadata": {},
   "outputs": [
    {
     "data": {
      "text/plain": [
       "['a', 'ball', 'car', 'Jon']"
      ]
     },
     "execution_count": 26,
     "metadata": {},
     "output_type": "execute_result"
    }
   ],
   "source": [
    "# Start and end positions can be left out is starting from the beginning or going to the end\n",
    "string_list[:4]"
   ]
  },
  {
   "cell_type": "code",
   "execution_count": 27,
   "id": "a27b6dcc-f5a8-490f-aff8-5135b8f3373f",
   "metadata": {},
   "outputs": [
    {
     "data": {
      "text/plain": [
       "[14, 200, 75, 6]"
      ]
     },
     "execution_count": 27,
     "metadata": {},
     "output_type": "execute_result"
    }
   ],
   "source": [
    "number_list[3:]"
   ]
  },
  {
   "cell_type": "markdown",
   "id": "cb76f8ca-43c9-4d31-8f1d-c3f480b453e5",
   "metadata": {},
   "source": [
    "## Loops\n",
    "\n",
    "Often we interact with lists and other iterable objects using *for loops*."
   ]
  },
  {
   "cell_type": "code",
   "execution_count": 28,
   "id": "893a381f-f8a7-42f2-8549-29dab5f0b62f",
   "metadata": {},
   "outputs": [
    {
     "name": "stdout",
     "output_type": "stream",
     "text": [
      "l\n",
      "e\n",
      "t\n",
      "t\n",
      "e\n",
      "r\n"
     ]
    }
   ],
   "source": [
    "# Use a for loop to iterate over a collection.\n",
    "# A word is iterable - it is a collection of letters.\n",
    "for a in 'letter':\n",
    "    print(a)"
   ]
  },
  {
   "cell_type": "code",
   "execution_count": 29,
   "id": "2bbbbb1f-30a8-4cbd-9104-e0995281ba22",
   "metadata": {},
   "outputs": [
    {
     "name": "stdout",
     "output_type": "stream",
     "text": [
      "value: Honda\n",
      "data type: <class 'str'>\n",
      "value: Fit\n",
      "data type: <class 'str'>\n",
      "value: 2013\n",
      "data type: <class 'int'>\n",
      "value: 4\n",
      "data type: <class 'int'>\n",
      "value: standard\n",
      "data type: <class 'str'>\n"
     ]
    }
   ],
   "source": [
    "# Lists are iterable\n",
    "for v in first_car:\n",
    "    print(\"value:\", v)\n",
    "    print(\"data type:\", type(v))"
   ]
  },
  {
   "cell_type": "code",
   "execution_count": 30,
   "id": "cb53c990-fd0c-4092-9b85-f65566af3ff6",
   "metadata": {},
   "outputs": [
    {
     "name": "stdout",
     "output_type": "stream",
     "text": [
      "Initial value of c this time through the loop: 10\n",
      "Initial value of c this time through the loop: 11\n",
      "Initial value of c this time through the loop: 12\n",
      "Initial value of c this time through the loop: 13\n",
      "Initial value of c this time through the loop: 14\n",
      "Initial value of c this time through the loop: 15\n",
      "Initial value of c this time through the loop: 16\n",
      "Initial value of c this time through the loop: 17\n",
      "Initial value of c this time through the loop: 18\n",
      "Final value of c: 19\n"
     ]
    }
   ],
   "source": [
    "# Loops can be used to modify the value of a variable.\n",
    "c = 10\n",
    "for i in range(1, 10):\n",
    "    print(\"Initial value of c this time through the loop:\", c)\n",
    "    c += 1\n",
    "\n",
    "print(\"Final value of c:\", c)"
   ]
  },
  {
   "cell_type": "code",
   "execution_count": 31,
   "id": "3807d0c2-4317-4790-842e-c94d418556a5",
   "metadata": {},
   "outputs": [
    {
     "name": "stdout",
     "output_type": "stream",
     "text": [
      "[1, 23, 8, 14, 200, 75, 6, 2, 4, 6, 8, 10, 12, 14, 16, 18]\n"
     ]
    }
   ],
   "source": [
    "# We can use loops to add elements to a list.\n",
    "for n in range(2, 20, 2):\n",
    "    number_list.append(n)\n",
    "\n",
    "print(number_list)"
   ]
  },
  {
   "cell_type": "code",
   "execution_count": 32,
   "id": "378566f6-0e43-44f5-8f6e-3e33a1dea205",
   "metadata": {},
   "outputs": [],
   "source": [
    "# Use help() to find out more about list() methods\n",
    "#help(list)"
   ]
  },
  {
   "cell_type": "code",
   "execution_count": 33,
   "id": "7a5064b2-d701-47e8-ab95-6389f9f3e07c",
   "metadata": {},
   "outputs": [
    {
     "name": "stdout",
     "output_type": "stream",
     "text": [
      "Current value of x: 10\n",
      "Current value of x: 11\n",
      "Current value of x: 12\n",
      "Current value of x: 13\n",
      "Current value of x: 14\n",
      "Current value of x: 15\n",
      "Current value of x: 16\n",
      "Current value of x: 17\n",
      "Current value of x: 18\n",
      "Current value of x: 19\n",
      "Final value of x: 20\n"
     ]
    }
   ],
   "source": [
    "# Another type of loop is a while loop.\n",
    "# Execution continues until a condition is met.\n",
    "x = 10\n",
    "y = 20\n",
    "while x < y:\n",
    "    print(\"Current value of x:\", x)\n",
    "    # The below is shorthand for x = x + 1\n",
    "    x += 1\n",
    "\n",
    "print(\"Final value of x:\", x)"
   ]
  },
  {
   "cell_type": "code",
   "execution_count": 34,
   "id": "cb69e302-68b2-4cb9-986f-25193e256eaf",
   "metadata": {},
   "outputs": [
    {
     "name": "stdout",
     "output_type": "stream",
     "text": [
      "['GMC', 'Canyon', 2006, 4, 'automatic']\n",
      "['Honda', 'Rebel', 2018, 1, 'manual']\n"
     ]
    }
   ],
   "source": [
    "# Make two more car lists.\n",
    "second_car = [make_c2, model_c2, year_c2, cyl_c2, transmission_c2]\n",
    "third_car = [make_c3, model_c3, year_c3, cyl_c3, transmission_c3]\n",
    "print(second_car)\n",
    "print(third_car)"
   ]
  },
  {
   "cell_type": "code",
   "execution_count": 35,
   "id": "e09e9069-7998-4264-933b-c80cf33e0ee8",
   "metadata": {},
   "outputs": [],
   "source": [
    "# We can create an inventory or catalog of our cars by nesting loops.\n",
    "car_inventory = [first_car, second_car, third_car]"
   ]
  },
  {
   "cell_type": "code",
   "execution_count": 36,
   "id": "1d6f7315-1139-4c6d-8bd5-cd7b7f314414",
   "metadata": {},
   "outputs": [
    {
     "name": "stdout",
     "output_type": "stream",
     "text": [
      "[['Honda', 'Fit', 2013, 4, 'standard'], ['GMC', 'Canyon', 2006, 4, 'automatic'], ['Honda', 'Rebel', 2018, 1, 'manual']]\n"
     ]
    }
   ],
   "source": [
    "# Note that this is a nested list - a list of lists.\n",
    "print(car_inventory)"
   ]
  },
  {
   "cell_type": "code",
   "execution_count": 37,
   "id": "3815b68b-d6a0-47b5-a942-14793c2a60ef",
   "metadata": {},
   "outputs": [
    {
     "name": "stdout",
     "output_type": "stream",
     "text": [
      "First element in the nested list: ['Honda', 'Fit', 2013, 4, 'standard']\n",
      "First element of the first element in the nested list: Honda\n"
     ]
    }
   ],
   "source": [
    "# In order to select elements, we extend the syntax from above.\n",
    "# First nested list\n",
    "print(\"First element in the nested list:\", car_inventory[0])\n",
    "\n",
    "# First element in the first nested list\n",
    "print(\"First element of the first element in the nested list:\", car_inventory[0][0])"
   ]
  },
  {
   "cell_type": "markdown",
   "id": "b7b938a9-2101-4869-b9ac-42535cb30fec",
   "metadata": {},
   "source": [
    "## Dictionaries\n",
    "\n",
    "Our *car_inventory* is a nested list, which contains lists of details about a set of cars. The example was selected as a way to demonstrate lists and list methods, but wouldn't be a very practical way to actually keep an inventory. What are some problems with this approach?\n",
    "\n",
    "- Fragile (doesn't scale well to adding lots of cars)\n",
    "- Requires use of many similar variable names\n",
    "- Make, model, and other descriptors are lost when lists are created\n",
    "\n",
    "Dictionaries are another commonly used data structure in python. Dictionaries are mutable, unordered key:value pairs."
   ]
  },
  {
   "cell_type": "code",
   "execution_count": 38,
   "id": "f1290688-f129-422a-ace8-91a1b1d18165",
   "metadata": {},
   "outputs": [],
   "source": [
    "# Use curly brackets to create a dictionary.\n",
    "\n",
    "my_car = {\"make\": \"Honda\",\n",
    "         \"model\": \"Fit\",\n",
    "         \"year\": 2013,\n",
    "         \"color\": \"blue\"}"
   ]
  },
  {
   "cell_type": "code",
   "execution_count": 39,
   "id": "70c1efbd-4140-4050-b906-d70aaf676ee4",
   "metadata": {},
   "outputs": [
    {
     "name": "stdout",
     "output_type": "stream",
     "text": [
      "{'make': 'Honda', 'model': 'Fit', 'year': 2013, 'color': 'blue'}\n"
     ]
    }
   ],
   "source": [
    "# We can inspect the dictionary.\n",
    "print(my_car)"
   ]
  },
  {
   "cell_type": "code",
   "execution_count": 40,
   "id": "0a7fdca6-2de4-4e5c-9d38-e5aafb1a5a9d",
   "metadata": {},
   "outputs": [
    {
     "data": {
      "text/plain": [
       "dict_keys(['make', 'model', 'year', 'color'])"
      ]
     },
     "execution_count": 40,
     "metadata": {},
     "output_type": "execute_result"
    }
   ],
   "source": [
    "# Get the keys\n",
    "my_car.keys()"
   ]
  },
  {
   "cell_type": "code",
   "execution_count": 41,
   "id": "bf06d1b6-312e-4b59-8f12-c806cae3e9d2",
   "metadata": {},
   "outputs": [
    {
     "data": {
      "text/plain": [
       "dict_values(['Honda', 'Fit', 2013, 'blue'])"
      ]
     },
     "execution_count": 41,
     "metadata": {},
     "output_type": "execute_result"
    }
   ],
   "source": [
    "# Get the values\n",
    "my_car.values()"
   ]
  },
  {
   "cell_type": "code",
   "execution_count": 42,
   "id": "cdf09633-6067-45b7-bc39-30d71c2e82b6",
   "metadata": {},
   "outputs": [
    {
     "data": {
      "text/plain": [
       "'blue'"
      ]
     },
     "execution_count": 42,
     "metadata": {},
     "output_type": "execute_result"
    }
   ],
   "source": [
    "# Retrieve a particular value by using its key\n",
    "my_car['color']"
   ]
  },
  {
   "cell_type": "code",
   "execution_count": 43,
   "id": "3c379914-e5ba-4709-9ade-1d76a7c77d7b",
   "metadata": {},
   "outputs": [],
   "source": [
    "# Add a new key:value pair\n",
    "# Note the value in this case is a list - values can be anything, including lists and other dictionaries.\n",
    "my_car[\"options\"] = [\"cd player\", \"a/c\", \"power windows\"]"
   ]
  },
  {
   "cell_type": "code",
   "execution_count": 44,
   "id": "3cf2e036-2582-4de0-beee-f2b1bbb2845e",
   "metadata": {},
   "outputs": [
    {
     "data": {
      "text/plain": [
       "{'make': 'Honda',\n",
       " 'model': 'Fit',\n",
       " 'year': 2013,\n",
       " 'color': 'blue',\n",
       " 'options': ['cd player', 'a/c', 'power windows']}"
      ]
     },
     "execution_count": 44,
     "metadata": {},
     "output_type": "execute_result"
    }
   ],
   "source": [
    "my_car"
   ]
  },
  {
   "cell_type": "code",
   "execution_count": 45,
   "id": "9b67d04a-df19-4903-bb9c-84536d55694e",
   "metadata": {},
   "outputs": [
    {
     "name": "stdout",
     "output_type": "stream",
     "text": [
      "Key: make\n",
      "Value: Honda\n",
      "Key: model\n",
      "Value: Fit\n",
      "Key: year\n",
      "Value: 2013\n",
      "Key: color\n",
      "Value: blue\n",
      "Key: options\n",
      "Value: ['cd player', 'a/c', 'power windows']\n"
     ]
    }
   ],
   "source": [
    "# Dictionaries are iterable, though the syntax for using a dictionary in a for loop is different:\n",
    "for key, value in my_car.items():\n",
    "    print(\"Key:\", key)\n",
    "    print(\"Value:\", value)"
   ]
  },
  {
   "cell_type": "code",
   "execution_count": 46,
   "id": "3276a914-cda9-4dd1-98f1-6c2bd9446da2",
   "metadata": {},
   "outputs": [],
   "source": [
    "# Now we can create a more useful inventory\n",
    "car_inventory = {\"my_car\": my_car}"
   ]
  },
  {
   "cell_type": "code",
   "execution_count": 47,
   "id": "bf656579-f1cc-4f59-8723-e81a75136177",
   "metadata": {},
   "outputs": [],
   "source": [
    "# CREATE DICTIONARIES FOR THE OTHER CARS WE DESCRIBED ABOVE - DO TOGETHER OR INDIVIDUALLY"
   ]
  },
  {
   "cell_type": "code",
   "execution_count": 48,
   "id": "ace9af18-2fa7-4d87-9c46-ad0ed48283b9",
   "metadata": {},
   "outputs": [],
   "source": [
    "another_car = {\"make\": \"GMC\",\n",
    "              \"model\": \"Canyon\",\n",
    "              \"year\": 2006,\n",
    "              \"color\": \"grey\"}"
   ]
  },
  {
   "cell_type": "code",
   "execution_count": 49,
   "id": "a0b8b8e3-7cb8-40f6-a92a-008c2ed32d4d",
   "metadata": {},
   "outputs": [],
   "source": [
    "car_inventory[\"another_car\"] = another_car"
   ]
  },
  {
   "cell_type": "code",
   "execution_count": 50,
   "id": "7a44bdbf-7ee0-4ddf-b0d9-5f48cfa797b9",
   "metadata": {},
   "outputs": [],
   "source": [
    "# A different way to do the above\n",
    "car_inventory[\"deans_car\"] = {\"make\": \"Chevrolet\",\n",
    "                             \"model\": \"Impala\",\n",
    "                             \"color\": \"black\"}"
   ]
  },
  {
   "cell_type": "code",
   "execution_count": 51,
   "id": "320bad52-e0d9-4175-8df8-9c071bbd5717",
   "metadata": {},
   "outputs": [
    {
     "data": {
      "text/plain": [
       "{'my_car': {'make': 'Honda',\n",
       "  'model': 'Fit',\n",
       "  'year': 2013,\n",
       "  'color': 'blue',\n",
       "  'options': ['cd player', 'a/c', 'power windows']},\n",
       " 'another_car': {'make': 'GMC',\n",
       "  'model': 'Canyon',\n",
       "  'year': 2006,\n",
       "  'color': 'grey'},\n",
       " 'deans_car': {'make': 'Chevrolet', 'model': 'Impala', 'color': 'black'}}"
      ]
     },
     "execution_count": 51,
     "metadata": {},
     "output_type": "execute_result"
    }
   ],
   "source": [
    "car_inventory"
   ]
  },
  {
   "cell_type": "markdown",
   "id": "8b7ab094-22d1-45cb-a2a2-c349041e192e",
   "metadata": {},
   "source": [
    "## Conditionals\n",
    "\n",
    "We can control which lines of code are evaluated based on conditions."
   ]
  },
  {
   "cell_type": "code",
   "execution_count": 52,
   "id": "85dbb7ef-76dc-46f4-b4a0-d9f8e12612ee",
   "metadata": {},
   "outputs": [
    {
     "name": "stdout",
     "output_type": "stream",
     "text": [
      "Greater than\n"
     ]
    }
   ],
   "source": [
    "# If - the only required condition\n",
    "if 1 > 0:\n",
    "    print(\"Greater than\")"
   ]
  },
  {
   "cell_type": "code",
   "execution_count": 53,
   "id": "7b2bd5a9-119e-4d66-901f-493e094fdcc2",
   "metadata": {},
   "outputs": [
    {
     "name": "stdout",
     "output_type": "stream",
     "text": [
      "Less than or equal to\n"
     ]
    }
   ],
   "source": [
    "# Else covers all other conditions\n",
    "if 1 > 2:\n",
    "    print(\"Greater than\")\n",
    "else:\n",
    "    print(\"Less than or equal to\")"
   ]
  },
  {
   "cell_type": "code",
   "execution_count": 54,
   "id": "f663784c-b1a7-4637-899e-60e3e55cf2ff",
   "metadata": {},
   "outputs": [
    {
     "name": "stdout",
     "output_type": "stream",
     "text": [
      "You have a poodle !\n"
     ]
    }
   ],
   "source": [
    "# use elif - else if - for multiple conditions\n",
    "# again, the final else is optional and used to handle cases that do not evaluate to True\n",
    "my_pets = [\"heeler\", \"terrier\", \"gecko\", \"bearded dragon\"]\n",
    "your_pets = [\"terrier\", \"poodle\", \"turtle\", \"goldfish\"]\n",
    "some_animal = 'poodle'\n",
    "\n",
    "if some_animal in my_pets:\n",
    "    print(\"I have a\", some_animal, \"!\")\n",
    "elif some_animal in your_pets:\n",
    "    print(\"You have a\", some_animal, \"!\")\n",
    "else:\n",
    "    print(\"Does anyone want a\", some_animal, \"?\")"
   ]
  },
  {
   "cell_type": "code",
   "execution_count": 55,
   "id": "c3b06cf6-8eb8-4292-8e6c-88785567a71c",
   "metadata": {},
   "outputs": [],
   "source": [
    "# What happens if we change some_animal to \"terrier\" and rerun the above cell? What do you anticipate? \n",
    "# What actually happens? Why?"
   ]
  },
  {
   "cell_type": "code",
   "execution_count": 56,
   "id": "f85ff250-c603-4c48-8870-0b2bf1fdd66c",
   "metadata": {},
   "outputs": [
    {
     "name": "stdout",
     "output_type": "stream",
     "text": [
      "You have a poodle !\n"
     ]
    }
   ],
   "source": [
    "# To address that we can combine conditions\n",
    "# During tutorial, just update the cell above\n",
    "\n",
    "if some_animal in my_pets and some_animal in your_pets:\n",
    "    print(\"We both have a\", some_animal, \"!\")\n",
    "elif some_animal in my_pets:\n",
    "    print(\"I have a\", some_animal, \"!\")\n",
    "elif some_animal in your_pets:\n",
    "    print(\"You have a\", some_animal, \"!\")\n",
    "else:\n",
    "    print(\"Does anyone want a\", some_animal, \"?\")"
   ]
  },
  {
   "cell_type": "markdown",
   "id": "ff02a479-416b-46c5-9320-3676551a1e4c",
   "metadata": {},
   "source": [
    "## Pandas\n",
    "\n",
    "Read and save tabular data from a URL to a file\n",
    "\n",
    "As an application of what we have done so far, here we demonstrate using variables to download data and save it to a file on our local system.\n"
   ]
  },
  {
   "cell_type": "code",
   "execution_count": 57,
   "id": "f7d09d04-6f2a-45bc-8d1f-a91f45ac5ec0",
   "metadata": {},
   "outputs": [],
   "source": [
    "# need to add functionality to base python - import library\n",
    "import requests"
   ]
  },
  {
   "cell_type": "code",
   "execution_count": 58,
   "id": "6756a888-9e83-4781-a92c-8db0e46a053b",
   "metadata": {},
   "outputs": [],
   "source": [
    "file_url = \"https://raw.githubusercontent.com/unmrds/cc-python/master/tutorials/beowulf_babynames/names/2010\""
   ]
  },
  {
   "cell_type": "code",
   "execution_count": 59,
   "id": "298dcf1d-4032-4af1-a714-4555bb791296",
   "metadata": {},
   "outputs": [],
   "source": [
    "r = requests.get(file_url) # dot syntax - \"get\" is a function or method  of a requests object, file_url is the arg"
   ]
  },
  {
   "cell_type": "code",
   "execution_count": 60,
   "id": "72340565-ca90-4afd-8bbe-3060fb014029",
   "metadata": {},
   "outputs": [],
   "source": [
    "# inspect\n",
    "# print(r.text)"
   ]
  },
  {
   "cell_type": "code",
   "execution_count": 61,
   "id": "a6392dba-dbda-4941-8b22-dc43c8d5bdce",
   "metadata": {},
   "outputs": [],
   "source": [
    "# save to file\n",
    "\n",
    "with open('2010', 'w') as o:\n",
    "    o.write(r.text)"
   ]
  },
  {
   "cell_type": "code",
   "execution_count": 62,
   "id": "5d6b52cf-9787-49e2-8637-c005279942b2",
   "metadata": {},
   "outputs": [],
   "source": [
    "# Before proceeding - check is anyone not using Anaconda\n",
    "# demo installing pandas as needed\n",
    "import pandas as pd"
   ]
  },
  {
   "cell_type": "code",
   "execution_count": 63,
   "id": "e24137ec-7ed4-43d8-9972-cb8891b5a8d8",
   "metadata": {},
   "outputs": [],
   "source": [
    "names_2010 = pd.read_csv('2010', encoding='latin1')"
   ]
  },
  {
   "cell_type": "code",
   "execution_count": 64,
   "id": "5543a84f-b78a-4221-9fe9-ab019404e84b",
   "metadata": {},
   "outputs": [
    {
     "data": {
      "text/html": [
       "<div>\n",
       "<style scoped>\n",
       "    .dataframe tbody tr th:only-of-type {\n",
       "        vertical-align: middle;\n",
       "    }\n",
       "\n",
       "    .dataframe tbody tr th {\n",
       "        vertical-align: top;\n",
       "    }\n",
       "\n",
       "    .dataframe thead th {\n",
       "        text-align: right;\n",
       "    }\n",
       "</style>\n",
       "<table border=\"1\" class=\"dataframe\">\n",
       "  <thead>\n",
       "    <tr style=\"text-align: right;\">\n",
       "      <th></th>\n",
       "      <th>name</th>\n",
       "      <th>sex</th>\n",
       "      <th>count</th>\n",
       "    </tr>\n",
       "  </thead>\n",
       "  <tbody>\n",
       "    <tr>\n",
       "      <th>0</th>\n",
       "      <td>Isabella</td>\n",
       "      <td>F</td>\n",
       "      <td>22925</td>\n",
       "    </tr>\n",
       "    <tr>\n",
       "      <th>1</th>\n",
       "      <td>Sophia</td>\n",
       "      <td>F</td>\n",
       "      <td>20648</td>\n",
       "    </tr>\n",
       "    <tr>\n",
       "      <th>2</th>\n",
       "      <td>Emma</td>\n",
       "      <td>F</td>\n",
       "      <td>17354</td>\n",
       "    </tr>\n",
       "    <tr>\n",
       "      <th>3</th>\n",
       "      <td>Olivia</td>\n",
       "      <td>F</td>\n",
       "      <td>17030</td>\n",
       "    </tr>\n",
       "    <tr>\n",
       "      <th>4</th>\n",
       "      <td>Ava</td>\n",
       "      <td>F</td>\n",
       "      <td>15436</td>\n",
       "    </tr>\n",
       "    <tr>\n",
       "      <th>...</th>\n",
       "      <td>...</td>\n",
       "      <td>...</td>\n",
       "      <td>...</td>\n",
       "    </tr>\n",
       "    <tr>\n",
       "      <th>34084</th>\n",
       "      <td>Zymaire</td>\n",
       "      <td>M</td>\n",
       "      <td>5</td>\n",
       "    </tr>\n",
       "    <tr>\n",
       "      <th>34085</th>\n",
       "      <td>Zyonne</td>\n",
       "      <td>M</td>\n",
       "      <td>5</td>\n",
       "    </tr>\n",
       "    <tr>\n",
       "      <th>34086</th>\n",
       "      <td>Zyquarius</td>\n",
       "      <td>M</td>\n",
       "      <td>5</td>\n",
       "    </tr>\n",
       "    <tr>\n",
       "      <th>34087</th>\n",
       "      <td>Zyran</td>\n",
       "      <td>M</td>\n",
       "      <td>5</td>\n",
       "    </tr>\n",
       "    <tr>\n",
       "      <th>34088</th>\n",
       "      <td>Zzyzx</td>\n",
       "      <td>M</td>\n",
       "      <td>5</td>\n",
       "    </tr>\n",
       "  </tbody>\n",
       "</table>\n",
       "<p>34089 rows × 3 columns</p>\n",
       "</div>"
      ],
      "text/plain": [
       "            name sex  count\n",
       "0       Isabella   F  22925\n",
       "1         Sophia   F  20648\n",
       "2           Emma   F  17354\n",
       "3         Olivia   F  17030\n",
       "4            Ava   F  15436\n",
       "...          ...  ..    ...\n",
       "34084    Zymaire   M      5\n",
       "34085     Zyonne   M      5\n",
       "34086  Zyquarius   M      5\n",
       "34087      Zyran   M      5\n",
       "34088      Zzyzx   M      5\n",
       "\n",
       "[34089 rows x 3 columns]"
      ]
     },
     "execution_count": 64,
     "metadata": {},
     "output_type": "execute_result"
    }
   ],
   "source": [
    "names_2010 # inspect the data - note 34078 rows have been excluded, this is the head and tail"
   ]
  },
  {
   "cell_type": "code",
   "execution_count": 65,
   "id": "2fa76785-7518-4ff5-a4cc-eaef124294a3",
   "metadata": {},
   "outputs": [
    {
     "name": "stdout",
     "output_type": "stream",
     "text": [
      "<class 'pandas.core.frame.DataFrame'>\n",
      "RangeIndex: 34089 entries, 0 to 34088\n",
      "Data columns (total 3 columns):\n",
      " #   Column  Non-Null Count  Dtype \n",
      "---  ------  --------------  ----- \n",
      " 0   name    34089 non-null  object\n",
      " 1   sex     34089 non-null  object\n",
      " 2   count   34089 non-null  int64 \n",
      "dtypes: int64(1), object(2)\n",
      "memory usage: 799.1+ KB\n"
     ]
    }
   ],
   "source": [
    "# other ways to inspect the data - note again this is an important part of a workflow\n",
    "# not just something we're demonstrating here\n",
    "names_2010.info()"
   ]
  },
  {
   "cell_type": "code",
   "execution_count": 67,
   "id": "5fd96685-baeb-40ab-b1ec-612b3a73cf41",
   "metadata": {},
   "outputs": [
    {
     "data": {
      "text/html": [
       "<div>\n",
       "<style scoped>\n",
       "    .dataframe tbody tr th:only-of-type {\n",
       "        vertical-align: middle;\n",
       "    }\n",
       "\n",
       "    .dataframe tbody tr th {\n",
       "        vertical-align: top;\n",
       "    }\n",
       "\n",
       "    .dataframe thead th {\n",
       "        text-align: right;\n",
       "    }\n",
       "</style>\n",
       "<table border=\"1\" class=\"dataframe\">\n",
       "  <thead>\n",
       "    <tr style=\"text-align: right;\">\n",
       "      <th></th>\n",
       "      <th>name</th>\n",
       "      <th>sex</th>\n",
       "      <th>count</th>\n",
       "    </tr>\n",
       "  </thead>\n",
       "  <tbody>\n",
       "    <tr>\n",
       "      <th>0</th>\n",
       "      <td>Isabella</td>\n",
       "      <td>F</td>\n",
       "      <td>22925</td>\n",
       "    </tr>\n",
       "    <tr>\n",
       "      <th>1</th>\n",
       "      <td>Sophia</td>\n",
       "      <td>F</td>\n",
       "      <td>20648</td>\n",
       "    </tr>\n",
       "    <tr>\n",
       "      <th>2</th>\n",
       "      <td>Emma</td>\n",
       "      <td>F</td>\n",
       "      <td>17354</td>\n",
       "    </tr>\n",
       "    <tr>\n",
       "      <th>3</th>\n",
       "      <td>Olivia</td>\n",
       "      <td>F</td>\n",
       "      <td>17030</td>\n",
       "    </tr>\n",
       "    <tr>\n",
       "      <th>4</th>\n",
       "      <td>Ava</td>\n",
       "      <td>F</td>\n",
       "      <td>15436</td>\n",
       "    </tr>\n",
       "  </tbody>\n",
       "</table>\n",
       "</div>"
      ],
      "text/plain": [
       "       name sex  count\n",
       "0  Isabella   F  22925\n",
       "1    Sophia   F  20648\n",
       "2      Emma   F  17354\n",
       "3    Olivia   F  17030\n",
       "4       Ava   F  15436"
      ]
     },
     "execution_count": 67,
     "metadata": {},
     "output_type": "execute_result"
    }
   ],
   "source": [
    "names_2010.head()"
   ]
  },
  {
   "cell_type": "code",
   "execution_count": 68,
   "id": "cd9952cc-bf4a-4555-84b8-4884681b20c6",
   "metadata": {},
   "outputs": [
    {
     "data": {
      "text/plain": [
       "(34089, 3)"
      ]
     },
     "execution_count": 68,
     "metadata": {},
     "output_type": "execute_result"
    }
   ],
   "source": [
    "# attributes - no parenthesis\n",
    "names_2010.shape"
   ]
  },
  {
   "cell_type": "code",
   "execution_count": 69,
   "id": "247041db-10e6-40a3-9466-62ac245b0d89",
   "metadata": {},
   "outputs": [
    {
     "data": {
      "text/html": [
       "<div>\n",
       "<style scoped>\n",
       "    .dataframe tbody tr th:only-of-type {\n",
       "        vertical-align: middle;\n",
       "    }\n",
       "\n",
       "    .dataframe tbody tr th {\n",
       "        vertical-align: top;\n",
       "    }\n",
       "\n",
       "    .dataframe thead th {\n",
       "        text-align: right;\n",
       "    }\n",
       "</style>\n",
       "<table border=\"1\" class=\"dataframe\">\n",
       "  <thead>\n",
       "    <tr style=\"text-align: right;\">\n",
       "      <th></th>\n",
       "      <th>count</th>\n",
       "    </tr>\n",
       "  </thead>\n",
       "  <tbody>\n",
       "    <tr>\n",
       "      <th>count</th>\n",
       "      <td>34089.000000</td>\n",
       "    </tr>\n",
       "    <tr>\n",
       "      <th>mean</th>\n",
       "      <td>108.352812</td>\n",
       "    </tr>\n",
       "    <tr>\n",
       "      <th>std</th>\n",
       "      <td>697.685909</td>\n",
       "    </tr>\n",
       "    <tr>\n",
       "      <th>min</th>\n",
       "      <td>5.000000</td>\n",
       "    </tr>\n",
       "    <tr>\n",
       "      <th>25%</th>\n",
       "      <td>7.000000</td>\n",
       "    </tr>\n",
       "    <tr>\n",
       "      <th>50%</th>\n",
       "      <td>11.000000</td>\n",
       "    </tr>\n",
       "    <tr>\n",
       "      <th>75%</th>\n",
       "      <td>29.000000</td>\n",
       "    </tr>\n",
       "    <tr>\n",
       "      <th>max</th>\n",
       "      <td>22925.000000</td>\n",
       "    </tr>\n",
       "  </tbody>\n",
       "</table>\n",
       "</div>"
      ],
      "text/plain": [
       "              count\n",
       "count  34089.000000\n",
       "mean     108.352812\n",
       "std      697.685909\n",
       "min        5.000000\n",
       "25%        7.000000\n",
       "50%       11.000000\n",
       "75%       29.000000\n",
       "max    22925.000000"
      ]
     },
     "execution_count": 69,
     "metadata": {},
     "output_type": "execute_result"
    }
   ],
   "source": [
    "# descriptive stats\n",
    "# default is to only show stats for numeric data types\n",
    "names_2010.describe()"
   ]
  },
  {
   "cell_type": "code",
   "execution_count": 70,
   "id": "d1c96f20-9057-4363-b61c-9a8f6298842e",
   "metadata": {},
   "outputs": [
    {
     "data": {
      "text/html": [
       "<div>\n",
       "<style scoped>\n",
       "    .dataframe tbody tr th:only-of-type {\n",
       "        vertical-align: middle;\n",
       "    }\n",
       "\n",
       "    .dataframe tbody tr th {\n",
       "        vertical-align: top;\n",
       "    }\n",
       "\n",
       "    .dataframe thead th {\n",
       "        text-align: right;\n",
       "    }\n",
       "</style>\n",
       "<table border=\"1\" class=\"dataframe\">\n",
       "  <thead>\n",
       "    <tr style=\"text-align: right;\">\n",
       "      <th></th>\n",
       "      <th>name</th>\n",
       "      <th>sex</th>\n",
       "      <th>count</th>\n",
       "    </tr>\n",
       "  </thead>\n",
       "  <tbody>\n",
       "    <tr>\n",
       "      <th>count</th>\n",
       "      <td>34089</td>\n",
       "      <td>34089</td>\n",
       "      <td>34089.000000</td>\n",
       "    </tr>\n",
       "    <tr>\n",
       "      <th>unique</th>\n",
       "      <td>31643</td>\n",
       "      <td>2</td>\n",
       "      <td>NaN</td>\n",
       "    </tr>\n",
       "    <tr>\n",
       "      <th>top</th>\n",
       "      <td>Isabella</td>\n",
       "      <td>F</td>\n",
       "      <td>NaN</td>\n",
       "    </tr>\n",
       "    <tr>\n",
       "      <th>freq</th>\n",
       "      <td>2</td>\n",
       "      <td>19823</td>\n",
       "      <td>NaN</td>\n",
       "    </tr>\n",
       "    <tr>\n",
       "      <th>mean</th>\n",
       "      <td>NaN</td>\n",
       "      <td>NaN</td>\n",
       "      <td>108.352812</td>\n",
       "    </tr>\n",
       "    <tr>\n",
       "      <th>std</th>\n",
       "      <td>NaN</td>\n",
       "      <td>NaN</td>\n",
       "      <td>697.685909</td>\n",
       "    </tr>\n",
       "    <tr>\n",
       "      <th>min</th>\n",
       "      <td>NaN</td>\n",
       "      <td>NaN</td>\n",
       "      <td>5.000000</td>\n",
       "    </tr>\n",
       "    <tr>\n",
       "      <th>25%</th>\n",
       "      <td>NaN</td>\n",
       "      <td>NaN</td>\n",
       "      <td>7.000000</td>\n",
       "    </tr>\n",
       "    <tr>\n",
       "      <th>50%</th>\n",
       "      <td>NaN</td>\n",
       "      <td>NaN</td>\n",
       "      <td>11.000000</td>\n",
       "    </tr>\n",
       "    <tr>\n",
       "      <th>75%</th>\n",
       "      <td>NaN</td>\n",
       "      <td>NaN</td>\n",
       "      <td>29.000000</td>\n",
       "    </tr>\n",
       "    <tr>\n",
       "      <th>max</th>\n",
       "      <td>NaN</td>\n",
       "      <td>NaN</td>\n",
       "      <td>22925.000000</td>\n",
       "    </tr>\n",
       "  </tbody>\n",
       "</table>\n",
       "</div>"
      ],
      "text/plain": [
       "            name    sex         count\n",
       "count      34089  34089  34089.000000\n",
       "unique     31643      2           NaN\n",
       "top     Isabella      F           NaN\n",
       "freq           2  19823           NaN\n",
       "mean         NaN    NaN    108.352812\n",
       "std          NaN    NaN    697.685909\n",
       "min          NaN    NaN      5.000000\n",
       "25%          NaN    NaN      7.000000\n",
       "50%          NaN    NaN     11.000000\n",
       "75%          NaN    NaN     29.000000\n",
       "max          NaN    NaN  22925.000000"
      ]
     },
     "execution_count": 70,
     "metadata": {},
     "output_type": "execute_result"
    }
   ],
   "source": [
    "# in our case it can be useful to get all stats\n",
    "names_2010.describe(include='all')"
   ]
  },
  {
   "cell_type": "code",
   "execution_count": 71,
   "id": "7b12d2cb-0292-4b28-a80b-8c9231ad8158",
   "metadata": {},
   "outputs": [
    {
     "data": {
      "text/html": [
       "<div>\n",
       "<style scoped>\n",
       "    .dataframe tbody tr th:only-of-type {\n",
       "        vertical-align: middle;\n",
       "    }\n",
       "\n",
       "    .dataframe tbody tr th {\n",
       "        vertical-align: top;\n",
       "    }\n",
       "\n",
       "    .dataframe thead th {\n",
       "        text-align: right;\n",
       "    }\n",
       "</style>\n",
       "<table border=\"1\" class=\"dataframe\">\n",
       "  <thead>\n",
       "    <tr style=\"text-align: right;\">\n",
       "      <th></th>\n",
       "      <th>name</th>\n",
       "      <th>count</th>\n",
       "    </tr>\n",
       "    <tr>\n",
       "      <th>sex</th>\n",
       "      <th></th>\n",
       "      <th></th>\n",
       "    </tr>\n",
       "  </thead>\n",
       "  <tbody>\n",
       "    <tr>\n",
       "      <th>F</th>\n",
       "      <td>19823</td>\n",
       "      <td>19823</td>\n",
       "    </tr>\n",
       "    <tr>\n",
       "      <th>M</th>\n",
       "      <td>14266</td>\n",
       "      <td>14266</td>\n",
       "    </tr>\n",
       "  </tbody>\n",
       "</table>\n",
       "</div>"
      ],
      "text/plain": [
       "      name  count\n",
       "sex              \n",
       "F    19823  19823\n",
       "M    14266  14266"
      ]
     },
     "execution_count": 71,
     "metadata": {},
     "output_type": "execute_result"
    }
   ],
   "source": [
    "# we know 34089 babies were registered with the US SSA in 2010\n",
    "# the data provide counts by name\n",
    "# what about counts by sex?\n",
    "# a one liner!\n",
    "names_2010.groupby('sex').count()"
   ]
  },
  {
   "cell_type": "code",
   "execution_count": 72,
   "id": "f1df5989-5a0e-49ad-b065-0343b5b7be88",
   "metadata": {},
   "outputs": [
    {
     "data": {
      "text/plain": [
       "sex\n",
       "F    1776223\n",
       "M    1917416\n",
       "Name: count, dtype: int64"
      ]
     },
     "execution_count": 72,
     "metadata": {},
     "output_type": "execute_result"
    }
   ],
   "source": [
    "# that is a total count of names - there were 19823 different girl names registered, 14266 boy names\n",
    "# what about the total number of boys and girls?\n",
    "# also a one liner!\n",
    "# note in this case we have to specify the numeric column we are summing - pandas will complain otherwise\n",
    "names_2010.groupby('sex')['count'].sum()"
   ]
  },
  {
   "cell_type": "code",
   "execution_count": 73,
   "id": "36fcb648-1db4-4360-8f5f-565d4566785d",
   "metadata": {},
   "outputs": [],
   "source": [
    "# we can do a lot with one-liners in python\n",
    "# but for clarity sake from here on we will use a more verbose style\n",
    "names_grouped = names_2010.groupby(\"sex\")"
   ]
  },
  {
   "cell_type": "code",
   "execution_count": 74,
   "id": "89adeb4b-3482-4649-973e-d4eb725b25e7",
   "metadata": {},
   "outputs": [
    {
     "data": {
      "text/plain": [
       "sex\n",
       "F    22925\n",
       "M    22139\n",
       "Name: count, dtype: int64"
      ]
     },
     "execution_count": 74,
     "metadata": {},
     "output_type": "execute_result"
    }
   ],
   "source": [
    "# we know the most popular girl name by the way the data are sorted\n",
    "# what about the boy name?\n",
    "# the below tells us how many boys had the most popular boy name, but not the name\n",
    "names_grouped['count'].max()"
   ]
  },
  {
   "cell_type": "code",
   "execution_count": 75,
   "id": "ad592301-8fa0-404c-9f4a-a8a1d5135786",
   "metadata": {},
   "outputs": [
    {
     "data": {
      "text/plain": [
       "sex\n",
       "F    22925\n",
       "M    22139\n",
       "Name: count, dtype: int64"
      ]
     },
     "execution_count": 75,
     "metadata": {},
     "output_type": "execute_result"
    }
   ],
   "source": [
    "# we know the most popular girl name by the way the data are sorted\n",
    "# what about the boy name?\n",
    "# the below tells us how many boys had the most popular boy name, but not the name\n",
    "names_grouped['count'].max()"
   ]
  },
  {
   "cell_type": "code",
   "execution_count": 76,
   "id": "3126fe44-60d6-42b4-a204-4d90a93a57ca",
   "metadata": {},
   "outputs": [
    {
     "data": {
      "text/html": [
       "<div>\n",
       "<style scoped>\n",
       "    .dataframe tbody tr th:only-of-type {\n",
       "        vertical-align: middle;\n",
       "    }\n",
       "\n",
       "    .dataframe tbody tr th {\n",
       "        vertical-align: top;\n",
       "    }\n",
       "\n",
       "    .dataframe thead th {\n",
       "        text-align: right;\n",
       "    }\n",
       "</style>\n",
       "<table border=\"1\" class=\"dataframe\">\n",
       "  <thead>\n",
       "    <tr style=\"text-align: right;\">\n",
       "      <th></th>\n",
       "      <th>name</th>\n",
       "      <th>count</th>\n",
       "    </tr>\n",
       "    <tr>\n",
       "      <th>sex</th>\n",
       "      <th></th>\n",
       "      <th></th>\n",
       "    </tr>\n",
       "  </thead>\n",
       "  <tbody>\n",
       "    <tr>\n",
       "      <th>F</th>\n",
       "      <td>Isabella</td>\n",
       "      <td>22925</td>\n",
       "    </tr>\n",
       "    <tr>\n",
       "      <th>M</th>\n",
       "      <td>Jacob</td>\n",
       "      <td>22139</td>\n",
       "    </tr>\n",
       "  </tbody>\n",
       "</table>\n",
       "</div>"
      ],
      "text/plain": [
       "         name  count\n",
       "sex                 \n",
       "F    Isabella  22925\n",
       "M       Jacob  22139"
      ]
     },
     "execution_count": 76,
     "metadata": {},
     "output_type": "execute_result"
    }
   ],
   "source": [
    "names_grouped = names_2010.groupby('sex')\n",
    "names_grouped.first() # note this only works becaue the data are already sorted by count"
   ]
  },
  {
   "cell_type": "code",
   "execution_count": 77,
   "id": "2b9a09d3-61e8-4cf1-bca2-f210e213214f",
   "metadata": {},
   "outputs": [
    {
     "data": {
      "text/html": [
       "<div>\n",
       "<style scoped>\n",
       "    .dataframe tbody tr th:only-of-type {\n",
       "        vertical-align: middle;\n",
       "    }\n",
       "\n",
       "    .dataframe tbody tr th {\n",
       "        vertical-align: top;\n",
       "    }\n",
       "\n",
       "    .dataframe thead th {\n",
       "        text-align: right;\n",
       "    }\n",
       "</style>\n",
       "<table border=\"1\" class=\"dataframe\">\n",
       "  <thead>\n",
       "    <tr style=\"text-align: right;\">\n",
       "      <th></th>\n",
       "      <th>name</th>\n",
       "      <th>count</th>\n",
       "    </tr>\n",
       "    <tr>\n",
       "      <th>sex</th>\n",
       "      <th></th>\n",
       "      <th></th>\n",
       "    </tr>\n",
       "  </thead>\n",
       "  <tbody>\n",
       "    <tr>\n",
       "      <th>F</th>\n",
       "      <td>Isabella</td>\n",
       "      <td>22925</td>\n",
       "    </tr>\n",
       "    <tr>\n",
       "      <th>M</th>\n",
       "      <td>Jacob</td>\n",
       "      <td>22139</td>\n",
       "    </tr>\n",
       "  </tbody>\n",
       "</table>\n",
       "</div>"
      ],
      "text/plain": [
       "         name  count\n",
       "sex                 \n",
       "F    Isabella  22925\n",
       "M       Jacob  22139"
      ]
     },
     "execution_count": 77,
     "metadata": {},
     "output_type": "execute_result"
    }
   ],
   "source": [
    "# this approach will work with unsorted data\n",
    "names_sorted = names_2010.sort_values(['count'], ascending=False)\n",
    "names_grouped = names_sorted.groupby('sex')\n",
    "names_grouped.first()"
   ]
  },
  {
   "cell_type": "code",
   "execution_count": null,
   "id": "f6a191ba-7a5f-46aa-b8aa-847b8ada9d38",
   "metadata": {},
   "outputs": [],
   "source": []
  }
 ],
 "metadata": {
  "kernelspec": {
   "display_name": "Python 3 (ipykernel)",
   "language": "python",
   "name": "python3"
  },
  "language_info": {
   "codemirror_mode": {
    "name": "ipython",
    "version": 3
   },
   "file_extension": ".py",
   "mimetype": "text/x-python",
   "name": "python",
   "nbconvert_exporter": "python",
   "pygments_lexer": "ipython3",
   "version": "3.9.18"
  }
 },
 "nbformat": 4,
 "nbformat_minor": 5
}
