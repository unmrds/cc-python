{
 "cells": [
  {
   "cell_type": "markdown",
   "id": "9ed6db86",
   "metadata": {},
   "source": [
    "# Two hour introduction to Python\n",
    "\n",
    "Questions:\n",
    "\n",
    "1. How do I run a python environment? (And what is python? What is an environment?)\n",
    "2. What is python good for?\n",
    "3. Where can I get more information?\n",
    "\n",
    "Objectives:\n",
    "\n",
    "1. Define python's data types and structures.\n",
    "2. Store file content in a variable.\n",
    "3. Demonstrate a workflow using covered concepts"
   ]
  },
  {
   "cell_type": "code",
   "execution_count": 1,
   "id": "c3bb974c",
   "metadata": {},
   "outputs": [
    {
     "data": {
      "text/plain": [
       "'\\nThings to know - \\n\\nPython versions 2 and 3 are available. Recommended to use latest update to version 3.\\n\\nPython and many IDEs are free and open source. We recommend the Anaconda distribution.\\n\\n    * complexity of interpreters can vary from command line interface to full features IDEs\\n    * any interpeter or IDE should be able to run any python script - interoperable and cross-platform\\n    * large and active community - where to go for more info?\\n        * the main python website: https://www.python.org/, includes documentation, tutorials, etc. - walk through some\\n        * Stack Overflow - how to get help on a specific problem (python list index out of range)\\n        * documentation for specific libraries (pandas, matplotlib - most have tutorials, etc.)\\n\\n'"
      ]
     },
     "execution_count": 1,
     "metadata": {},
     "output_type": "execute_result"
    }
   ],
   "source": [
    "# Python is an interpreted language -\n",
    "# code can be run interactively using an interpeter; does not have to be compiled\n",
    "\n",
    "'''\n",
    "Things to know - \n",
    "\n",
    "Python versions 2 and 3 are available. Recommended to use latest update to version 3.\n",
    "\n",
    "Python and many IDEs are free and open source. We recommend the Anaconda distribution.\n",
    "\n",
    "    * complexity of interpreters can vary from command line interface to full features IDEs\n",
    "    * any interpeter or IDE should be able to run any python script - interoperable and cross-platform\n",
    "    * large and active community - where to go for more info?\n",
    "        * the main python website: https://www.python.org/, includes documentation, tutorials, etc. - walk through some\n",
    "        * Stack Overflow - how to get help on a specific problem (python list index out of range)\n",
    "        * documentation for specific libraries (pandas, matplotlib - most have tutorials, etc.)\n",
    "\n",
    "'''"
   ]
  },
  {
   "cell_type": "markdown",
   "id": "8576e2e6",
   "metadata": {},
   "source": [
    "## The interpreter"
   ]
  },
  {
   "cell_type": "code",
   "execution_count": 2,
   "id": "00393a1d",
   "metadata": {},
   "outputs": [
    {
     "data": {
      "text/plain": [
       "6"
      ]
     },
     "execution_count": 2,
     "metadata": {},
     "output_type": "execute_result"
    }
   ],
   "source": [
    "# recall - python is an interpreted language\n",
    "# we can execute commands - in this case mathematical operations - within the interpreter\n",
    "\n",
    "# addition\n",
    "3 + 3"
   ]
  },
  {
   "cell_type": "code",
   "execution_count": 3,
   "id": "885fb81f",
   "metadata": {},
   "outputs": [
    {
     "data": {
      "text/plain": [
       "9"
      ]
     },
     "execution_count": 3,
     "metadata": {},
     "output_type": "execute_result"
    }
   ],
   "source": [
    "# multiplication\n",
    "3 * 3"
   ]
  },
  {
   "cell_type": "code",
   "execution_count": 4,
   "id": "0692f7e5",
   "metadata": {},
   "outputs": [
    {
     "data": {
      "text/plain": [
       "4"
      ]
     },
     "execution_count": 4,
     "metadata": {},
     "output_type": "execute_result"
    }
   ],
   "source": [
    "# subtraction\n",
    "9-5"
   ]
  },
  {
   "cell_type": "code",
   "execution_count": 5,
   "id": "fede3d1f",
   "metadata": {},
   "outputs": [
    {
     "data": {
      "text/plain": [
       "2.25"
      ]
     },
     "execution_count": 5,
     "metadata": {},
     "output_type": "execute_result"
    }
   ],
   "source": [
    "# division - there are different types of division!\n",
    "# the standard division\n",
    "9/4"
   ]
  },
  {
   "cell_type": "code",
   "execution_count": 6,
   "id": "cc025be5",
   "metadata": {},
   "outputs": [
    {
     "data": {
      "text/plain": [
       "1"
      ]
     },
     "execution_count": 6,
     "metadata": {},
     "output_type": "execute_result"
    }
   ],
   "source": [
    "# don't linger too long on modulo and integer division\n",
    "# modulo (returns the remainder)\n",
    "9%4"
   ]
  },
  {
   "cell_type": "code",
   "execution_count": 7,
   "id": "571cdef4",
   "metadata": {},
   "outputs": [
    {
     "data": {
      "text/plain": [
       "2"
      ]
     },
     "execution_count": 7,
     "metadata": {},
     "output_type": "execute_result"
    }
   ],
   "source": [
    "# Integer division\n",
    "# returns the whole number, no remainder\n",
    "9//4"
   ]
  },
  {
   "cell_type": "markdown",
   "id": "6fe73814",
   "metadata": {},
   "source": [
    "Python recognizes different data types. We have used to two common numeric data types - integer and floating point number."
   ]
  },
  {
   "cell_type": "code",
   "execution_count": 8,
   "id": "00353092",
   "metadata": {},
   "outputs": [
    {
     "data": {
      "text/plain": [
       "int"
      ]
     },
     "execution_count": 8,
     "metadata": {},
     "output_type": "execute_result"
    }
   ],
   "source": [
    "type(9)"
   ]
  },
  {
   "cell_type": "code",
   "execution_count": 9,
   "id": "4c87b2a5",
   "metadata": {},
   "outputs": [
    {
     "data": {
      "text/plain": [
       "int"
      ]
     },
     "execution_count": 9,
     "metadata": {},
     "output_type": "execute_result"
    }
   ],
   "source": [
    "type(4)"
   ]
  },
  {
   "cell_type": "code",
   "execution_count": 10,
   "id": "b6897ff6",
   "metadata": {},
   "outputs": [
    {
     "data": {
      "text/plain": [
       "float"
      ]
     },
     "execution_count": 10,
     "metadata": {},
     "output_type": "execute_result"
    }
   ],
   "source": [
    "type(2.25)"
   ]
  },
  {
   "cell_type": "code",
   "execution_count": 11,
   "id": "3e5dc846",
   "metadata": {},
   "outputs": [
    {
     "data": {
      "text/plain": [
       "float"
      ]
     },
     "execution_count": 11,
     "metadata": {},
     "output_type": "execute_result"
    }
   ],
   "source": [
    "type(9/4)"
   ]
  },
  {
   "cell_type": "markdown",
   "id": "28edcce5",
   "metadata": {},
   "source": [
    "Another common data type is a string - a character string"
   ]
  },
  {
   "cell_type": "code",
   "execution_count": 12,
   "id": "405fc440",
   "metadata": {},
   "outputs": [
    {
     "data": {
      "text/plain": [
       "'my cat is hiding'"
      ]
     },
     "execution_count": 12,
     "metadata": {},
     "output_type": "execute_result"
    }
   ],
   "source": [
    "'my cat is hiding'"
   ]
  },
  {
   "cell_type": "code",
   "execution_count": 13,
   "id": "825dcd83",
   "metadata": {},
   "outputs": [
    {
     "data": {
      "text/plain": [
       "str"
      ]
     },
     "execution_count": 13,
     "metadata": {},
     "output_type": "execute_result"
    }
   ],
   "source": [
    "type('my cat is hiding')"
   ]
  },
  {
   "cell_type": "code",
   "execution_count": 14,
   "id": "aa22371b",
   "metadata": {},
   "outputs": [
    {
     "data": {
      "text/plain": [
       "int"
      ]
     },
     "execution_count": 14,
     "metadata": {},
     "output_type": "execute_result"
    }
   ],
   "source": [
    "# Quotes make a string\n",
    "type(9)"
   ]
  },
  {
   "cell_type": "code",
   "execution_count": 15,
   "id": "3d78ce39",
   "metadata": {},
   "outputs": [
    {
     "data": {
      "text/plain": [
       "str"
      ]
     },
     "execution_count": 15,
     "metadata": {},
     "output_type": "execute_result"
    }
   ],
   "source": [
    "type('9')"
   ]
  },
  {
   "cell_type": "code",
   "execution_count": 16,
   "id": "6d6c3681",
   "metadata": {},
   "outputs": [
    {
     "ename": "NameError",
     "evalue": "name 'cat' is not defined",
     "output_type": "error",
     "traceback": [
      "\u001b[1;31m---------------------------------------------------------------------------\u001b[0m",
      "\u001b[1;31mNameError\u001b[0m                                 Traceback (most recent call last)",
      "\u001b[1;32m~\\AppData\\Local\\Temp/ipykernel_17688/2391896494.py\u001b[0m in \u001b[0;36m<module>\u001b[1;34m\u001b[0m\n\u001b[1;32m----> 1\u001b[1;33m \u001b[0mtype\u001b[0m\u001b[1;33m(\u001b[0m\u001b[0mcat\u001b[0m\u001b[1;33m)\u001b[0m\u001b[1;33m\u001b[0m\u001b[1;33m\u001b[0m\u001b[0m\n\u001b[0m",
      "\u001b[1;31mNameError\u001b[0m: name 'cat' is not defined"
     ]
    }
   ],
   "source": [
    "type(cat)"
   ]
  },
  {
   "cell_type": "markdown",
   "id": "b63b1011",
   "metadata": {},
   "source": [
    "**Question:**\n",
    "\n",
    "What is the output of the following:\n",
    "\n",
    "```\n",
    "type(True)\n",
    "```\n",
    "\n",
    "What kind of data type is 'bool'? Where can you find out more info?"
   ]
  },
  {
   "cell_type": "code",
   "execution_count": 17,
   "id": "c5f31e4c",
   "metadata": {},
   "outputs": [
    {
     "data": {
      "text/plain": [
       "bool"
      ]
     },
     "execution_count": 17,
     "metadata": {},
     "output_type": "execute_result"
    }
   ],
   "source": [
    "type(True)"
   ]
  },
  {
   "cell_type": "markdown",
   "id": "5616d9d5",
   "metadata": {},
   "source": [
    "## Variables\n",
    "\n",
    "Variables are used to store values."
   ]
  },
  {
   "cell_type": "code",
   "execution_count": 18,
   "id": "b77a31c8",
   "metadata": {},
   "outputs": [
    {
     "data": {
      "text/plain": [
       "15"
      ]
     },
     "execution_count": 18,
     "metadata": {},
     "output_type": "execute_result"
    }
   ],
   "source": [
    "a = 5\n",
    "b = 10\n",
    "a + b"
   ]
  },
  {
   "cell_type": "code",
   "execution_count": 19,
   "id": "6e43226f",
   "metadata": {},
   "outputs": [
    {
     "data": {
      "text/plain": [
       "29"
      ]
     },
     "execution_count": 19,
     "metadata": {},
     "output_type": "execute_result"
    }
   ],
   "source": [
    "# can be reassigned\n",
    "# can be reassigned manually\n",
    "b = 24\n",
    "a + b"
   ]
  },
  {
   "cell_type": "code",
   "execution_count": 20,
   "id": "8c0cce02",
   "metadata": {},
   "outputs": [
    {
     "name": "stdout",
     "output_type": "stream",
     "text": [
      "initial value of t: 84\n",
      "final value of t: 89\n"
     ]
    }
   ],
   "source": [
    "# current value of a variable can be used to reassign that variable\n",
    "t = 84\n",
    "print('initial value of t:', t)\n",
    "t = t + 5\n",
    "print('final value of t:', t)"
   ]
  },
  {
   "cell_type": "code",
   "execution_count": 21,
   "id": "1cb3c555",
   "metadata": {},
   "outputs": [
    {
     "name": "stdout",
     "output_type": "stream",
     "text": [
      "value of a is: 5\n",
      "value of a is: 6\n",
      "value of a is: 7\n",
      "value of a is: 8\n",
      "value of a is: 9\n",
      "the final value of a is: 10\n"
     ]
    }
   ],
   "source": [
    "# values of variables can also be udated programmtically\n",
    "a = 5\n",
    "b = 10\n",
    "while a < b:\n",
    "    print('value of a is:', a)\n",
    "    a = a + 1\n",
    "\n",
    "print('the final value of a is:', a)"
   ]
  },
  {
   "cell_type": "code",
   "execution_count": 22,
   "id": "29a83d8c",
   "metadata": {},
   "outputs": [
    {
     "data": {
      "text/plain": [
       "int"
      ]
     },
     "execution_count": 22,
     "metadata": {},
     "output_type": "execute_result"
    }
   ],
   "source": [
    "# variables have data types\n",
    "type(a)"
   ]
  },
  {
   "cell_type": "code",
   "execution_count": 23,
   "id": "d11ca7c4",
   "metadata": {},
   "outputs": [
    {
     "data": {
      "text/plain": [
       "str"
      ]
     },
     "execution_count": 23,
     "metadata": {},
     "output_type": "execute_result"
    }
   ],
   "source": [
    "# note the difference\n",
    "type('a')"
   ]
  },
  {
   "cell_type": "code",
   "execution_count": 24,
   "id": "d3c11009",
   "metadata": {},
   "outputs": [
    {
     "data": {
      "text/plain": [
       "str"
      ]
     },
     "execution_count": 24,
     "metadata": {},
     "output_type": "execute_result"
    }
   ],
   "source": [
    "animal = 'cat'\n",
    "type(animal)"
   ]
  },
  {
   "cell_type": "markdown",
   "id": "8c6ee7d0",
   "metadata": {},
   "source": [
    "Given the following variable assignments:\n",
    "\n",
    "```\n",
    "x = 12\n",
    "y = str(14)\n",
    "z = donuts\n",
    "```\n",
    "\n",
    "Predict the output of the following:\n",
    "```\n",
    "1. y + z\n",
    "2. x + y\n",
    "3. x + int(y)\n",
    "4. str(x) + y\n",
    "```\n",
    "Check your answers in the interpreter.\n",
    "\n",
    "### Variable Naming Rules\n",
    "\n",
    "Variable names are case senstive and:\n",
    "\n",
    "1. Can only consist of one \"word\" (no spaces).\n",
    "2. Must begin with a letter or underscore character ('_').\n",
    "3. Can only use letters, numbers, and the underscore character.\n",
    "\n",
    "We further recommend using variable names that are meaningful within the context of the script and the research."
   ]
  },
  {
   "cell_type": "code",
   "execution_count": 25,
   "id": "aef7a290",
   "metadata": {},
   "outputs": [
    {
     "name": "stdout",
     "output_type": "stream",
     "text": [
      "ï»¿BEOWULF.\n",
      "\n",
      "I.\n",
      "\n",
      "THE LIFE AND DEATH OF SCYLD.\n",
      "\n",
      "\n",
      "{The famous race of Spear-Danes.}\n",
      "\n",
      "          Lo! the Spear-Danes' glory through splendid achievements\n",
      "          The folk-kings' former fame we have heard of,\n",
      "          How princes displayed then their prowess-in-battle.\n",
      "\n",
      "{Scyld, their mighty king, in honor of whom they are often called\n",
      "Scyldings. He is the great-grandfather of Hrothgar, so prominent in the\n",
      "poem.}\n",
      "\n",
      "          Oft Scyld the Scefing from scathers in numbers\n",
      "        5 From many a people their mead-benches tore.\n",
      "          Since first he found him friendless and wretched,\n",
      "          The earl had had terror: comfort he got for it,\n",
      "          Waxed 'neath the welkin, world-honor gained,\n",
      "          Till all his neighbors o'er sea were compelled to\n",
      "       10 Bow to his bidding and bring him their tribute:\n",
      "          An excellent atheling! After was borne him\n",
      "\n",
      "{A son is born to him, who receives the name of Beowulf--a name afterwards\n",
      "made so famous by the hero of the poem.}\n",
      "\n",
      "          A son and heir, young in his dwelling,\n",
      "          Whom God-Father sent to solace the people.\n",
      "          He had marked the misery malice had caused them,\n",
      "       15 [1]That reaved of their rulers they wretched had erstwhile[2]\n",
      "          Long been afflicted. The Lord, in requital,\n",
      "          Wielder of Glory, with world-honor blessed him.\n",
      "          Famed was Beowulf, far spread the glory\n",
      "          Of Scyld's great son in the lands of the Danemen.\n"
     ]
    }
   ],
   "source": [
    "# Using variables to store file content\n",
    "\n",
    "# One way is to open the whole file as a block\n",
    "file_path = \"./beowulf\" # We can save the path to the file as a variable\n",
    "file_in = open(file_path, \"r\") # Options are 'r', 'w', and 'a' (read, write, append)\n",
    "beowulf_a = file_in.read()\n",
    "file_in.close()\n",
    "print(beowulf_a)"
   ]
  },
  {
   "cell_type": "code",
   "execution_count": 26,
   "id": "80d2e1cc",
   "metadata": {},
   "outputs": [
    {
     "name": "stdout",
     "output_type": "stream",
     "text": [
      "['ï»¿BEOWULF.\\n', '\\n', 'I.\\n', '\\n', 'THE LIFE AND DEATH OF SCYLD.\\n', '\\n', '\\n', '{The famous race of Spear-Danes.}\\n', '\\n', \"          Lo! the Spear-Danes' glory through splendid achievements\\n\", \"          The folk-kings' former fame we have heard of,\\n\", '          How princes displayed then their prowess-in-battle.\\n', '\\n', '{Scyld, their mighty king, in honor of whom they are often called\\n', 'Scyldings. He is the great-grandfather of Hrothgar, so prominent in the\\n', 'poem.}\\n', '\\n', '          Oft Scyld the Scefing from scathers in numbers\\n', '        5 From many a people their mead-benches tore.\\n', '          Since first he found him friendless and wretched,\\n', '          The earl had had terror: comfort he got for it,\\n', \"          Waxed 'neath the welkin, world-honor gained,\\n\", \"          Till all his neighbors o'er sea were compelled to\\n\", '       10 Bow to his bidding and bring him their tribute:\\n', '          An excellent atheling! After was borne him\\n', '\\n', '{A son is born to him, who receives the name of Beowulf--a name afterwards\\n', 'made so famous by the hero of the poem.}\\n', '\\n', '          A son and heir, young in his dwelling,\\n', '          Whom God-Father sent to solace the people.\\n', '          He had marked the misery malice had caused them,\\n', '       15 [1]That reaved of their rulers they wretched had erstwhile[2]\\n', '          Long been afflicted. The Lord, in requital,\\n', '          Wielder of Glory, with world-honor blessed him.\\n', '          Famed was Beowulf, far spread the glory\\n', \"          Of Scyld's great son in the lands of the Danemen.\"]\n"
     ]
    }
   ],
   "source": [
    "# Another way is to read the file as a list of individual lines\n",
    "\n",
    "with open(file_path, \"r\") as b:\n",
    "    beowulf_b = b.readlines()\n",
    "\n",
    "print(beowulf_b)"
   ]
  },
  {
   "cell_type": "code",
   "execution_count": 27,
   "id": "ccbfa1dd",
   "metadata": {},
   "outputs": [
    {
     "name": "stdout",
     "output_type": "stream",
     "text": [
      "ï»¿BEOWULF.\n",
      "\n",
      "\n",
      "\n",
      "I.\n",
      "\n",
      "\n",
      "\n",
      "THE LIFE AND DEATH OF SCYLD.\n",
      "\n",
      "\n",
      "\n",
      "\n",
      "\n",
      "{The famous race of Spear-Danes.}\n",
      "\n",
      "\n",
      "\n",
      "          Lo! the Spear-Danes' glory through splendid achievements\n",
      "\n",
      "          The folk-kings' former fame we have heard of,\n",
      "\n",
      "          How princes displayed then their prowess-in-battle.\n",
      "\n",
      "\n",
      "\n",
      "{Scyld, their mighty king, in honor of whom they are often called\n",
      "\n",
      "Scyldings. He is the great-grandfather of Hrothgar, so prominent in the\n",
      "\n",
      "poem.}\n",
      "\n",
      "\n",
      "\n",
      "          Oft Scyld the Scefing from scathers in numbers\n",
      "\n",
      "        5 From many a people their mead-benches tore.\n",
      "\n",
      "          Since first he found him friendless and wretched,\n",
      "\n",
      "          The earl had had terror: comfort he got for it,\n",
      "\n",
      "          Waxed 'neath the welkin, world-honor gained,\n",
      "\n",
      "          Till all his neighbors o'er sea were compelled to\n",
      "\n",
      "       10 Bow to his bidding and bring him their tribute:\n",
      "\n",
      "          An excellent atheling! After was borne him\n",
      "\n",
      "\n",
      "\n",
      "{A son is born to him, who receives the name of Beowulf--a name afterwards\n",
      "\n",
      "made so famous by the hero of the poem.}\n",
      "\n",
      "\n",
      "\n",
      "          A son and heir, young in his dwelling,\n",
      "\n",
      "          Whom God-Father sent to solace the people.\n",
      "\n",
      "          He had marked the misery malice had caused them,\n",
      "\n",
      "       15 [1]That reaved of their rulers they wretched had erstwhile[2]\n",
      "\n",
      "          Long been afflicted. The Lord, in requital,\n",
      "\n",
      "          Wielder of Glory, with world-honor blessed him.\n",
      "\n",
      "          Famed was Beowulf, far spread the glory\n",
      "\n",
      "          Of Scyld's great son in the lands of the Danemen.\n"
     ]
    }
   ],
   "source": [
    "# In order to get a similar printout to the first method, we use a for loop\n",
    "# to print line by line - more on for loops below!\n",
    "\n",
    "for l in beowulf_b:\n",
    "    print(l)"
   ]
  },
  {
   "cell_type": "code",
   "execution_count": 28,
   "id": "641293a8",
   "metadata": {},
   "outputs": [
    {
     "name": "stdout",
     "output_type": "stream",
     "text": [
      "As string: ï\n",
      "As list of lines: ï»¿BEOWULF.\n",
      "\n"
     ]
    }
   ],
   "source": [
    "# We now have two variables with the content of our 'beowulf' file represented using two different data structures.\n",
    "# Why do you think we get the different outputs from the next two statements?\n",
    "\n",
    "# Beowulf text stored as one large string\n",
    "print(\"As string:\", beowulf_a[0])\n",
    "\n",
    "# Beowulf text stored as a list of lines\n",
    "print(\"As list of lines:\", beowulf_b[0])"
   ]
  },
  {
   "cell_type": "code",
   "execution_count": 29,
   "id": "29d30643",
   "metadata": {},
   "outputs": [
    {
     "name": "stdout",
     "output_type": "stream",
     "text": [
      "<class 'str'>\n",
      "<class 'list'>\n"
     ]
    }
   ],
   "source": [
    "# We can confirm our expectations by checking on the types of our two beowulf variables\n",
    "print(type(beowulf_a))\n",
    "print(type(beowulf_b))"
   ]
  },
  {
   "cell_type": "code",
   "execution_count": 30,
   "id": "58832f90",
   "metadata": {},
   "outputs": [],
   "source": [
    "# Read tabular data - many ways to do this but we are going to use the csv library, which \n",
    "# is included in the default distribution\n",
    "\n",
    "# we have to import the library - it is not loaded on startup\n",
    "import csv"
   ]
  },
  {
   "cell_type": "code",
   "execution_count": 136,
   "id": "b4abb404",
   "metadata": {},
   "outputs": [],
   "source": [
    "# we will store the data in a list\n",
    "csv_data = []\n",
    "\n",
    "# https://catalog.data.gov/dataset/baby-names-from-social-security-card-applications-national-data - add citation\n",
    "with open('./names/2021', 'r') as f:\n",
    "    reader = csv.DictReader(f)\n",
    "    for row in reader:\n",
    "        csv_data.append(row)"
   ]
  },
  {
   "cell_type": "code",
   "execution_count": 149,
   "id": "be900a01",
   "metadata": {},
   "outputs": [],
   "source": [
    "# csv_data"
   ]
  },
  {
   "cell_type": "code",
   "execution_count": 138,
   "id": "72f7ac10",
   "metadata": {},
   "outputs": [
    {
     "data": {
      "text/plain": [
       "{'name': 'Olivia', 'sex': 'F', 'count': '17728'}"
      ]
     },
     "execution_count": 138,
     "metadata": {},
     "output_type": "execute_result"
    }
   ],
   "source": [
    "csv_data[0]"
   ]
  },
  {
   "cell_type": "code",
   "execution_count": 139,
   "id": "84303577",
   "metadata": {},
   "outputs": [
    {
     "data": {
      "text/plain": [
       "'Olivia'"
      ]
     },
     "execution_count": 139,
     "metadata": {},
     "output_type": "execute_result"
    }
   ],
   "source": [
    "csv_data[0]['name']"
   ]
  },
  {
   "cell_type": "markdown",
   "id": "66b61d0f",
   "metadata": {},
   "source": [
    "Discuss what happened above when CSV file was read - data have been structured as a list of dictionaries.\n",
    "\n",
    "Within each dictionary, column names and data are stored as key:value pairs.\n",
    "\n",
    "So let's look at lists and dictionaries. These are two commonly used types of python data structures."
   ]
  },
  {
   "cell_type": "code",
   "execution_count": 35,
   "id": "52e37eb3",
   "metadata": {},
   "outputs": [],
   "source": [
    "# there are other libraries and methods for opening csvs and other tabular data files\n",
    "import pandas as pd"
   ]
  },
  {
   "cell_type": "code",
   "execution_count": 150,
   "id": "cce4a3b0",
   "metadata": {},
   "outputs": [],
   "source": [
    "nm_ins = pd.read_csv('./names/2021', encoding='latin1')"
   ]
  },
  {
   "cell_type": "code",
   "execution_count": 151,
   "id": "6bea0cba",
   "metadata": {},
   "outputs": [
    {
     "data": {
      "text/html": [
       "<div>\n",
       "<style scoped>\n",
       "    .dataframe tbody tr th:only-of-type {\n",
       "        vertical-align: middle;\n",
       "    }\n",
       "\n",
       "    .dataframe tbody tr th {\n",
       "        vertical-align: top;\n",
       "    }\n",
       "\n",
       "    .dataframe thead th {\n",
       "        text-align: right;\n",
       "    }\n",
       "</style>\n",
       "<table border=\"1\" class=\"dataframe\">\n",
       "  <thead>\n",
       "    <tr style=\"text-align: right;\">\n",
       "      <th></th>\n",
       "      <th>name</th>\n",
       "      <th>sex</th>\n",
       "      <th>count</th>\n",
       "    </tr>\n",
       "  </thead>\n",
       "  <tbody>\n",
       "    <tr>\n",
       "      <th>0</th>\n",
       "      <td>Olivia</td>\n",
       "      <td>F</td>\n",
       "      <td>17728</td>\n",
       "    </tr>\n",
       "    <tr>\n",
       "      <th>1</th>\n",
       "      <td>Emma</td>\n",
       "      <td>F</td>\n",
       "      <td>15433</td>\n",
       "    </tr>\n",
       "    <tr>\n",
       "      <th>2</th>\n",
       "      <td>Charlotte</td>\n",
       "      <td>F</td>\n",
       "      <td>13285</td>\n",
       "    </tr>\n",
       "    <tr>\n",
       "      <th>3</th>\n",
       "      <td>Amelia</td>\n",
       "      <td>F</td>\n",
       "      <td>12952</td>\n",
       "    </tr>\n",
       "    <tr>\n",
       "      <th>4</th>\n",
       "      <td>Ava</td>\n",
       "      <td>F</td>\n",
       "      <td>12759</td>\n",
       "    </tr>\n",
       "    <tr>\n",
       "      <th>...</th>\n",
       "      <td>...</td>\n",
       "      <td>...</td>\n",
       "      <td>...</td>\n",
       "    </tr>\n",
       "    <tr>\n",
       "      <th>31532</th>\n",
       "      <td>Zyeire</td>\n",
       "      <td>M</td>\n",
       "      <td>5</td>\n",
       "    </tr>\n",
       "    <tr>\n",
       "      <th>31533</th>\n",
       "      <td>Zyel</td>\n",
       "      <td>M</td>\n",
       "      <td>5</td>\n",
       "    </tr>\n",
       "    <tr>\n",
       "      <th>31534</th>\n",
       "      <td>Zyian</td>\n",
       "      <td>M</td>\n",
       "      <td>5</td>\n",
       "    </tr>\n",
       "    <tr>\n",
       "      <th>31535</th>\n",
       "      <td>Zylar</td>\n",
       "      <td>M</td>\n",
       "      <td>5</td>\n",
       "    </tr>\n",
       "    <tr>\n",
       "      <th>31536</th>\n",
       "      <td>Zyn</td>\n",
       "      <td>M</td>\n",
       "      <td>5</td>\n",
       "    </tr>\n",
       "  </tbody>\n",
       "</table>\n",
       "<p>31537 rows × 3 columns</p>\n",
       "</div>"
      ],
      "text/plain": [
       "            name sex  count\n",
       "0         Olivia   F  17728\n",
       "1           Emma   F  15433\n",
       "2      Charlotte   F  13285\n",
       "3         Amelia   F  12952\n",
       "4            Ava   F  12759\n",
       "...          ...  ..    ...\n",
       "31532     Zyeire   M      5\n",
       "31533       Zyel   M      5\n",
       "31534      Zyian   M      5\n",
       "31535      Zylar   M      5\n",
       "31536        Zyn   M      5\n",
       "\n",
       "[31537 rows x 3 columns]"
      ]
     },
     "execution_count": 151,
     "metadata": {},
     "output_type": "execute_result"
    }
   ],
   "source": [
    "nm_ins"
   ]
  },
  {
   "cell_type": "code",
   "execution_count": 38,
   "id": "801cb426",
   "metadata": {},
   "outputs": [],
   "source": [
    "# this is a little easier to work with!"
   ]
  },
  {
   "cell_type": "code",
   "execution_count": 39,
   "id": "e0ab94c5",
   "metadata": {},
   "outputs": [],
   "source": [
    "# about lists\n",
    "# collections of objects, separated by commas\n",
    "# ordered and mutable\n",
    "\n",
    "number_list = [1, 2, 3, 4, 4, 3, 9, 12]\n",
    "string_list = ['cat', 'bat', 'hat', 'mat', 'pat']"
   ]
  },
  {
   "cell_type": "code",
   "execution_count": 40,
   "id": "e972b27a",
   "metadata": {},
   "outputs": [
    {
     "name": "stdout",
     "output_type": "stream",
     "text": [
      "[1, 2, 3, 4, 4, 3, 9, 12]\n"
     ]
    }
   ],
   "source": [
    "print(number_list)"
   ]
  },
  {
   "cell_type": "code",
   "execution_count": 41,
   "id": "1b4f01fe",
   "metadata": {},
   "outputs": [
    {
     "name": "stdout",
     "output_type": "stream",
     "text": [
      "['cat', 'bat', 'hat', 'mat', 'pat']\n"
     ]
    }
   ],
   "source": [
    "print(string_list)"
   ]
  },
  {
   "cell_type": "code",
   "execution_count": 42,
   "id": "e2dac94c",
   "metadata": {},
   "outputs": [],
   "source": [
    "mixed_type_list = [1, 'dog', 99, 'pencil', 3.14]"
   ]
  },
  {
   "cell_type": "code",
   "execution_count": 43,
   "id": "9ea1b7f1",
   "metadata": {},
   "outputs": [
    {
     "name": "stdout",
     "output_type": "stream",
     "text": [
      "1 <class 'int'>\n",
      "dog <class 'str'>\n",
      "99 <class 'int'>\n",
      "pencil <class 'str'>\n",
      "3.14 <class 'float'>\n"
     ]
    }
   ],
   "source": [
    "for i in mixed_type_list:\n",
    "    print(i, type(i))"
   ]
  },
  {
   "cell_type": "code",
   "execution_count": 44,
   "id": "197fdd05",
   "metadata": {},
   "outputs": [],
   "source": [
    "# objects in a list can be other lists\n",
    "# rather than create a new list, use the append() method\n",
    "mixed_type_list.append(['a', 1, 'b', 2])\n",
    "mixed_type_list.append({'c1': 'v1', 'c2': 'v2'})"
   ]
  },
  {
   "cell_type": "code",
   "execution_count": 45,
   "id": "0a4f11ae",
   "metadata": {},
   "outputs": [
    {
     "name": "stdout",
     "output_type": "stream",
     "text": [
      "1 <class 'int'>\n",
      "dog <class 'str'>\n",
      "99 <class 'int'>\n",
      "pencil <class 'str'>\n",
      "3.14 <class 'float'>\n",
      "['a', 1, 'b', 2] <class 'list'>\n",
      "{'c1': 'v1', 'c2': 'v2'} <class 'dict'>\n"
     ]
    }
   ],
   "source": [
    "# rerun our loop\n",
    "for i in mixed_type_list:\n",
    "    print(i, type(i))"
   ]
  },
  {
   "cell_type": "code",
   "execution_count": 46,
   "id": "d06b1884",
   "metadata": {},
   "outputs": [
    {
     "data": {
      "text/plain": [
       "1"
      ]
     },
     "execution_count": 46,
     "metadata": {},
     "output_type": "execute_result"
    }
   ],
   "source": [
    "# but just because we can do stuff like this, it generally makes more sense to\n",
    "# keep lists to a single data type like the number_list and string_list above\n",
    "\n",
    "# list indexing - every object in a list has an index position\n",
    "# the first object\n",
    "number_list[0]"
   ]
  },
  {
   "cell_type": "code",
   "execution_count": 47,
   "id": "7f136b66",
   "metadata": {},
   "outputs": [
    {
     "data": {
      "text/plain": [
       "'cat'"
      ]
     },
     "execution_count": 47,
     "metadata": {},
     "output_type": "execute_result"
    }
   ],
   "source": [
    "string_list[0]"
   ]
  },
  {
   "cell_type": "code",
   "execution_count": 48,
   "id": "f685b350",
   "metadata": {},
   "outputs": [
    {
     "data": {
      "text/plain": [
       "2"
      ]
     },
     "execution_count": 48,
     "metadata": {},
     "output_type": "execute_result"
    }
   ],
   "source": [
    "# the second\n",
    "number_list[1]"
   ]
  },
  {
   "cell_type": "code",
   "execution_count": 49,
   "id": "8c209252",
   "metadata": {},
   "outputs": [
    {
     "data": {
      "text/plain": [
       "'bat'"
      ]
     },
     "execution_count": 49,
     "metadata": {},
     "output_type": "execute_result"
    }
   ],
   "source": [
    "string_list[1]"
   ]
  },
  {
   "cell_type": "code",
   "execution_count": 50,
   "id": "573ddbc1",
   "metadata": {},
   "outputs": [
    {
     "data": {
      "text/plain": [
       "12"
      ]
     },
     "execution_count": 50,
     "metadata": {},
     "output_type": "execute_result"
    }
   ],
   "source": [
    "# the last object\n",
    "number_list[-1]"
   ]
  },
  {
   "cell_type": "code",
   "execution_count": 51,
   "id": "2897cb92",
   "metadata": {},
   "outputs": [
    {
     "data": {
      "text/plain": [
       "'pat'"
      ]
     },
     "execution_count": 51,
     "metadata": {},
     "output_type": "execute_result"
    }
   ],
   "source": [
    "string_list[-1]"
   ]
  },
  {
   "cell_type": "code",
   "execution_count": 52,
   "id": "b2c7357b",
   "metadata": {},
   "outputs": [
    {
     "data": {
      "text/plain": [
       "9"
      ]
     },
     "execution_count": 52,
     "metadata": {},
     "output_type": "execute_result"
    }
   ],
   "source": [
    "# second from last, etc.\n",
    "number_list[-2]"
   ]
  },
  {
   "cell_type": "code",
   "execution_count": 53,
   "id": "0670cd13",
   "metadata": {},
   "outputs": [
    {
     "data": {
      "text/plain": [
       "'mat'"
      ]
     },
     "execution_count": 53,
     "metadata": {},
     "output_type": "execute_result"
    }
   ],
   "source": [
    "string_list[-2]"
   ]
  },
  {
   "cell_type": "code",
   "execution_count": 54,
   "id": "8f7b29b9",
   "metadata": {},
   "outputs": [
    {
     "data": {
      "text/plain": [
       "[1, 2, 3]"
      ]
     },
     "execution_count": 54,
     "metadata": {},
     "output_type": "execute_result"
    }
   ],
   "source": [
    "# slicing - subsetting lists\n",
    "# index pos to right of colon is up to but not including - in this case, index pos 0, 1, 2 but not 3\n",
    "number_list[0:3]"
   ]
  },
  {
   "cell_type": "code",
   "execution_count": 55,
   "id": "98723b4f",
   "metadata": {},
   "outputs": [
    {
     "data": {
      "text/plain": [
       "[1, 2, 3]"
      ]
     },
     "execution_count": 55,
     "metadata": {},
     "output_type": "execute_result"
    }
   ],
   "source": [
    "# when starting from the beginning of a list, we can leave the start position out - same as above\n",
    "number_list[:3]"
   ]
  },
  {
   "cell_type": "code",
   "execution_count": 56,
   "id": "2afdb5de",
   "metadata": {},
   "outputs": [
    {
     "data": {
      "text/plain": [
       "[3, 4, 4]"
      ]
     },
     "execution_count": 56,
     "metadata": {},
     "output_type": "execute_result"
    }
   ],
   "source": [
    "number_list[2:5]"
   ]
  },
  {
   "cell_type": "code",
   "execution_count": 57,
   "id": "519e2360",
   "metadata": {},
   "outputs": [
    {
     "data": {
      "text/plain": [
       "[3, 4, 4, 3, 9, 12]"
      ]
     },
     "execution_count": 57,
     "metadata": {},
     "output_type": "execute_result"
    }
   ],
   "source": [
    "number_list[2:]"
   ]
  },
  {
   "cell_type": "code",
   "execution_count": 58,
   "id": "cbd044f7",
   "metadata": {},
   "outputs": [
    {
     "data": {
      "text/plain": [
       "[1, 2, 3, 4, 4, 3, 9, 12]"
      ]
     },
     "execution_count": 58,
     "metadata": {},
     "output_type": "execute_result"
    }
   ],
   "source": [
    "number_list"
   ]
  },
  {
   "cell_type": "code",
   "execution_count": 59,
   "id": "1dd2afd0",
   "metadata": {},
   "outputs": [
    {
     "data": {
      "text/plain": [
       "[1, 2, 3, 4, 4, 3, 9, 12]"
      ]
     },
     "execution_count": 59,
     "metadata": {},
     "output_type": "execute_result"
    }
   ],
   "source": [
    "number_list[:]"
   ]
  },
  {
   "cell_type": "code",
   "execution_count": 60,
   "id": "86f9960e",
   "metadata": {},
   "outputs": [
    {
     "data": {
      "text/plain": [
       "[1, 2, 3, 4, 4, 3, 9]"
      ]
     },
     "execution_count": 60,
     "metadata": {},
     "output_type": "execute_result"
    }
   ],
   "source": [
    "number_list[0:-1] # exercise - what will this output, and why?"
   ]
  },
  {
   "cell_type": "code",
   "execution_count": 61,
   "id": "c8d7e537",
   "metadata": {},
   "outputs": [
    {
     "data": {
      "text/plain": [
       "8"
      ]
     },
     "execution_count": 61,
     "metadata": {},
     "output_type": "execute_result"
    }
   ],
   "source": [
    "# we don't always know how many objects are in a list\n",
    "# to find out, use the len() function\n",
    "len(number_list)"
   ]
  },
  {
   "cell_type": "code",
   "execution_count": 62,
   "id": "afddac64",
   "metadata": {},
   "outputs": [
    {
     "data": {
      "text/plain": [
       "5"
      ]
     },
     "execution_count": 62,
     "metadata": {},
     "output_type": "execute_result"
    }
   ],
   "source": [
    "len(string_list)"
   ]
  },
  {
   "cell_type": "code",
   "execution_count": 63,
   "id": "fc7cdb37",
   "metadata": {},
   "outputs": [],
   "source": [
    "# nested lists are very handy - a good way to represent tabular data\n",
    "# indexing and slicing nested lists\n",
    "nested_list = [['a', 'b', 'c'], [1, 2, 3], [4, 5, 6]]"
   ]
  },
  {
   "cell_type": "code",
   "execution_count": 64,
   "id": "820dd923",
   "metadata": {},
   "outputs": [
    {
     "data": {
      "text/plain": [
       "['a', 'b', 'c']"
      ]
     },
     "execution_count": 64,
     "metadata": {},
     "output_type": "execute_result"
    }
   ],
   "source": [
    "nested_list[0]"
   ]
  },
  {
   "cell_type": "code",
   "execution_count": 65,
   "id": "80b9055e",
   "metadata": {},
   "outputs": [
    {
     "data": {
      "text/plain": [
       "'a'"
      ]
     },
     "execution_count": 65,
     "metadata": {},
     "output_type": "execute_result"
    }
   ],
   "source": [
    "nested_list[0][0]"
   ]
  },
  {
   "cell_type": "markdown",
   "id": "7cf8845c",
   "metadata": {},
   "source": [
    "**Exercise**\n",
    "\n",
    "Given the following nested list:\n",
    "\n",
    "```\n",
    "my_data = [['a', 'b', 'c'], [[1, 2, 3], [4, 5, 6]], [['cat', 'cow', 'dog'], ['red', 'green', 'blue']]]\n",
    "```\n",
    "\n",
    "Write a statement to produce the following outputs:\n",
    "\n",
    "```\n",
    "5\n",
    "```\n",
    "\n",
    "and \n",
    "\n",
    "```\n",
    "[['cat', 'cow', 'dog'], ['red', 'green', 'blue']]\n",
    "```\n",
    "\n",
    "and\n",
    "\n",
    "```\n",
    "['b', 'c']\n",
    "```\n",
    "\n",
    "**Hint:** experiment and build your statement iteratively!"
   ]
  },
  {
   "cell_type": "code",
   "execution_count": 66,
   "id": "a9057ffa",
   "metadata": {},
   "outputs": [],
   "source": [
    "my_data = [['a', 'b', 'c'], [[1, 2, 3], [4, 5, 6]], [['cat', 'cow', 'dog'], ['red', 'green', 'blue']]]"
   ]
  },
  {
   "cell_type": "code",
   "execution_count": 67,
   "id": "3a9830e5",
   "metadata": {},
   "outputs": [
    {
     "data": {
      "text/plain": [
       "5"
      ]
     },
     "execution_count": 67,
     "metadata": {},
     "output_type": "execute_result"
    }
   ],
   "source": [
    "# 5\n",
    "my_data[1][1][1]"
   ]
  },
  {
   "cell_type": "code",
   "execution_count": 68,
   "id": "843cab99",
   "metadata": {},
   "outputs": [
    {
     "data": {
      "text/plain": [
       "[['cat', 'cow', 'dog'], ['red', 'green', 'blue']]"
      ]
     },
     "execution_count": 68,
     "metadata": {},
     "output_type": "execute_result"
    }
   ],
   "source": [
    "# last two lists\n",
    "my_data[2]"
   ]
  },
  {
   "cell_type": "code",
   "execution_count": 69,
   "id": "8dfa1ba5",
   "metadata": {},
   "outputs": [
    {
     "data": {
      "text/plain": [
       "['b', 'c']"
      ]
     },
     "execution_count": 69,
     "metadata": {},
     "output_type": "execute_result"
    }
   ],
   "source": [
    "# b and c\n",
    "my_data[0][1:]"
   ]
  },
  {
   "cell_type": "code",
   "execution_count": 70,
   "id": "f60b3fd3",
   "metadata": {},
   "outputs": [
    {
     "data": {
      "text/plain": [
       "'\\nThink of things that have properties - what are those properties? Like, a car:\\n    \\nmake\\nmodel\\ncolor\\nmpg\\ntransmission\\n'"
      ]
     },
     "execution_count": 70,
     "metadata": {},
     "output_type": "execute_result"
    }
   ],
   "source": [
    "# Dictionaries\n",
    "# a final data structure for today\n",
    "\n",
    "# similar to lists - collections of objects\n",
    "# unordered, mutable\n",
    "# store objects as key:value pairs\n",
    "\n",
    "# allows us to work with larger collections since the keys are indexed\n",
    "\n",
    "'''\n",
    "Think of things that have properties - what are those properties? Like, a car:\n",
    "    \n",
    "make\n",
    "model\n",
    "color\n",
    "mpg\n",
    "transmission\n",
    "'''"
   ]
  },
  {
   "cell_type": "code",
   "execution_count": 71,
   "id": "b9199122",
   "metadata": {},
   "outputs": [],
   "source": [
    "my_car = {'make': 'honda',\n",
    "         'model': 'fit',\n",
    "         'year': '2013',\n",
    "         'color': 'blue',\n",
    "         'transmission': 'manual'}"
   ]
  },
  {
   "cell_type": "code",
   "execution_count": 72,
   "id": "13d14ed6",
   "metadata": {},
   "outputs": [
    {
     "data": {
      "text/plain": [
       "'fit'"
      ]
     },
     "execution_count": 72,
     "metadata": {},
     "output_type": "execute_result"
    }
   ],
   "source": [
    "# indexing dictionaries with keys\n",
    "my_car['model']"
   ]
  },
  {
   "cell_type": "code",
   "execution_count": 73,
   "id": "7e596c2c",
   "metadata": {},
   "outputs": [
    {
     "data": {
      "text/plain": [
       "dict_keys(['make', 'model', 'year', 'color', 'transmission'])"
      ]
     },
     "execution_count": 73,
     "metadata": {},
     "output_type": "execute_result"
    }
   ],
   "source": [
    "# what if we don't know the keys?\n",
    "my_car.keys() # note the output is a list!"
   ]
  },
  {
   "cell_type": "code",
   "execution_count": 74,
   "id": "dcdac24a",
   "metadata": {},
   "outputs": [
    {
     "data": {
      "text/plain": [
       "dict_values(['honda', 'fit', '2013', 'blue', 'manual'])"
      ]
     },
     "execution_count": 74,
     "metadata": {},
     "output_type": "execute_result"
    }
   ],
   "source": [
    "# we can also get the values\n",
    "my_car.values() # note the output is a list!"
   ]
  },
  {
   "cell_type": "code",
   "execution_count": 75,
   "id": "8b0ca175",
   "metadata": {},
   "outputs": [],
   "source": [
    "# a value in a dictionary can be any data type - str, int, list, dictionary\n",
    "# let's say we want to add info about optional features in my car - we can use a list\n",
    "my_car['options'] = ['radio', 'air conditioning', 'seat covers']"
   ]
  },
  {
   "cell_type": "code",
   "execution_count": 76,
   "id": "733318ab",
   "metadata": {},
   "outputs": [
    {
     "data": {
      "text/plain": [
       "{'make': 'honda',\n",
       " 'model': 'fit',\n",
       " 'year': '2013',\n",
       " 'color': 'blue',\n",
       " 'transmission': 'manual',\n",
       " 'options': ['radio', 'air conditioning', 'seat covers']}"
      ]
     },
     "execution_count": 76,
     "metadata": {},
     "output_type": "execute_result"
    }
   ],
   "source": [
    "my_car"
   ]
  },
  {
   "cell_type": "code",
   "execution_count": 77,
   "id": "f2623fc7",
   "metadata": {},
   "outputs": [],
   "source": [
    "my_car['mpg'] = 35"
   ]
  },
  {
   "cell_type": "code",
   "execution_count": 78,
   "id": "df044c3d",
   "metadata": {},
   "outputs": [
    {
     "data": {
      "text/plain": [
       "{'make': 'honda',\n",
       " 'model': 'fit',\n",
       " 'year': '2013',\n",
       " 'color': 'blue',\n",
       " 'transmission': 'manual',\n",
       " 'options': ['radio', 'air conditioning', 'seat covers'],\n",
       " 'mpg': 35}"
      ]
     },
     "execution_count": 78,
     "metadata": {},
     "output_type": "execute_result"
    }
   ],
   "source": [
    "my_car"
   ]
  },
  {
   "cell_type": "code",
   "execution_count": 79,
   "id": "7bce3595",
   "metadata": {},
   "outputs": [],
   "source": [
    "# we can build a catalog or directory of people's cars\n",
    "deans_car = {'make': 'chevrolet', 'model': 'impala', 'color': 'black'}"
   ]
  },
  {
   "cell_type": "code",
   "execution_count": 80,
   "id": "32c96a7f",
   "metadata": {},
   "outputs": [],
   "source": [
    "# Exercise - create a dictionary for your vehicle (or if you don't drive, a famous movie car)"
   ]
  },
  {
   "cell_type": "code",
   "execution_count": 81,
   "id": "1f3007d6",
   "metadata": {},
   "outputs": [],
   "source": [
    "# now we can build a catalog of nested dictionaries\n",
    "cars = {}\n",
    "cars['jon'] = my_car\n",
    "cars['dean'] = deans_car"
   ]
  },
  {
   "cell_type": "code",
   "execution_count": 82,
   "id": "f3f30191",
   "metadata": {},
   "outputs": [
    {
     "data": {
      "text/plain": [
       "{'jon': {'make': 'honda',\n",
       "  'model': 'fit',\n",
       "  'year': '2013',\n",
       "  'color': 'blue',\n",
       "  'transmission': 'manual',\n",
       "  'options': ['radio', 'air conditioning', 'seat covers'],\n",
       "  'mpg': 35},\n",
       " 'dean': {'make': 'chevrolet', 'model': 'impala', 'color': 'black'}}"
      ]
     },
     "execution_count": 82,
     "metadata": {},
     "output_type": "execute_result"
    }
   ],
   "source": [
    "cars"
   ]
  },
  {
   "cell_type": "code",
   "execution_count": 83,
   "id": "623c058a",
   "metadata": {},
   "outputs": [
    {
     "data": {
      "text/plain": [
       "'impala'"
      ]
     },
     "execution_count": 83,
     "metadata": {},
     "output_type": "execute_result"
    }
   ],
   "source": [
    "# add your car to the catalog\n",
    "# now how do we get nested values?\n",
    "# model of Dean's car\n",
    "cars['dean']['model']"
   ]
  },
  {
   "cell_type": "code",
   "execution_count": 84,
   "id": "c1d9ac08",
   "metadata": {},
   "outputs": [],
   "source": [
    "# for loops\n",
    "# once we have data of specific types stored witin data structures, what do we do?\n",
    "# slicing and indexing is not very useful if we're just retrieving one object at a time\n",
    "\n",
    "# so we use loops to do things"
   ]
  },
  {
   "cell_type": "code",
   "execution_count": 85,
   "id": "cdc9b7e9",
   "metadata": {},
   "outputs": [
    {
     "data": {
      "text/plain": [
       "'\\nfor loop_variable in collection:\\n    do something\\n'"
      ]
     },
     "execution_count": 85,
     "metadata": {},
     "output_type": "execute_result"
    }
   ],
   "source": [
    "# syntax\n",
    "# the value of the loop variable is updated each time the loop runs\n",
    "# the collection can be anything\n",
    "\n",
    "'''\n",
    "for loop_variable in collection:\n",
    "    do something\n",
    "'''"
   ]
  },
  {
   "cell_type": "code",
   "execution_count": 87,
   "id": "882fb03c",
   "metadata": {},
   "outputs": [
    {
     "name": "stdout",
     "output_type": "stream",
     "text": [
      "s\n",
      "n\n",
      "a\n",
      "i\n",
      "l\n",
      "s\n",
      "h\n",
      "e\n",
      "l\n",
      "l\n"
     ]
    }
   ],
   "source": [
    "for letter in 'snailshell':\n",
    "    print(letter)"
   ]
  },
  {
   "cell_type": "code",
   "execution_count": 88,
   "id": "4bb39318",
   "metadata": {},
   "outputs": [
    {
     "name": "stdout",
     "output_type": "stream",
     "text": [
      "s\n",
      "n\n",
      "a\n",
      "i\n",
      "l\n",
      "s\n",
      "h\n",
      "e\n",
      "l\n",
      "l\n"
     ]
    }
   ],
   "source": [
    "s = 'snailshell'\n",
    "for letter in s:\n",
    "    print(letter)"
   ]
  },
  {
   "cell_type": "code",
   "execution_count": 89,
   "id": "c7a8ffcd",
   "metadata": {},
   "outputs": [
    {
     "name": "stdout",
     "output_type": "stream",
     "text": [
      "cat\n",
      "hat\n",
      "9\n",
      "18\n",
      "snailshell\n"
     ]
    }
   ],
   "source": [
    "for word in ['cat', 'hat', 9, 18, s]:\n",
    "    print(word)"
   ]
  },
  {
   "cell_type": "code",
   "execution_count": 90,
   "id": "83ee4af5",
   "metadata": {},
   "outputs": [],
   "source": [
    "some_list = ['cat', 'hat', 9, 18, s]"
   ]
  },
  {
   "cell_type": "code",
   "execution_count": 91,
   "id": "df2f6224",
   "metadata": {},
   "outputs": [
    {
     "name": "stdout",
     "output_type": "stream",
     "text": [
      "cat\n",
      "hat\n",
      "9\n",
      "18\n",
      "snailshell\n"
     ]
    }
   ],
   "source": [
    "for obj in some_list:\n",
    "    print(obj)"
   ]
  },
  {
   "cell_type": "code",
   "execution_count": 92,
   "id": "536ea69f",
   "metadata": {},
   "outputs": [
    {
     "data": {
      "text/plain": [
       "'\\nfor key, value in dictionary.item():\\n   do something\\n'"
      ]
     },
     "execution_count": 92,
     "metadata": {},
     "output_type": "execute_result"
    }
   ],
   "source": [
    "# for loops for dictionaries are a little different\n",
    "# we need loop variables for the keys and values, and the 'items()' method\n",
    "\n",
    "'''\n",
    "for key, value in dictionary.item():\n",
    "   do something\n",
    "'''"
   ]
  },
  {
   "cell_type": "code",
   "execution_count": 103,
   "id": "6ecc1c13",
   "metadata": {},
   "outputs": [
    {
     "name": "stdout",
     "output_type": "stream",
     "text": [
      "dict_items([('make', 'honda'), ('model', 'fit'), ('year', '2013'), ('color', 'blue'), ('transmission', 'manual'), ('options', ['radio', 'air conditioning', 'seat covers']), ('mpg', 35)])\n"
     ]
    }
   ],
   "source": [
    "# first of all - what is 'items()'?\n",
    "# the output is a list of tuples\n",
    "# not really going into tuples today\n",
    "\n",
    "print(my_car.items())"
   ]
  },
  {
   "cell_type": "code",
   "execution_count": 104,
   "id": "a91ef4f1",
   "metadata": {},
   "outputs": [
    {
     "name": "stdout",
     "output_type": "stream",
     "text": [
      "{'make': 'honda', 'model': 'fit', 'year': '2013', 'color': 'blue', 'transmission': 'manual', 'options': ['radio', 'air conditioning', 'seat covers'], 'mpg': 35}\n"
     ]
    }
   ],
   "source": [
    "print(my_car) # compare with above"
   ]
  },
  {
   "cell_type": "code",
   "execution_count": 105,
   "id": "8e659e2f",
   "metadata": {},
   "outputs": [
    {
     "ename": "ValueError",
     "evalue": "too many values to unpack (expected 2)",
     "output_type": "error",
     "traceback": [
      "\u001b[1;31m---------------------------------------------------------------------------\u001b[0m",
      "\u001b[1;31mValueError\u001b[0m                                Traceback (most recent call last)",
      "\u001b[1;32m~\\AppData\\Local\\Temp/ipykernel_17688/1211831323.py\u001b[0m in \u001b[0;36m<module>\u001b[1;34m\u001b[0m\n\u001b[0;32m      1\u001b[0m \u001b[1;31m# this is a common error\u001b[0m\u001b[1;33m\u001b[0m\u001b[1;33m\u001b[0m\u001b[0m\n\u001b[0;32m      2\u001b[0m \u001b[1;33m\u001b[0m\u001b[0m\n\u001b[1;32m----> 3\u001b[1;33m \u001b[1;32mfor\u001b[0m \u001b[0mkey\u001b[0m\u001b[1;33m,\u001b[0m \u001b[0mvalue\u001b[0m \u001b[1;32min\u001b[0m \u001b[0mmy_car\u001b[0m\u001b[1;33m:\u001b[0m\u001b[1;33m\u001b[0m\u001b[1;33m\u001b[0m\u001b[0m\n\u001b[0m\u001b[0;32m      4\u001b[0m     \u001b[0mprint\u001b[0m\u001b[1;33m(\u001b[0m\u001b[0mkey\u001b[0m\u001b[1;33m)\u001b[0m\u001b[1;33m\u001b[0m\u001b[1;33m\u001b[0m\u001b[0m\n\u001b[0;32m      5\u001b[0m     \u001b[0mprint\u001b[0m\u001b[1;33m(\u001b[0m\u001b[0mvalue\u001b[0m\u001b[1;33m)\u001b[0m\u001b[1;33m\u001b[0m\u001b[1;33m\u001b[0m\u001b[0m\n",
      "\u001b[1;31mValueError\u001b[0m: too many values to unpack (expected 2)"
     ]
    }
   ],
   "source": [
    "# this is a common error\n",
    "\n",
    "for key, value in my_car:\n",
    "    print(key)\n",
    "    print(value)"
   ]
  },
  {
   "cell_type": "code",
   "execution_count": 107,
   "id": "fc1a7c8a",
   "metadata": {},
   "outputs": [
    {
     "name": "stdout",
     "output_type": "stream",
     "text": [
      "make : honda\n",
      "model : fit\n",
      "year : 2013\n",
      "color : blue\n",
      "transmission : manual\n",
      "options : ['radio', 'air conditioning', 'seat covers']\n",
      "mpg : 35\n"
     ]
    }
   ],
   "source": [
    "for key, value in my_car.items():\n",
    "    print(key, \":\", value)"
   ]
  },
  {
   "cell_type": "code",
   "execution_count": 108,
   "id": "a603d8dd",
   "metadata": {},
   "outputs": [],
   "source": [
    "# another kind of loop is the while loop - we may not cover it much today"
   ]
  },
  {
   "cell_type": "code",
   "execution_count": 109,
   "id": "c1e3457c",
   "metadata": {},
   "outputs": [
    {
     "name": "stdout",
     "output_type": "stream",
     "text": [
      "False\n"
     ]
    }
   ],
   "source": [
    "# finally - conditionals\n",
    "# evaluate a statement\n",
    "# do something different depending on whether the statement evaluates to True or False\n",
    "\n",
    "a = 5\n",
    "b = -19\n",
    "\n",
    "# what do we mean by evaluate True or False?\n",
    "print(a < b)"
   ]
  },
  {
   "cell_type": "code",
   "execution_count": 110,
   "id": "24ecdbcb",
   "metadata": {},
   "outputs": [
    {
     "name": "stdout",
     "output_type": "stream",
     "text": [
      "True\n"
     ]
    }
   ],
   "source": [
    "print(a > b)"
   ]
  },
  {
   "cell_type": "code",
   "execution_count": 115,
   "id": "59b973a6",
   "metadata": {},
   "outputs": [
    {
     "name": "stdout",
     "output_type": "stream",
     "text": [
      "move money into savings!\n"
     ]
    }
   ],
   "source": [
    "# based on this evaluation, we might do something different\n",
    "\n",
    "checking = 1000\n",
    "savings = 20\n",
    "bills = 250\n",
    "\n",
    "if checking > bills:\n",
    "    print('move money into savings!')"
   ]
  },
  {
   "cell_type": "code",
   "execution_count": 117,
   "id": "feac644f",
   "metadata": {},
   "outputs": [
    {
     "name": "stdout",
     "output_type": "stream",
     "text": [
      "be sure to avoid an overdraft!\n"
     ]
    }
   ],
   "source": [
    "# we can specify an else statement for all other cases\n",
    "if savings > bills:\n",
    "    print('move money from savings!')\n",
    "else:\n",
    "    print('be sure to avoid an overdraft!')"
   ]
  },
  {
   "cell_type": "code",
   "execution_count": 112,
   "id": "d8e1a004",
   "metadata": {},
   "outputs": [
    {
     "name": "stdout",
     "output_type": "stream",
     "text": [
      "move money from savings and pay bills\n"
     ]
    }
   ],
   "source": [
    "# if we only have one condition, we can use a single if statement\n",
    "# but we may have multiple conditions to evaluate\n",
    "\n",
    "checking = 20\n",
    "savings = 1000\n",
    "bills = 200\n",
    "\n",
    "# additional conditions use elif (else if)\n",
    "# the else statement handles all other cases - no condition needed\n",
    "if checking > bills:\n",
    "    print('pay bills!')\n",
    "elif savings + checking > bills:\n",
    "    print('move money from savings and pay bills')\n",
    "else:\n",
    "    print('tighten that belt!')"
   ]
  },
  {
   "cell_type": "code",
   "execution_count": 118,
   "id": "ac69f706",
   "metadata": {},
   "outputs": [],
   "source": [
    "# python includes more data types and structures than we have introduced here\n",
    "# but what we have done is enough to develop some powerful workflows\n",
    "# define variables and data structures, and use logic - loops and conditionals - to do things with them"
   ]
  },
  {
   "cell_type": "code",
   "execution_count": 140,
   "id": "718de81d",
   "metadata": {},
   "outputs": [
    {
     "name": "stdout",
     "output_type": "stream",
     "text": [
      "['./names\\\\2010', './names\\\\2011', './names\\\\2012', './names\\\\2013', './names\\\\2014', './names\\\\2015', './names\\\\2016', './names\\\\2017', './names\\\\2018', './names\\\\2019', './names\\\\2020', './names\\\\2021']\n"
     ]
    }
   ],
   "source": [
    "# we have baby names from SSN applications 2010-2021, stored in a file per year\n",
    "# can we get the most and least popular names for both sexes?\n",
    "# Note this is exclusive of non-binary genders - for future iterations pick a different dataset\n",
    "\n",
    "'''\n",
    "think about the process - we have 11 files of baby names\n",
    "we need to \n",
    "\n",
    "1. get a list of the files so python can open them\n",
    "2. read each file individually\n",
    "3. get the most common names per sex\n",
    "'''\n",
    "\n",
    "# 1. get a list of files\n",
    "import glob\n",
    "flist = glob.glob('./names/*')\n",
    "print(flist)"
   ]
  },
  {
   "cell_type": "code",
   "execution_count": 141,
   "id": "88e9d4e9",
   "metadata": {},
   "outputs": [
    {
     "name": "stdout",
     "output_type": "stream",
     "text": [
      "./names\\2010\n",
      "./names\\2011\n"
     ]
    }
   ],
   "source": [
    "# we need a for loop to do steps 2 and 3\n",
    "# but we can use slicing to try our code on a subset of the list\n",
    "\n",
    "for f in flist[:2]:\n",
    "    print(f)"
   ]
  },
  {
   "cell_type": "code",
   "execution_count": 142,
   "id": "785f7b40",
   "metadata": {},
   "outputs": [
    {
     "name": "stdout",
     "output_type": "stream",
     "text": [
      "./names\\2010\n",
      "34089 names in the file\n",
      "./names\\2011\n",
      "33923 names in the file\n"
     ]
    }
   ],
   "source": [
    "# reuse some code from above\n",
    "\n",
    "for f in flist[:2]:\n",
    "    print(f)\n",
    "    name_data = []\n",
    "    with open(f, 'r') as f:\n",
    "        reader = csv.DictReader(f)\n",
    "        for row in reader:\n",
    "            name_data.append(row)\n",
    "    print(len(name_data), 'names in the file')"
   ]
  },
  {
   "cell_type": "code",
   "execution_count": 148,
   "id": "9bf11ce4",
   "metadata": {},
   "outputs": [
    {
     "name": "stdout",
     "output_type": "stream",
     "text": [
      "2010 most popular girl name: Isabella ( 22925 )\n",
      "2010 most popular boy name: Jacob ( 22139 )\n",
      "2011 most popular girl name: Sophia ( 21855 )\n",
      "2011 most popular boy name: Jacob ( 20381 )\n",
      "2012 most popular girl name: Sophia ( 22322 )\n",
      "2012 most popular boy name: Jacob ( 19091 )\n",
      "2013 most popular girl name: Sophia ( 21236 )\n",
      "2013 most popular boy name: Noah ( 18269 )\n",
      "2014 most popular girl name: Emma ( 20949 )\n",
      "2014 most popular boy name: Noah ( 19324 )\n",
      "2015 most popular girl name: Emma ( 20468 )\n",
      "2015 most popular boy name: Noah ( 19654 )\n",
      "2016 most popular girl name: Emma ( 19531 )\n",
      "2016 most popular boy name: Noah ( 19164 )\n",
      "2017 most popular girl name: Emma ( 19847 )\n",
      "2017 most popular boy name: Liam ( 18838 )\n",
      "2018 most popular girl name: Emma ( 18786 )\n",
      "2018 most popular boy name: Liam ( 19940 )\n",
      "2019 most popular girl name: Olivia ( 18534 )\n",
      "2019 most popular boy name: Liam ( 20578 )\n",
      "2020 most popular girl name: Olivia ( 17641 )\n",
      "2020 most popular boy name: Liam ( 19777 )\n",
      "2021 most popular girl name: Olivia ( 17728 )\n",
      "2021 most popular boy name: Liam ( 20272 )\n"
     ]
    }
   ],
   "source": [
    "# we can iteratively develop our code and test it\n",
    "\n",
    "for file in flist:\n",
    "    name_data = []\n",
    "    with open(file, 'r') as f:\n",
    "        reader = csv.DictReader(f)\n",
    "        for row in reader:\n",
    "            name_data.append(row)\n",
    "    # comparing values is a little clumsy with the CSV library\n",
    "    # here's my solution - set a baseline and update by comparing the baseline with each row values\n",
    "    f_max_c = 0\n",
    "    f_popular = ''\n",
    "    m_max_c = 0\n",
    "    m_popular = ''\n",
    "    for name in name_data:\n",
    "        if name['sex'] == 'F':\n",
    "            if int(name['count']) > int(f_max_c):\n",
    "                f_max_c = int(name['count'])\n",
    "                f_popular = name['name']\n",
    "        elif name['sex'] == 'M':\n",
    "            if int(name['count']) > int(m_max_c):\n",
    "                m_max_c = int(name['count'])\n",
    "                m_popular = name['name']\n",
    "    # clean up the filename a little\n",
    "    y = file.replace('./names\\\\', '')\n",
    "    print(y, 'most popular girl name:', f_popular, '(', f_max_c, ')')\n",
    "    print(y, 'most popular boy name:', m_popular, '(', m_max_c, ')')"
   ]
  },
  {
   "cell_type": "code",
   "execution_count": null,
   "id": "4d1a387a",
   "metadata": {},
   "outputs": [],
   "source": [
    "# we now have the most popular girl and boy names for each year since 2010\n",
    "# How many babies were given the same name as yours each year?"
   ]
  }
 ],
 "metadata": {
  "kernelspec": {
   "display_name": "Python 3 (ipykernel)",
   "language": "python",
   "name": "python3"
  },
  "language_info": {
   "codemirror_mode": {
    "name": "ipython",
    "version": 3
   },
   "file_extension": ".py",
   "mimetype": "text/x-python",
   "name": "python",
   "nbconvert_exporter": "python",
   "pygments_lexer": "ipython3",
   "version": "3.9.16"
  }
 },
 "nbformat": 4,
 "nbformat_minor": 5
}
