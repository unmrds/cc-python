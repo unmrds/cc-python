{
 "cells": [
  {
   "cell_type": "markdown",
   "metadata": {},
   "source": [
    "# Python 2: Loops & Functions\n"
   ]
  },
  {
   "cell_type": "markdown",
   "metadata": {},
   "source": [
    "## First: A Review of Lists and Dictionaries"
   ]
  },
  {
   "cell_type": "code",
   "execution_count": 65,
   "metadata": {},
   "outputs": [
    {
     "name": "stdout",
     "output_type": "stream",
     "text": [
      "[] <class 'list'>\n",
      "['avengers', 'frozen', 'cats']\n",
      "['j', 'u', 'm', 'a', 'n', 'j', 'i']\n",
      "[2, 4, 6, 8, 10, 12, 14, 16, 18]\n"
     ]
    }
   ],
   "source": [
    "# A list is a mutable, ordered collection\n",
    "# Collections can be heterogenous: integers, strings, other data structures, etc.\n",
    "#    can all be added to a single list.\n",
    "\n",
    "# Creating lists:\n",
    "\n",
    "# Initialize an empty list:\n",
    "my_movies = []\n",
    "print(my_movies, type(my_movies))\n",
    "\n",
    "# Initialize a list with one or more objects in it\n",
    "unwatched = ['avengers', 'frozen', 'cats']\n",
    "print(unwatched)\n",
    "\n",
    "# Use the list() type constructor\n",
    "# Note that the constructed \"list\" may not be what we expect \n",
    "watched = list('jumanji')\n",
    "print(watched)\n",
    "\n",
    "# Use list comprehension\n",
    "even_numbers = [i for i in range(2, 20, 2)]\n",
    "print(even_numbers)"
   ]
  },
  {
   "cell_type": "code",
   "execution_count": 66,
   "metadata": {},
   "outputs": [
    {
     "name": "stdout",
     "output_type": "stream",
     "text": [
      "7\n"
     ]
    }
   ],
   "source": [
    "# We can use index numbers to select and slice from lists\n",
    "print(len(watched))"
   ]
  },
  {
   "cell_type": "code",
   "execution_count": 67,
   "metadata": {},
   "outputs": [
    {
     "data": {
      "text/plain": [
       "'j'"
      ]
     },
     "execution_count": 67,
     "metadata": {},
     "output_type": "execute_result"
    }
   ],
   "source": [
    "# The first object is a list has index/position 0\n",
    "watched[0]"
   ]
  },
  {
   "cell_type": "code",
   "execution_count": 68,
   "metadata": {},
   "outputs": [
    {
     "ename": "IndexError",
     "evalue": "list index out of range",
     "output_type": "error",
     "traceback": [
      "\u001b[0;31m---------------------------------------------------------------------------\u001b[0m",
      "\u001b[0;31mIndexError\u001b[0m                                Traceback (most recent call last)",
      "\u001b[0;32m<ipython-input-68-96938fcea399>\u001b[0m in \u001b[0;36m<module>\u001b[0;34m\u001b[0m\n\u001b[1;32m      1\u001b[0m \u001b[0;31m# So even though the list is 7 objects long, if we try to select the object in position 7\u001b[0m\u001b[0;34m\u001b[0m\u001b[0;34m\u001b[0m\u001b[0;34m\u001b[0m\u001b[0m\n\u001b[1;32m      2\u001b[0m \u001b[0;31m#  we will get an index out of range error\u001b[0m\u001b[0;34m\u001b[0m\u001b[0;34m\u001b[0m\u001b[0;34m\u001b[0m\u001b[0m\n\u001b[0;32m----> 3\u001b[0;31m \u001b[0mwatched\u001b[0m\u001b[0;34m[\u001b[0m\u001b[0;36m7\u001b[0m\u001b[0;34m]\u001b[0m\u001b[0;34m\u001b[0m\u001b[0;34m\u001b[0m\u001b[0m\n\u001b[0m",
      "\u001b[0;31mIndexError\u001b[0m: list index out of range"
     ]
    }
   ],
   "source": [
    "# So even though the list is 7 objects long, if we try to select the object in position 7\n",
    "#  we will get an index out of range error\n",
    "watched[7]"
   ]
  },
  {
   "cell_type": "code",
   "execution_count": 70,
   "metadata": {},
   "outputs": [
    {
     "data": {
      "text/plain": [
       "'i'"
      ]
     },
     "execution_count": 70,
     "metadata": {},
     "output_type": "execute_result"
    }
   ],
   "source": [
    "watched[6]"
   ]
  },
  {
   "cell_type": "code",
   "execution_count": 71,
   "metadata": {},
   "outputs": [
    {
     "data": {
      "text/plain": [
       "['j', 'u', 'm']"
      ]
     },
     "execution_count": 71,
     "metadata": {},
     "output_type": "execute_result"
    }
   ],
   "source": [
    "# We can slice out subsections using start and finish index positions separated by a colon\n",
    "# Note the \"finish\" position should be read as \"up to but not including\" the object at that position\n",
    "watched[0:3]"
   ]
  },
  {
   "cell_type": "code",
   "execution_count": 72,
   "metadata": {},
   "outputs": [
    {
     "data": {
      "text/plain": [
       "['j', 'u', 'm']"
      ]
     },
     "execution_count": 72,
     "metadata": {},
     "output_type": "execute_result"
    }
   ],
   "source": [
    "# Same output as above\n",
    "watched[:3]"
   ]
  },
  {
   "cell_type": "code",
   "execution_count": 73,
   "metadata": {},
   "outputs": [
    {
     "data": {
      "text/plain": [
       "['n', 'j', 'i']"
      ]
     },
     "execution_count": 73,
     "metadata": {},
     "output_type": "execute_result"
    }
   ],
   "source": [
    "watched[4:7]"
   ]
  },
  {
   "cell_type": "code",
   "execution_count": 74,
   "metadata": {},
   "outputs": [
    {
     "data": {
      "text/plain": [
       "['n', 'j', 'i']"
      ]
     },
     "execution_count": 74,
     "metadata": {},
     "output_type": "execute_result"
    }
   ],
   "source": [
    "# Same output as above\n",
    "watched[4:]"
   ]
  },
  {
   "cell_type": "code",
   "execution_count": 75,
   "metadata": {},
   "outputs": [
    {
     "name": "stdout",
     "output_type": "stream",
     "text": [
      "['j', 'u', 'm', 'a', 'n', 'j', 'i']\n",
      "['jumanji', 'u', 'm', 'a', 'n', 'j', 'i']\n"
     ]
    }
   ],
   "source": [
    "# Lists are mutable - we can edit, add, remove objects\n",
    "print(watched)\n",
    "watched[0] = 'jumanji'\n",
    "print(watched)"
   ]
  },
  {
   "cell_type": "code",
   "execution_count": 76,
   "metadata": {},
   "outputs": [
    {
     "name": "stdout",
     "output_type": "stream",
     "text": [
      "['jumanji', 'm', 'a', 'n', 'j', 'i']\n"
     ]
    }
   ],
   "source": [
    "watched.remove('u')\n",
    "print(watched)"
   ]
  },
  {
   "cell_type": "code",
   "execution_count": 77,
   "metadata": {},
   "outputs": [
    {
     "name": "stdout",
     "output_type": "stream",
     "text": [
      "['jumanji']\n"
     ]
    }
   ],
   "source": [
    "# There are other ways we can fix the \"watched\" list, but \n",
    "# in this case it is most efficient to reassign the \"watched\" variable as a new list\n",
    "watched = [watched[0]]\n",
    "print(watched)"
   ]
  },
  {
   "cell_type": "code",
   "execution_count": 78,
   "metadata": {},
   "outputs": [
    {
     "name": "stdout",
     "output_type": "stream",
     "text": [
      "[]\n",
      "[['avengers', 'frozen', 'cats']]\n",
      "[['avengers', 'frozen', 'cats'], ['jumanji']]\n"
     ]
    }
   ],
   "source": [
    "# We can make a list of lists using append()\n",
    "print(my_movies)\n",
    "my_movies.append(unwatched)\n",
    "print(my_movies)\n",
    "my_movies.append(watched)\n",
    "print(my_movies)"
   ]
  },
  {
   "cell_type": "markdown",
   "metadata": {},
   "source": [
    "This is okay - we have a master list of all of our movies. The nested lists break our collection down further by watched and unwatched, but we don't know which list is which.\n",
    "\n",
    "One way to improve this design is to use a dictionary."
   ]
  },
  {
   "cell_type": "code",
   "execution_count": 79,
   "metadata": {},
   "outputs": [
    {
     "name": "stdout",
     "output_type": "stream",
     "text": [
      "{'unwatched': ['avengers', 'frozen', 'cats']}\n"
     ]
    }
   ],
   "source": [
    "# A dictionary is a mutable, unordered list of key-value pairs\n",
    "# Like lists, the values in a dictionary can be composed of different data types or structures\n",
    "\n",
    "# Re-assign my_movies to an empty dictionary\n",
    "my_movies = {}\n",
    "\n",
    "# Now add our lists of unwatched and watched movies\n",
    "# Note we are using a string as the key and the list as the value\n",
    "my_movies[\"unwatched\"] = unwatched\n",
    "print(my_movies)"
   ]
  },
  {
   "cell_type": "code",
   "execution_count": 80,
   "metadata": {},
   "outputs": [
    {
     "name": "stdout",
     "output_type": "stream",
     "text": [
      "{'unwatched': ['avengers', 'frozen', 'cats'], 'watched': ['jumanji']}\n"
     ]
    }
   ],
   "source": [
    "my_movies[\"watched\"] = watched\n",
    "print(my_movies)"
   ]
  },
  {
   "cell_type": "code",
   "execution_count": 81,
   "metadata": {},
   "outputs": [
    {
     "name": "stdout",
     "output_type": "stream",
     "text": [
      "dict_keys(['unwatched', 'watched'])\n"
     ]
    }
   ],
   "source": [
    "# We retrieve items from a dictionary using the keys.\n",
    "# If we don't know the keys, we can ask for them first using the 'keys()' attribute:\n",
    "print(my_movies.keys())"
   ]
  },
  {
   "cell_type": "code",
   "execution_count": 87,
   "metadata": {},
   "outputs": [
    {
     "name": "stdout",
     "output_type": "stream",
     "text": [
      "['jumanji']\n"
     ]
    }
   ],
   "source": [
    "print(my_movies['watched'])"
   ]
  },
  {
   "cell_type": "markdown",
   "metadata": {},
   "source": [
    "## Building a Workflow with US Census Surname Data\n",
    "\n",
    "Using the 2010 surname data from the US Census, we will develop a workflow to accomplish the following:\n",
    "\n",
    "* Write functions to:\n",
    "    * Request information about surnames\n",
    "    * Tabulate data\n",
    "    * Visualize data\n",
    "\n",
    "## Sample dataset\n",
    "\n",
    "_Decennial Census Surname Files (2010)_\n",
    "\n",
    "[https://www.census.gov/data/developers/data-sets/surnames.html](https://www.census.gov/data/developers/data-sets/surnames.html)\n",
    "\n",
    "[https://api.census.gov/data/2010/surname.html](https://api.census.gov/data/2010/surname.html)\n",
    "\n",
    "#### Citation \n",
    "\n",
    "US Census Bureau (2016) _Decennial Census Surname Files (2010)_ Retrieved from [https://api.census.gov/data/2010/surname.json](https://api.census.gov/data/2010/surname.json)structures\n",
    "\n",
    "----------------------------------------------------------------------------------------------------\n",
    "\n",
    "## 1. Import modules\n",
    "\n",
    "The modules used in this exercise are popular and under active development. Follow the links for more information about methods, syntax, etc.\n",
    "\n",
    "**Requests:** [http://docs.python-requests.org/en/master/](http://docs.python-requests.org/en/master/)\n",
    "\n",
    "**JSON:** [https://docs.python.org/3/library/json.html](https://docs.python.org/3/library/json.html)\n",
    "\n",
    "**Pandas:** [http://pandas.pydata.org/](http://pandas.pydata.org/)\n",
    "\n",
    "**Matplotlib:** [https://matplotlib.org/](https://matplotlib.org/)\n",
    "\n",
    "Look for information about or links to the API, developer's documentation, etc. Helpful examples are often included.\n",
    "\n",
    "Note that we are providing an alias for Pandas and matplotlib. Whenever we need to call a method from those module, we can use the alias. "
   ]
  },
  {
   "cell_type": "code",
   "execution_count": 88,
   "metadata": {},
   "outputs": [],
   "source": [
    "# http://api.census.gov/data/2010/surname\n",
    "import requests\n",
    "import json\n",
    "import pandas as pd\n",
    "import matplotlib.pyplot as plt"
   ]
  },
  {
   "cell_type": "markdown",
   "metadata": {},
   "source": [
    "## Get API and Variable information"
   ]
  },
  {
   "cell_type": "code",
   "execution_count": 89,
   "metadata": {},
   "outputs": [
    {
     "name": "stdout",
     "output_type": "stream",
     "text": [
      "{\n",
      "    \"@context\": \"https://project-open-data.cio.gov/v1.1/schema/catalog.jsonld\",\n",
      "    \"@id\": \"https://api.census.gov/data/2010/surname.json\",\n",
      "    \"@type\": \"dcat:Catalog\",\n",
      "    \"conformsTo\": \"https://project-open-data.cio.gov/v1.1/schema\",\n",
      "    \"describedBy\": \"https://project-open-data.cio.gov/v1.1/schema/catalog.json\",\n",
      "    \"dataset\": [\n",
      "        {\n",
      "            \"c_vintage\": 2010,\n",
      "            \"c_dataset\": [\n",
      "                \"surname\"\n",
      "            ],\n",
      "            \"c_geographyLink\": \"https://api.census.gov/data/2010/surname/geography.json\",\n",
      "            \"c_variablesLink\": \"https://api.census.gov/data/2010/surname/variables.json\",\n",
      "            \"c_examplesLink\": \"https://api.census.gov/data/2010/surname/examples.json\",\n",
      "            \"c_groupsLink\": \"https://api.census.gov/data/2010/surname/groups.json\",\n",
      "            \"c_valuesLink\": \"https://api.census.gov/data/2010/surname/values.json\",\n",
      "            \"c_documentationLink\": \"http://www.census.gov/developer/\",\n",
      "            \"c_isAggregate\": true,\n",
      "            \"c_isAvailable\": true,\n",
      "            \"@type\": \"dcat:Dataset\",\n",
      "            \"title\": \"2010 Decennial Census of Population and Housing: Surnames\",\n",
      "            \"accessLevel\": \"public\",\n",
      "            \"bureauCode\": [\n",
      "                \"006:07\"\n",
      "            ],\n",
      "            \"description\": \"The Census Bureau's Census surnames product is a data release based on names recorded in the decennial census.  The product contains rank and frequency data on surnames reported 100 or more times in the decennial census, along with Hispanic origin and race category percentages.  The latter are suppressed where necessary for confidentiality.  The data focus on summarized aggregates of counts and characteristics associated with surnames, and the data do not in any way identify any specific individuals.\",\n",
      "            \"distribution\": [\n",
      "                {\n",
      "                    \"@type\": \"dcat:Distribution\",\n",
      "                    \"accessURL\": \"https://api.census.gov/data/2010/surname\",\n",
      "                    \"description\": \"API endpoint\",\n",
      "                    \"format\": \"API\",\n",
      "                    \"mediaType\": \"application/json\",\n",
      "                    \"title\": \"API endpoint\"\n",
      "                }\n",
      "            ],\n",
      "            \"contactPoint\": {\n",
      "                \"fn\": \"Joshua Comenetz\",\n",
      "                \"hasEmail\": \"Joshua.Comenetz@census.gov\"\n",
      "            },\n",
      "            \"identifier\": \"http://api.census.gov/data/id/DecennialSurname2010\",\n",
      "            \"keyword\": [],\n",
      "            \"license\": \"http://creativecommons.org/publicdomain/zero/1.0/Public Domain\",\n",
      "            \"modified\": \"2016-12-15\",\n",
      "            \"programCode\": [\n",
      "                \"006:004\"\n",
      "            ],\n",
      "            \"references\": [\n",
      "                \"http://www.census.gov/developers/\"\n",
      "            ],\n",
      "            \"spatial\": \"United States\",\n",
      "            \"temporal\": \"2010/2010\",\n",
      "            \"publisher\": {\n",
      "                \"@type\": \"org:Organization\",\n",
      "                \"name\": \"U.S. Census Bureau\",\n",
      "                \"subOrganizationOf\": {\n",
      "                    \"@type\": \"org:Organization\",\n",
      "                    \"name\": \"U.S. Department Of Commerce\",\n",
      "                    \"subOrganizationOf\": {\n",
      "                        \"@type\": \"org:Organization\",\n",
      "                        \"name\": \"U.S. Government\"\n",
      "                    }\n",
      "                }\n",
      "            }\n",
      "        }\n",
      "    ]\n",
      "}\n"
     ]
    }
   ],
   "source": [
    "# First, get the basic info about the dataset.\n",
    "# References: Dataset API (https://api.census.gov/data/2010/surname.html) \n",
    "#             Requests API (http://docs.python-requests.org/en/master/)\n",
    "#             Python 3 JSON API (https://docs.python.org/3/library/json.html)\n",
    "\n",
    "api_base_url = \"http://api.census.gov/data/2010/surname\"\n",
    "api_info = requests.get(api_base_url) \n",
    "api_json = api_info.json() \n",
    "\n",
    "# Uncomment the next line(s) to see the response content.\n",
    "# NOTE: JSON and TEXT don't look much different to us. They can look very different to a machine!\n",
    "#print(api_info.text)\n",
    "print(json.dumps(api_json, indent=4))\n",
    "\n",
    "# The output is a dictionary - data are stored as key:value pairs and can be nested."
   ]
  },
  {
   "cell_type": "code",
   "execution_count": 90,
   "metadata": {},
   "outputs": [
    {
     "name": "stdout",
     "output_type": "stream",
     "text": [
      "https://api.census.gov/data/2010/surname/variables.json\n"
     ]
    }
   ],
   "source": [
    "# Request and store a local copy of the dataset variables. \n",
    "# Note that the URL could be hard coded just from referencing the API, but\n",
    "#   we are navigating the JSON data.\n",
    "var_link = api_json['dataset'][0]['c_variablesLink']\n",
    "print(var_link)"
   ]
  },
  {
   "cell_type": "code",
   "execution_count": 91,
   "metadata": {},
   "outputs": [
    {
     "name": "stdout",
     "output_type": "stream",
     "text": [
      "{\n",
      "    \"PCTAPI\": {\n",
      "        \"label\": \"Percent Non-Hispanic Asian and Native Hawaiian and Other Pacific Islander Alone\",\n",
      "        \"concept\": \"Surnames Variables\",\n",
      "        \"predicateType\": \"int\",\n",
      "        \"group\": \"N/A\",\n",
      "        \"limit\": 0\n",
      "    },\n",
      "    \"PCTBLACK\": {\n",
      "        \"label\": \"Percent Non-Hispanic Black or African American Alone\",\n",
      "        \"concept\": \"Surnames Variables\",\n",
      "        \"predicateType\": \"int\",\n",
      "        \"group\": \"N/A\",\n",
      "        \"limit\": 0\n",
      "    },\n",
      "    \"PCTAIAN\": {\n",
      "        \"label\": \"Percent Non-Hispanic American Indian and Alaska Native Alone\",\n",
      "        \"concept\": \"Surnames Variables\",\n",
      "        \"predicateType\": \"int\",\n",
      "        \"group\": \"N/A\",\n",
      "        \"limit\": 0\n",
      "    },\n",
      "    \"CUM_PROP100K\": {\n",
      "        \"label\": \"Cumulative proportion per 100,000 population\",\n",
      "        \"concept\": \"Surnames Variables\",\n",
      "        \"predicateType\": \"int\",\n",
      "        \"group\": \"N/A\",\n",
      "        \"limit\": 0\n",
      "    },\n",
      "    \"PROP100K\": {\n",
      "        \"label\": \"Proportion per 100,000 population for name\",\n",
      "        \"concept\": \"Surnames Variables\",\n",
      "        \"predicateType\": \"int\",\n",
      "        \"group\": \"N/A\",\n",
      "        \"limit\": 0\n",
      "    },\n",
      "    \"PCTWHITE\": {\n",
      "        \"label\": \"Percent Non-Hispanic White Alone\",\n",
      "        \"concept\": \"Surnames Variables\",\n",
      "        \"predicateType\": \"int\",\n",
      "        \"group\": \"N/A\",\n",
      "        \"limit\": 0\n",
      "    },\n",
      "    \"RANK\": {\n",
      "        \"label\": \"National Rank\",\n",
      "        \"concept\": \"Surnames Variables\",\n",
      "        \"predicateType\": \"int\",\n",
      "        \"group\": \"N/A\",\n",
      "        \"limit\": 0\n",
      "    },\n",
      "    \"COUNT\": {\n",
      "        \"label\": \"Frequency: number of occurrences nationally\",\n",
      "        \"concept\": \"Surnames Variables\",\n",
      "        \"predicateType\": \"int\",\n",
      "        \"group\": \"N/A\",\n",
      "        \"limit\": 0\n",
      "    },\n",
      "    \"PCT2PRACE\": {\n",
      "        \"label\": \"Percent Non-Hispanic Two or More Races\",\n",
      "        \"concept\": \"Surnames Variables\",\n",
      "        \"predicateType\": \"int\",\n",
      "        \"group\": \"N/A\",\n",
      "        \"limit\": 0\n",
      "    },\n",
      "    \"PCTHISPANIC\": {\n",
      "        \"label\": \"Percent Hispanic or Latino origin\",\n",
      "        \"concept\": \"Surnames Variables\",\n",
      "        \"predicateType\": \"int\",\n",
      "        \"group\": \"N/A\",\n",
      "        \"limit\": 0\n",
      "    },\n",
      "    \"NAME\": {\n",
      "        \"label\": \"Surname\",\n",
      "        \"concept\": \"Surnames Variables\",\n",
      "        \"predicateType\": \"string\",\n",
      "        \"group\": \"N/A\",\n",
      "        \"limit\": 0\n",
      "    }\n",
      "}\n"
     ]
    }
   ],
   "source": [
    "# Use the variable info link to make a new request\n",
    "\n",
    "variables = requests.get(var_link)\n",
    "jsonData = variables.json()\n",
    "variable_data = jsonData['variables']\n",
    "\n",
    "# Note that this is a dictionary of dictionaries.\n",
    "# We are going to use it throughout this exercise.\n",
    "print(json.dumps(variable_data, indent=4))"
   ]
  },
  {
   "cell_type": "code",
   "execution_count": 92,
   "metadata": {},
   "outputs": [
    {
     "name": "stdout",
     "output_type": "stream",
     "text": [
      "dict_keys(['PCTAPI', 'PCTBLACK', 'PCTAIAN', 'CUM_PROP100K', 'PROP100K', 'PCTWHITE', 'RANK', 'COUNT', 'PCT2PRACE', 'PCTHISPANIC', 'NAME'])\n"
     ]
    }
   ],
   "source": [
    "print(variable_data.keys())"
   ]
  },
  {
   "cell_type": "code",
   "execution_count": 94,
   "metadata": {},
   "outputs": [],
   "source": [
    "# Now request info about a single surname\n",
    "# Update 2020-02-26: Surnames should be all caps!\n",
    "name = 'WHEELER'\n",
    "name_query = '&NAME=' + name"
   ]
  },
  {
   "cell_type": "code",
   "execution_count": 95,
   "metadata": {},
   "outputs": [],
   "source": [
    "# Default vars: 'RANK,COUNT,PCTWHITE,PCTAPI,PCT2PRACE,PCTAIAN,PCTBLACK,PCTHISPANIC'\n",
    "desired_vars = 'RANK,COUNT,PCTWHITE,PCTAPI,PCT2PRACE,PCTAIAN,PCTBLACK,PCTHISPANIC'"
   ]
  },
  {
   "cell_type": "code",
   "execution_count": 98,
   "metadata": {},
   "outputs": [
    {
     "name": "stdout",
     "output_type": "stream",
     "text": [
      "Raw response data:\n",
      "\n",
      "[['RANK', 'COUNT', 'PCTWHITE', 'PCTAPI', 'PCT2PRACE', 'PCTAIAN', 'PCTBLACK', 'PCTHISPANIC', 'NAME'], ['243', '125058', '80.96', '0.5', '1.97', '0.93', '13.29', '2.35', 'WHEELER']]\n",
      "\n",
      "\n",
      "Pandas dataframe:\n"
     ]
    },
    {
     "data": {
      "text/html": [
       "<div>\n",
       "<style scoped>\n",
       "    .dataframe tbody tr th:only-of-type {\n",
       "        vertical-align: middle;\n",
       "    }\n",
       "\n",
       "    .dataframe tbody tr th {\n",
       "        vertical-align: top;\n",
       "    }\n",
       "\n",
       "    .dataframe thead th {\n",
       "        text-align: right;\n",
       "    }\n",
       "</style>\n",
       "<table border=\"1\" class=\"dataframe\">\n",
       "  <thead>\n",
       "    <tr style=\"text-align: right;\">\n",
       "      <th></th>\n",
       "      <th>National Rank</th>\n",
       "      <th>Frequency: number of occurrences nationally</th>\n",
       "      <th>Percent Non-Hispanic White Alone</th>\n",
       "      <th>Percent Non-Hispanic Asian and Native Hawaiian and Other Pacific Islander Alone</th>\n",
       "      <th>Percent Non-Hispanic Two or More Races</th>\n",
       "      <th>Percent Non-Hispanic American Indian and Alaska Native Alone</th>\n",
       "      <th>Percent Non-Hispanic Black or African American Alone</th>\n",
       "      <th>Percent Hispanic or Latino origin</th>\n",
       "      <th>Surname</th>\n",
       "    </tr>\n",
       "  </thead>\n",
       "  <tbody>\n",
       "    <tr>\n",
       "      <th>0</th>\n",
       "      <td>243</td>\n",
       "      <td>125058</td>\n",
       "      <td>80.96</td>\n",
       "      <td>0.5</td>\n",
       "      <td>1.97</td>\n",
       "      <td>0.93</td>\n",
       "      <td>13.29</td>\n",
       "      <td>2.35</td>\n",
       "      <td>WHEELER</td>\n",
       "    </tr>\n",
       "  </tbody>\n",
       "</table>\n",
       "</div>"
      ],
      "text/plain": [
       "  National Rank Frequency: number of occurrences nationally  \\\n",
       "0           243                                      125058   \n",
       "\n",
       "  Percent Non-Hispanic White Alone  \\\n",
       "0                            80.96   \n",
       "\n",
       "  Percent Non-Hispanic Asian and Native Hawaiian and Other Pacific Islander Alone  \\\n",
       "0                                                0.5                                \n",
       "\n",
       "  Percent Non-Hispanic Two or More Races  \\\n",
       "0                                   1.97   \n",
       "\n",
       "  Percent Non-Hispanic American Indian and Alaska Native Alone  \\\n",
       "0                                               0.93             \n",
       "\n",
       "  Percent Non-Hispanic Black or African American Alone  \\\n",
       "0                                              13.29     \n",
       "\n",
       "  Percent Hispanic or Latino origin  Surname  \n",
       "0                              2.35  WHEELER  "
      ]
     },
     "execution_count": 98,
     "metadata": {},
     "output_type": "execute_result"
    }
   ],
   "source": [
    "# References: Pandas (http://pandas.pydata.org/)\n",
    "\n",
    "base_url = 'http://api.census.gov/data/2010/surname?get='\n",
    "query_url = base_url + desired_vars + name_query\n",
    "name_stats = requests.get(query_url)\n",
    "name_data = name_stats.json()\n",
    "\n",
    "# The response data are not very human readable.\n",
    "print('Raw response data:\\n')\n",
    "print(name_data)\n",
    "\n",
    "# The simplest dataframe would use the variable names returned with the data. Example: PCTWHITE\n",
    "# It's easier to read the descriptive labels provide via the variables API.\n",
    "# The code block below replaces variable names with labels as it builds the dataframe.\n",
    "column_list = []\n",
    "\n",
    "for each in name_data[0]:\n",
    "    label = variable_data[each]['label']\n",
    "    column_list.append(label)\n",
    "\n",
    "df = pd.DataFrame([name_data[1]], columns=column_list)      \n",
    "\n",
    "print('\\n\\nPandas dataframe:')\n",
    "df"
   ]
  },
  {
   "cell_type": "markdown",
   "metadata": {},
   "source": [
    "If we want to query data for a different surname, we can go back up a few cells, change the value of the \"name\" variable, then re-run all of the other cells. That works in a notebook context but it's not very portable. Instead, we will define a function that can be called later without having to re-execute a bunch of code or code blocks. \n",
    "\n",
    "In Python, the syntax for defining a function is:\n",
    "\n",
    "```\n",
    "def function_name(arg1, arg2, arg3=Default_value):\n",
    "    do stuff\n",
    "    return something\n",
    "```"
   ]
  },
  {
   "cell_type": "code",
   "execution_count": 99,
   "metadata": {},
   "outputs": [],
   "source": [
    "def get_surname_data(desired_variables, surname):\n",
    "    name = str.upper(surname)                                      # API requires surnames in all uppercase\n",
    "    base_url = 'http://api.census.gov/data/2010/surname?get='\n",
    "    query_url = base_url + desired_vars + '&NAME=' + name\n",
    "    name_request = requests.get(query_url)\n",
    "    name_data = name_request.json()\n",
    "    return name_data"
   ]
  },
  {
   "cell_type": "code",
   "execution_count": 101,
   "metadata": {},
   "outputs": [
    {
     "name": "stdout",
     "output_type": "stream",
     "text": [
      "[['RANK', 'COUNT', 'PCTWHITE', 'PCTAPI', 'PCT2PRACE', 'PCTAIAN', 'PCTBLACK', 'PCTHISPANIC', 'NAME'], ['5', '1425470', '55.19', '0.44', '2.61', '1', '38.48', '2.29', 'JONES']]\n"
     ]
    }
   ],
   "source": [
    "# Now we can get data for any name just by changing the value of the surname variable.\n",
    "# We also have the option to update the variables of interest.\n",
    "desired_vars = 'RANK,COUNT,PCTWHITE,PCTAPI,PCT2PRACE,PCTAIAN,PCTBLACK,PCTHISPANIC'\n",
    "surname = \"Jones\"\n",
    "\n",
    "print(get_surname_data(desired_vars, surname))"
   ]
  },
  {
   "cell_type": "code",
   "execution_count": 103,
   "metadata": {},
   "outputs": [],
   "source": [
    "# That is not nicely formatted, so we can write another function to create a more human-readable data frame\n",
    "\n",
    "def format_surname_data(surname_data, variable_data):\n",
    "    column_list = []\n",
    "    for each in surname_data[0]:\n",
    "        label = variable_data[each]['label']\n",
    "        column_list.append(label)\n",
    "    surname_dataframe = pd.DataFrame([surname_data[1]], columns=column_list)\n",
    "    return surname_dataframe"
   ]
  },
  {
   "cell_type": "code",
   "execution_count": 106,
   "metadata": {},
   "outputs": [
    {
     "data": {
      "text/html": [
       "<div>\n",
       "<style scoped>\n",
       "    .dataframe tbody tr th:only-of-type {\n",
       "        vertical-align: middle;\n",
       "    }\n",
       "\n",
       "    .dataframe tbody tr th {\n",
       "        vertical-align: top;\n",
       "    }\n",
       "\n",
       "    .dataframe thead th {\n",
       "        text-align: right;\n",
       "    }\n",
       "</style>\n",
       "<table border=\"1\" class=\"dataframe\">\n",
       "  <thead>\n",
       "    <tr style=\"text-align: right;\">\n",
       "      <th></th>\n",
       "      <th>National Rank</th>\n",
       "      <th>Frequency: number of occurrences nationally</th>\n",
       "      <th>Percent Non-Hispanic White Alone</th>\n",
       "      <th>Percent Non-Hispanic Asian and Native Hawaiian and Other Pacific Islander Alone</th>\n",
       "      <th>Percent Non-Hispanic Two or More Races</th>\n",
       "      <th>Percent Non-Hispanic American Indian and Alaska Native Alone</th>\n",
       "      <th>Percent Non-Hispanic Black or African American Alone</th>\n",
       "      <th>Percent Hispanic or Latino origin</th>\n",
       "      <th>Surname</th>\n",
       "    </tr>\n",
       "  </thead>\n",
       "  <tbody>\n",
       "    <tr>\n",
       "      <th>0</th>\n",
       "      <td>1</td>\n",
       "      <td>2442977</td>\n",
       "      <td>70.9</td>\n",
       "      <td>0.5</td>\n",
       "      <td>2.19</td>\n",
       "      <td>0.89</td>\n",
       "      <td>23.11</td>\n",
       "      <td>2.4</td>\n",
       "      <td>SMITH</td>\n",
       "    </tr>\n",
       "  </tbody>\n",
       "</table>\n",
       "</div>"
      ],
      "text/plain": [
       "  National Rank Frequency: number of occurrences nationally  \\\n",
       "0             1                                     2442977   \n",
       "\n",
       "  Percent Non-Hispanic White Alone  \\\n",
       "0                             70.9   \n",
       "\n",
       "  Percent Non-Hispanic Asian and Native Hawaiian and Other Pacific Islander Alone  \\\n",
       "0                                                0.5                                \n",
       "\n",
       "  Percent Non-Hispanic Two or More Races  \\\n",
       "0                                   2.19   \n",
       "\n",
       "  Percent Non-Hispanic American Indian and Alaska Native Alone  \\\n",
       "0                                               0.89             \n",
       "\n",
       "  Percent Non-Hispanic Black or African American Alone  \\\n",
       "0                                              23.11     \n",
       "\n",
       "  Percent Hispanic or Latino origin Surname  \n",
       "0                               2.4   SMITH  "
      ]
     },
     "execution_count": 106,
     "metadata": {},
     "output_type": "execute_result"
    }
   ],
   "source": [
    "# Now we can get a nice table for any name by calling both functions\n",
    "desired_vars = 'RANK,COUNT,PCTWHITE,PCTAPI,PCT2PRACE,PCTAIAN,PCTBLACK,PCTHISPANIC'\n",
    "surname = \"Smith\"\n",
    "\n",
    "surname_data = get_surname_data(desired_vars, surname)\n",
    "surname_dataframe = format_surname_data(surname_data, variable_data)\n",
    "\n",
    "surname_dataframe"
   ]
  },
  {
   "cell_type": "code",
   "execution_count": null,
   "metadata": {},
   "outputs": [],
   "source": []
  }
 ],
 "metadata": {
  "kernelspec": {
   "display_name": "Python 3",
   "language": "python",
   "name": "python3"
  },
  "language_info": {
   "codemirror_mode": {
    "name": "ipython",
    "version": 3
   },
   "file_extension": ".py",
   "mimetype": "text/x-python",
   "name": "python",
   "nbconvert_exporter": "python",
   "pygments_lexer": "ipython3",
   "version": "3.8.3"
  }
 },
 "nbformat": 4,
 "nbformat_minor": 2
}
