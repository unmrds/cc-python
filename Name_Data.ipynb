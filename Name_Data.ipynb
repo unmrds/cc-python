{
 "cells": [
  {
   "cell_type": "markdown",
   "metadata": {},
   "source": [
    "# An Introductory Python Workflow: US Census Surname Data\n",
    "\n",
    "This notebook provides working examples of many of the concepts introduced earlier:\n",
    "\n",
    "* Importing modules or libraries to extend basic Python functionality\n",
    "* Declaring and using variables\n",
    "* Python data types and data structures\n",
    "* Flow control\n",
    "\n",
    "Using the 2010 surname data from the US Census, we will develop a workflow to accomplish the following:\n",
    "\n",
    "1. Retrieve information about the dataset API\n",
    "2. Retrieve data about a single surname\n",
    "3. Output surname data in tabular form\n",
    "4. Visualize surname data using a pie chart\n",
    "\n",
    "## Sample dataset\n",
    "\n",
    "_Decennial Census Surname Files (2010)_\n",
    "\n",
    "[https://www.census.gov/data/developers/data-sets/surnames.html](https://www.census.gov/data/developers/data-sets/surnames.html)\n",
    "\n",
    "[https://api.census.gov/data/2010/surname.html](https://api.census.gov/data/2010/surname.html)\n",
    "\n",
    "#### Citation \n",
    "\n",
    "US Census Bureau (2016) _Decennial Census Surname Files (2010)_ Retrieved from [https://api.census.gov/data/2010/surname.json](https://api.census.gov/data/2010/surname.json)\n",
    "\n",
    "----------------------------------------------------------------------------------------------------\n",
    "\n",
    "## 1. Import modules\n",
    "\n",
    "The modules used in this exercise are popular and under active development. Follow the links for more information about methods, syntax, etc.\n",
    "\n",
    "**Requests:** [http://docs.python-requests.org/en/master/](http://docs.python-requests.org/en/master/)\n",
    "\n",
    "**JSON:** [https://docs.python.org/3/library/json.html](https://docs.python.org/3/library/json.html)\n",
    "\n",
    "**Pandas:** [http://pandas.pydata.org/](http://pandas.pydata.org/)\n",
    "\n",
    "**Matplotlib:** [https://matplotlib.org/](https://matplotlib.org/)\n",
    "\n",
    "Look for information about or links to the API, developer's documentation, etc. Helpful examples are often included.\n",
    "\n",
    "Note that we are providing an alias for Pandas and matplotlib. Whenever we need to call a method from those module, we can use the alias. "
   ]
  },
  {
   "cell_type": "code",
   "execution_count": 1,
   "metadata": {
    "collapsed": true
   },
   "outputs": [],
   "source": [
    "# http://api.census.gov/data/2010/surname\n",
    "import requests\n",
    "import json\n",
    "import pandas as pd\n",
    "import matplotlib.pyplot as plt"
   ]
  },
  {
   "cell_type": "markdown",
   "metadata": {},
   "source": [
    "## 2. Basic interactions with the Census dataset API\n",
    "\n",
    "The dataset in our example is not excessively large, so we can explore different approaches to interacting with it:\n",
    "\n",
    "* Download some or all data to the computer we're using ('local'). Keep the data in memory and do stuff.\n",
    "* Only download what we need when we need it. Doing stuff may require additional calls to the API.\n",
    "\n",
    "Both have pros and cons. Both are used in the following examples."
   ]
  },
  {
   "cell_type": "code",
   "execution_count": 2,
   "metadata": {
    "scrolled": true
   },
   "outputs": [],
   "source": [
    "# First, get the basic info about the dataset.\n",
    "# References: Dataset API (https://api.census.gov/data/2010/surname.html) \n",
    "#             Requests API (http://docs.python-requests.org/en/master/)\n",
    "#             Python 3 JSON API (https://docs.python.org/3/library/json.html)\n",
    "\n",
    "api_base_url = \"http://api.census.gov/data/2010/surname\"\n",
    "api_info = requests.get(api_base_url) \n",
    "api_json = api_info.json() \n",
    "\n",
    "# Uncomment the next line(s) to see the response content.\n",
    "# NOTE: JSON and TEXT don't look much different to us. They can look very different to a machine!\n",
    "#print(api_info.text)\n",
    "#print(api_json)\n",
    "\n",
    "# Request and store a local copy of the dataset variables. \n",
    "# Note that the URL could be hard coded just from referencing the API, but\n",
    "#   we are navigating the JSON data.\n",
    "var_link = api_json['dataset'][0]['c_variablesLink']\n",
    "#print(var_link)\n",
    "\n",
    "variables = requests.get(var_link)\n",
    "jsonData = variables.json()\n",
    "v = jsonData['variables']\n",
    "#print(v.keys())"
   ]
  },
  {
   "cell_type": "markdown",
   "metadata": {},
   "source": [
    "## 3. Download and tabulate statistics for a given surname\n",
    "\n",
    "This initial example is straight forward: Find out the rank and demographic breakdown of a particular name.\n",
    "\n",
    "To make it easy to change the name we're looking up, assign it to a variable."
   ]
  },
  {
   "cell_type": "code",
   "execution_count": 3,
   "metadata": {
    "collapsed": true
   },
   "outputs": [],
   "source": [
    "# Try 'steuben' in order to break the first pie chart example.\n",
    "name = 'wheeler'\n",
    "name_query = '&NAME=' + name"
   ]
  },
  {
   "cell_type": "markdown",
   "metadata": {},
   "source": [
    "Referring to the variables API, decide which variables are of interest and edit accordingly."
   ]
  },
  {
   "cell_type": "code",
   "execution_count": 4,
   "metadata": {
    "collapsed": true
   },
   "outputs": [],
   "source": [
    "# Default vars: 'RANK,COUNT,PCTWHITE,PCTAPI,PCT2PRACE,PCTAIAN,PCTBLACK,PCTHISPANIC'\n",
    "desired_vars = 'RANK,COUNT,PCTWHITE,PCTAPI,PCT2PRACE,PCTAIAN,PCTBLACK,PCTHISPANIC'"
   ]
  },
  {
   "cell_type": "markdown",
   "metadata": {},
   "source": [
    "Build the query URL and send the request. Pass the response data into a Pandas dataframe for viewing."
   ]
  },
  {
   "cell_type": "code",
   "execution_count": 5,
   "metadata": {},
   "outputs": [
    {
     "name": "stdout",
     "output_type": "stream",
     "text": [
      "Raw response data:\n",
      "\n",
      "[['RANK', 'COUNT', 'PCTWHITE', 'PCTAPI', 'PCT2PRACE', 'PCTAIAN', 'PCTBLACK', 'PCTHISPANIC', 'NAME'], ['243', '125058', '80.96', '0.5', '1.97', '0.93', '13.29', '2.35', 'WHEELER']]\n",
      "\n",
      "\n",
      "Pandas dataframe:\n"
     ]
    },
    {
     "data": {
      "text/html": [
       "<div>\n",
       "<style>\n",
       "    .dataframe thead tr:only-child th {\n",
       "        text-align: right;\n",
       "    }\n",
       "\n",
       "    .dataframe thead th {\n",
       "        text-align: left;\n",
       "    }\n",
       "\n",
       "    .dataframe tbody tr th {\n",
       "        vertical-align: top;\n",
       "    }\n",
       "</style>\n",
       "<table border=\"1\" class=\"dataframe\">\n",
       "  <thead>\n",
       "    <tr style=\"text-align: right;\">\n",
       "      <th></th>\n",
       "      <th>National Rank</th>\n",
       "      <th>Frequency: number of occurrences nationally</th>\n",
       "      <th>Percent Non-Hispanic White Alone</th>\n",
       "      <th>Percent Non-Hispanic Asian and Native Hawaiian and Other Pacific Islander Alone</th>\n",
       "      <th>Percent Non-Hispanic Two or More Races</th>\n",
       "      <th>Percent Non-Hispanic American Indian and Alaska Native Alone</th>\n",
       "      <th>Percent Non-Hispanic Black or African American Alone</th>\n",
       "      <th>Percent Hispanic or Latino origin</th>\n",
       "      <th>Surname</th>\n",
       "    </tr>\n",
       "  </thead>\n",
       "  <tbody>\n",
       "    <tr>\n",
       "      <th>0</th>\n",
       "      <td>243</td>\n",
       "      <td>125058</td>\n",
       "      <td>80.96</td>\n",
       "      <td>0.5</td>\n",
       "      <td>1.97</td>\n",
       "      <td>0.93</td>\n",
       "      <td>13.29</td>\n",
       "      <td>2.35</td>\n",
       "      <td>WHEELER</td>\n",
       "    </tr>\n",
       "  </tbody>\n",
       "</table>\n",
       "</div>"
      ],
      "text/plain": [
       "  National Rank Frequency: number of occurrences nationally  \\\n",
       "0           243                                      125058   \n",
       "\n",
       "  Percent Non-Hispanic White Alone  \\\n",
       "0                            80.96   \n",
       "\n",
       "  Percent Non-Hispanic Asian and Native Hawaiian and Other Pacific Islander Alone  \\\n",
       "0                                                0.5                                \n",
       "\n",
       "  Percent Non-Hispanic Two or More Races  \\\n",
       "0                                   1.97   \n",
       "\n",
       "  Percent Non-Hispanic American Indian and Alaska Native Alone  \\\n",
       "0                                               0.93             \n",
       "\n",
       "  Percent Non-Hispanic Black or African American Alone  \\\n",
       "0                                              13.29     \n",
       "\n",
       "  Percent Hispanic or Latino origin  Surname  \n",
       "0                              2.35  WHEELER  "
      ]
     },
     "execution_count": 5,
     "metadata": {},
     "output_type": "execute_result"
    }
   ],
   "source": [
    "# References: Pandas (http://pandas.pydata.org/)\n",
    "\n",
    "base_url = 'http://api.census.gov/data/2010/surname?get='\n",
    "query_url = base_url + desired_vars + name_query\n",
    "name_stats = requests.get(query_url)\n",
    "d = name_stats.json()\n",
    "\n",
    "# The response data are not very human readable.\n",
    "print('Raw response data:\\n')\n",
    "print(d)\n",
    "\n",
    "# Pass the data to a Pandas dataframe. \n",
    "# In addition to being easier to read, dataframes simplify further analysis.\n",
    "\n",
    "# The simplest dataframe would use the variable names returned with the data. Example: PCTWHITE\n",
    "# It's easier to read the descriptive labels provide via the variables API.\n",
    "# The code block below replaces variable names with labels as it builds the dataframe.\n",
    "column_list = []\n",
    "for each in d[0]:                                   # For each variable in the response data...\n",
    "    label = v[each]['label']                        #     look up that variable's label in the variable dictionary\n",
    "    column_list.append(label)                        #     add the variable's label to the list of column headers\n",
    "df = pd.DataFrame([d[1]], columns=column_list)\n",
    "print('\\n\\nPandas dataframe:')\n",
    "df"
   ]
  },
  {
   "cell_type": "markdown",
   "metadata": {},
   "source": [
    "## 4. Create a name demographic pie-chart"
   ]
  },
  {
   "cell_type": "code",
   "execution_count": 6,
   "metadata": {},
   "outputs": [
    {
     "name": "stdout",
     "output_type": "stream",
     "text": [
      "[['RANK', 'COUNT', 'PCTWHITE', 'PCTAPI', 'PCT2PRACE', 'PCTAIAN', 'PCTBLACK', 'PCTHISPANIC', 'NAME'], ['243', '125058', '80.96', '0.5', '1.97', '0.93', '13.29', '2.35', 'WHEELER']]\n",
      "\n",
      "\n",
      " ['80.96', '0.5', '1.97', '0.93', '13.29', '2.35']\n"
     ]
    }
   ],
   "source": [
    "# Using index positions is good for doing something quick, but in this case makes code easy to break.\n",
    "# Selecting different surname dataset variables or re-ordering variables will result in errors.\n",
    "print(d)\n",
    "pcts = d[1][2:8]\n",
    "print('\\n\\n',pcts)"
   ]
  },
  {
   "cell_type": "code",
   "execution_count": 7,
   "metadata": {},
   "outputs": [
    {
     "data": {
      "image/png": "[encoded data removed]",
      "text/plain": [
       "<matplotlib.figure.Figure at 0x21a82c919b0>"
      ]
     },
     "metadata": {},
     "output_type": "display_data"
    }
   ],
   "source": [
    "# Create the labels and get the data for the pie chart.\n",
    "# Note that we are using the downloaded source data, not the dataframe\n",
    "#     used for the table above.\n",
    "labels = ['White', 'Asian', '2+ Races', 'Native American', 'Black', 'Hispanic']\n",
    "pcts = d[1][2:8]\n",
    "#print(pcts)\n",
    "\n",
    "# Create a pie chart (https://matplotlib.org/2.0.2/examples/pie_and_polar_charts/pie_demo_features.html)\n",
    "plt.pie(\n",
    "    # using data percentages\n",
    "    pcts,\n",
    "    # Use labels defined above\n",
    "    labels=labels,\n",
    "    # with no shadows\n",
    "    shadow=False,\n",
    "    # with the start angle at 90%\n",
    "    startangle=90,\n",
    "    # with the percent listed as a fraction\n",
    "    autopct='%1.1f%%',\n",
    "    )\n",
    "\n",
    "# View the plot drop above\n",
    "plt.axis('equal')\n",
    "\n",
    "# View the plot\n",
    "plt.tight_layout()\n",
    "plt.show()"
   ]
  },
  {
   "cell_type": "markdown",
   "metadata": {
    "collapsed": true
   },
   "source": [
    "## 5. Fix the data type error"
   ]
  },
  {
   "cell_type": "code",
   "execution_count": 8,
   "metadata": {},
   "outputs": [
    {
     "data": {
      "image/png": "[encoded data removed]",
      "text/plain": [
       "<matplotlib.figure.Figure at 0x21a8275f0b8>"
      ]
     },
     "metadata": {},
     "output_type": "display_data"
    }
   ],
   "source": [
    "# First try - just replace string with a zero.\n",
    "# Here, the for loop iterates through items in a list.\n",
    "pcts2 = []\n",
    "for p in pcts:\n",
    "    if p != '(S)':\n",
    "        pcts2.append(p)\n",
    "    else:\n",
    "        pcts2.append(0)\n",
    "\n",
    "# Create a pie chart (https://matplotlib.org/2.0.2/examples/pie_and_polar_charts/pie_demo_features.html)\n",
    "plt.pie(\n",
    "    # using data percentages\n",
    "    pcts2,\n",
    "    # Use labels defined above\n",
    "    labels=labels,\n",
    "    # with no shadows\n",
    "    shadow=False,\n",
    "    # with the start angle at 90%\n",
    "    startangle=90,\n",
    "    # with the percent listed as a fraction\n",
    "    autopct='%1.1f%%',\n",
    "    )\n",
    "\n",
    "# View the plot drop above\n",
    "plt.axis('equal')\n",
    "\n",
    "# View the plot\n",
    "plt.tight_layout()\n",
    "plt.show()"
   ]
  },
  {
   "cell_type": "code",
   "execution_count": 9,
   "metadata": {},
   "outputs": [
    {
     "name": "stdout",
     "output_type": "stream",
     "text": [
      "80.96\n",
      "0.5\n",
      "1.97\n",
      "0.93\n",
      "13.29\n",
      "2.35\n"
     ]
    },
    {
     "data": {
      "image/png": "[encoded data removed]",
      "text/plain": [
       "<matplotlib.figure.Figure at 0x21a82c3be80>"
      ]
     },
     "metadata": {},
     "output_type": "display_data"
    }
   ],
   "source": [
    "# Second try - exclude and corresponding label if source data for a given demographic == (S)\n",
    "# This requires the list index of the data and the label.\n",
    "# The for loop in this case iterates across a range of integers equal to the length of the list.\n",
    "pcts3 = []\n",
    "edit_labels = []\n",
    "for i in range(len(pcts)):\n",
    "    print(pcts[i])\n",
    "    if pcts[i] != '(S)':\n",
    "        pcts3.append(pcts[i])\n",
    "        edit_labels.append(labels[i])\n",
    "    else:\n",
    "        pass\n",
    "\n",
    "# Create a pie chart (https://matplotlib.org/2.0.2/examples/pie_and_polar_charts/pie_demo_features.html)\n",
    "plt.pie(\n",
    "    # using data percentages\n",
    "    pcts3,\n",
    "    # Use labels defined above\n",
    "    labels=edit_labels,\n",
    "    # with no shadows\n",
    "    shadow=False,\n",
    "    # with the start angle at 90%\n",
    "    startangle=90,\n",
    "    # with the percent listed as a fraction\n",
    "    autopct='%1.1f%%',\n",
    "    )\n",
    "\n",
    "# View the plot drop above\n",
    "plt.axis('equal')\n",
    "\n",
    "# View the plot\n",
    "plt.tight_layout()\n",
    "plt.show()"
   ]
  },
  {
   "cell_type": "markdown",
   "metadata": {},
   "source": [
    "## Exercises\n",
    "\n",
    "1. Look up and produce the demographic pie charts for your name or other names of interest.\n",
    "2. Change the variables displayed in the dataframe.\n",
    "2. Change the order of variables displayed in the dataframe.\n",
    "3. Referring to the documentation, edit the pie chart parameters."
   ]
  },
  {
   "cell_type": "code",
   "execution_count": null,
   "metadata": {
    "collapsed": true
   },
   "outputs": [],
   "source": []
  }
 ],
 "metadata": {
  "kernelspec": {
   "display_name": "Python 3",
   "language": "python",
   "name": "python3"
  },
  "language_info": {
   "codemirror_mode": {
    "name": "ipython",
    "version": 3
   },
   "file_extension": ".py",
   "mimetype": "text/x-python",
   "name": "python",
   "nbconvert_exporter": "python",
   "pygments_lexer": "ipython3",
   "version": "3.6.1"
  }
 },
 "nbformat": 4,
 "nbformat_minor": 2
}
