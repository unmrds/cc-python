{
 "cells": [
  {
   "cell_type": "markdown",
   "metadata": {},
   "source": [
    "# Functions\n",
    "\n",
    "For this tutorial, we will use the modified US Census baby name dataset.\n",
    "\n",
    "> US Social Security Administration (2022). \"National data on the relative frequency of given names in the population of U.S. births wjere te individual has a Social Security Number.\" <https://www.ssa.gov/oact/babynames/limits.html>\n",
    "\n",
    "The dataset has been modified from the source to include column names, and to limit the date range from 2010-2021.\n",
    "\n",
    "First, a review of concepts:\n",
    "\n",
    "* lists\n",
    "* dictionaries\n",
    "* loops\n",
    "* conditionals\n",
    "\n",
    "For this we will refer back to tutorial 1."
   ]
  },
  {
   "cell_type": "code",
   "execution_count": 2,
   "metadata": {},
   "outputs": [
    {
     "data": {
      "text/plain": [
       "'\\n# syntax\\ndef function_name(arg1, arg2, ...):\\n    do stuff here\\n    return\\n'"
      ]
     },
     "execution_count": 2,
     "metadata": {},
     "output_type": "execute_result"
    }
   ],
   "source": [
    "# functions - syntax and example\n",
    "# note the workflow here is based on the Carpentries\n",
    "\n",
    "\"\"\"\n",
    "# syntax\n",
    "def function_name(arg1, arg2, ...):\n",
    "    do stuff here\n",
    "    return\n",
    "\"\"\""
   ]
  },
  {
   "cell_type": "code",
   "execution_count": 13,
   "metadata": {},
   "outputs": [],
   "source": [
    "def kilograms_to_pounds(weight_k):\n",
    "    weight_lbs = weight_k * 2.2\n",
    "    return weight_lbs"
   ]
  },
  {
   "cell_type": "code",
   "execution_count": 14,
   "metadata": {},
   "outputs": [
    {
     "name": "stdout",
     "output_type": "stream",
     "text": [
      "my dog weighs 33.0 pounds\n"
     ]
    }
   ],
   "source": [
    "print(\"my dog weighs\", kilograms_to_lbs(15), 'pounds')"
   ]
  },
  {
   "cell_type": "code",
   "execution_count": 24,
   "metadata": {},
   "outputs": [],
   "source": [
    "# we can calculate our weight on the moon\n",
    "\n",
    "\"\"\"\n",
    "Formula for this calculation is\n",
    "\n",
    "weight_moon = (weight_earth/9.81m/s^2) * 1.622m/s^2\n",
    "\"\"\"\n",
    "\n",
    "def moon_weight_kilograms(earth_weight_k):\n",
    "    moon_weight_k = (earth_weight_k/9.81) * 1.622\n",
    "    return round(moon_weight_k, 2)"
   ]
  },
  {
   "cell_type": "code",
   "execution_count": 25,
   "metadata": {},
   "outputs": [
    {
     "data": {
      "text/plain": [
       "2.48"
      ]
     },
     "execution_count": 25,
     "metadata": {},
     "output_type": "execute_result"
    }
   ],
   "source": [
    "moon_weight_kilograms(15)"
   ]
  },
  {
   "cell_type": "code",
   "execution_count": 28,
   "metadata": {},
   "outputs": [],
   "source": [
    "# my dog is overweight - should she get more exercise or move to the moon?\n",
    "# let's get her weight in pounds by _composing_ functions using the output of other functions\n",
    "\n",
    "# all the work in the next function is done by our other functions\n",
    "def moon_weight_pounds(earth_weight_k):\n",
    "    moon_weight_k = moon_weight_kilograms(earth_weight_k)\n",
    "    moon_weight_lbs = kilograms_to_pounds(moon_weight_k)\n",
    "    return moon_weight_lbs"
   ]
  },
  {
   "cell_type": "code",
   "execution_count": 29,
   "metadata": {},
   "outputs": [
    {
     "name": "stdout",
     "output_type": "stream",
     "text": [
      "on the moon my dog would weigh 5.456 pounds\n"
     ]
    }
   ],
   "source": [
    "print('on the moon my dog would weigh', moon_weight_pounds(15), 'pounds')"
   ]
  },
  {
   "cell_type": "code",
   "execution_count": null,
   "metadata": {},
   "outputs": [],
   "source": []
  }
 ],
 "metadata": {
  "kernelspec": {
   "display_name": "Python 3",
   "language": "python",
   "name": "python3"
  },
  "language_info": {
   "codemirror_mode": {
    "name": "ipython",
    "version": 3
   },
   "file_extension": ".py",
   "mimetype": "text/x-python",
   "name": "python",
   "nbconvert_exporter": "python",
   "pygments_lexer": "ipython3",
   "version": "3.8.3"
  }
 },
 "nbformat": 4,
 "nbformat_minor": 4
}
