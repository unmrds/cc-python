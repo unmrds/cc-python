{
 "cells": [
  {
   "cell_type": "markdown",
   "metadata": {},
   "source": [
    "## The Basics\n",
    "\n",
    "At the core of Python (and any programming language) there are some key characteristics of how a program is structured that enable the proper execution of that program. These characteristics include the structure of the code itself, the core data types from which others are built, and core operators that modify objects or create new ones. From these raw materials more complex commands, functions, and modules are built.\n",
    "For guidance on recommended Python structure refer to the [Python Style Guide](https://www.python.org/dev/peps/pep-0008).\n",
    "\n",
    "# Examples: Variables and Data Types\n",
    "\n",
    "## The Interpreter"
   ]
  },
  {
   "cell_type": "code",
   "execution_count": 1,
   "metadata": {},
   "outputs": [
    {
     "data": {
      "text/plain": [
       "6"
      ]
     },
     "execution_count": 1,
     "metadata": {},
     "output_type": "execute_result"
    }
   ],
   "source": [
    "# The interpreter can be used as a calculator, and can also echo or concatenate strings.\n",
    "\n",
    "3 + 3"
   ]
  },
  {
   "cell_type": "code",
   "execution_count": 2,
   "metadata": {},
   "outputs": [
    {
     "data": {
      "text/plain": [
       "9"
      ]
     },
     "execution_count": 2,
     "metadata": {},
     "output_type": "execute_result"
    }
   ],
   "source": [
    "3 * 3"
   ]
  },
  {
   "cell_type": "code",
   "execution_count": 3,
   "metadata": {},
   "outputs": [
    {
     "data": {
      "text/plain": [
       "27"
      ]
     },
     "execution_count": 3,
     "metadata": {},
     "output_type": "execute_result"
    }
   ],
   "source": [
    "3 ** 3"
   ]
  },
  {
   "cell_type": "code",
   "execution_count": 4,
   "metadata": {},
   "outputs": [
    {
     "data": {
      "text/plain": [
       "1.5"
      ]
     },
     "execution_count": 4,
     "metadata": {},
     "output_type": "execute_result"
    }
   ],
   "source": [
    "3 / 2 # classic division - output is a floating point number"
   ]
  },
  {
   "cell_type": "code",
   "execution_count": 5,
   "metadata": {},
   "outputs": [
    {
     "data": {
      "text/plain": [
       "'dogs'"
      ]
     },
     "execution_count": 5,
     "metadata": {},
     "output_type": "execute_result"
    }
   ],
   "source": [
    "# Use quotes around strings\n",
    "\n",
    "'dogs'"
   ]
  },
  {
   "cell_type": "code",
   "execution_count": 6,
   "metadata": {},
   "outputs": [
    {
     "data": {
      "text/plain": [
       "'dogscats'"
      ]
     },
     "execution_count": 6,
     "metadata": {},
     "output_type": "execute_result"
    }
   ],
   "source": [
    "# + operator can be used to concatenate strings\n",
    "\n",
    "'dogs' + \"cats\""
   ]
  },
  {
   "cell_type": "code",
   "execution_count": 7,
   "metadata": {},
   "outputs": [
    {
     "name": "stdout",
     "output_type": "stream",
     "text": [
      "Hello World!\n"
     ]
    }
   ],
   "source": [
    "print('Hello World!')"
   ]
  },
  {
   "cell_type": "markdown",
   "metadata": {},
   "source": [
    "### Try It Yourself\n",
    "\n",
    "Go to the section _4.4. Numeric Types_ in the Python 3 documentation at <https://docs.python.org/3.4/library/stdtypes.html>. The table in that section describes different operators - try some!\n",
    "\n",
    "What is the difference between the different division operators (`/`, `//`, and `%`)?\n",
    "\n",
    "## Variables\n",
    "\n",
    "Variables allow us to store values for later use. "
   ]
  },
  {
   "cell_type": "code",
   "execution_count": 8,
   "metadata": {},
   "outputs": [
    {
     "data": {
      "text/plain": [
       "15"
      ]
     },
     "execution_count": 8,
     "metadata": {},
     "output_type": "execute_result"
    }
   ],
   "source": [
    "a = 5\n",
    "b = 10\n",
    "a + b"
   ]
  },
  {
   "cell_type": "markdown",
   "metadata": {},
   "source": [
    "Variables can be reassigned:"
   ]
  },
  {
   "cell_type": "code",
   "execution_count": 9,
   "metadata": {},
   "outputs": [
    {
     "data": {
      "text/plain": [
       "38764294.1097"
      ]
     },
     "execution_count": 9,
     "metadata": {},
     "output_type": "execute_result"
    }
   ],
   "source": [
    "b = 38764289.1097\n",
    "a + b"
   ]
  },
  {
   "cell_type": "markdown",
   "metadata": {},
   "source": [
    "The ability to reassign variable values becomes important when iterating through groups of objects for batch processing or other purposes. In the example below, the value of `b` is dynamically updated every time the `while` loop is executed:"
   ]
  },
  {
   "cell_type": "code",
   "execution_count": 10,
   "metadata": {},
   "outputs": [
    {
     "name": "stdout",
     "output_type": "stream",
     "text": [
      "b=10\n",
      "b=9\n",
      "b=8\n",
      "b=7\n",
      "b=6\n"
     ]
    }
   ],
   "source": [
    "a = 5\n",
    "b = 10\n",
    "while b > a:\n",
    "    print(\"b=\"+str(b))\n",
    "    b = b-1"
   ]
  },
  {
   "cell_type": "markdown",
   "metadata": {},
   "source": [
    "Variable data types can be inferred, so Python does not require us to declare the data type of a variable on assignment."
   ]
  },
  {
   "cell_type": "code",
   "execution_count": 11,
   "metadata": {},
   "outputs": [
    {
     "data": {
      "text/plain": [
       "int"
      ]
     },
     "execution_count": 11,
     "metadata": {},
     "output_type": "execute_result"
    }
   ],
   "source": [
    "a = 5\n",
    "type(a)"
   ]
  },
  {
   "cell_type": "markdown",
   "metadata": {},
   "source": [
    "is equivalent to"
   ]
  },
  {
   "cell_type": "code",
   "execution_count": 12,
   "metadata": {},
   "outputs": [
    {
     "data": {
      "text/plain": [
       "int"
      ]
     },
     "execution_count": 12,
     "metadata": {},
     "output_type": "execute_result"
    }
   ],
   "source": [
    "a = int(5)\n",
    "type(a)"
   ]
  },
  {
   "cell_type": "code",
   "execution_count": 13,
   "metadata": {},
   "outputs": [
    {
     "name": "stdout",
     "output_type": "stream",
     "text": [
      "<class 'str'>\n",
      "<class 'str'>\n"
     ]
    }
   ],
   "source": [
    "c = 'dogs'\n",
    "print(type(c))\n",
    "\n",
    "c = str('dogs')\n",
    "print(type(c))"
   ]
  },
  {
   "cell_type": "markdown",
   "metadata": {},
   "source": [
    "There are cases when we may want to declare the data type, for example to assign a different data type from the default that will be inferred. Concatenating strings provides a good example. "
   ]
  },
  {
   "cell_type": "code",
   "execution_count": 14,
   "metadata": {},
   "outputs": [
    {
     "ename": "TypeError",
     "evalue": "can only concatenate str (not \"int\") to str",
     "output_type": "error",
     "traceback": [
      "\u001b[1;31m---------------------------------------------------------------------------\u001b[0m",
      "\u001b[1;31mTypeError\u001b[0m                                 Traceback (most recent call last)",
      "\u001b[1;32m<ipython-input-14-57638a3a162b>\u001b[0m in \u001b[0;36m<module>\u001b[1;34m\u001b[0m\n\u001b[0;32m      1\u001b[0m \u001b[0mcustomer\u001b[0m \u001b[1;33m=\u001b[0m \u001b[1;34m'Carol'\u001b[0m\u001b[1;33m\u001b[0m\u001b[1;33m\u001b[0m\u001b[0m\n\u001b[0;32m      2\u001b[0m \u001b[0mpizzas\u001b[0m \u001b[1;33m=\u001b[0m \u001b[1;36m2\u001b[0m\u001b[1;33m\u001b[0m\u001b[1;33m\u001b[0m\u001b[0m\n\u001b[1;32m----> 3\u001b[1;33m \u001b[0mprint\u001b[0m\u001b[1;33m(\u001b[0m\u001b[0mcustomer\u001b[0m \u001b[1;33m+\u001b[0m \u001b[1;34m' ordered '\u001b[0m \u001b[1;33m+\u001b[0m \u001b[0mpizzas\u001b[0m \u001b[1;33m+\u001b[0m \u001b[1;34m' pizzas.'\u001b[0m\u001b[1;33m)\u001b[0m\u001b[1;33m\u001b[0m\u001b[1;33m\u001b[0m\u001b[0m\n\u001b[0m",
      "\u001b[1;31mTypeError\u001b[0m: can only concatenate str (not \"int\") to str"
     ]
    }
   ],
   "source": [
    "customer = 'Carol'\n",
    "pizzas = 2\n",
    "print(customer + ' ordered ' + pizzas + ' pizzas.')"
   ]
  },
  {
   "cell_type": "markdown",
   "metadata": {},
   "source": [
    "Above, Python has inferred the type of the variable `pizza` to be an integer. Since strings can only be concatenated with other strings, our print statement generates an error. There are two ways we can resolve the error:\n",
    "\n",
    "1. Declare the `pizzas` variable as type string (`str`) on assignment or\n",
    "2. Re-cast the `pizzas` variable as a string within the `print` statement."
   ]
  },
  {
   "cell_type": "code",
   "execution_count": 15,
   "metadata": {},
   "outputs": [
    {
     "name": "stdout",
     "output_type": "stream",
     "text": [
      "Carol ordered 2 pizzas.\n"
     ]
    }
   ],
   "source": [
    "customer = 'Carol'\n",
    "pizzas = str(2)\n",
    "print(customer + ' ordered ' + pizzas + ' pizzas.')"
   ]
  },
  {
   "cell_type": "code",
   "execution_count": 16,
   "metadata": {},
   "outputs": [
    {
     "name": "stdout",
     "output_type": "stream",
     "text": [
      "Carol ordered 2 pizzas.\n"
     ]
    }
   ],
   "source": [
    "customer = 'Carol'\n",
    "pizzas = 2\n",
    "print(customer + ' ordered ' + str(pizzas) + ' pizzas.')"
   ]
  },
  {
   "cell_type": "markdown",
   "metadata": {},
   "source": [
    "Given the following variable assignments:\n",
    "\n",
    "```\n",
    "x = 12\n",
    "y = str(14)\n",
    "z = donuts\n",
    "```\n",
    "\n",
    "Predict the output of the following:\n",
    "\n",
    "1. `y + z`\n",
    "2. `x + y`\n",
    "3. `x + int(y)`\n",
    "4. `str(x) + y`\n",
    "\n",
    "Check your answers in the interpreter.\n",
    "\n",
    "### Variable Naming Rules\n",
    "\n",
    "Variable names are case senstive and:\n",
    "\n",
    "1. Can only consist of one \"word\" (no spaces).\n",
    "2. Must begin with a letter or underscore character ('\\_').\n",
    "3. Can only use letters, numbers, and the underscore character.\n",
    "\n",
    "We further recommend using variable names that are meaningful within the context of the script and the research.\n",
    "\n",
    "\n",
    "## Reading Files\n",
    "\n",
    "We can accomplish a lot by assigning variables within our code as demonstrated above, but often we are interested in working with objects and data that exist in other files and directories on our system.\n",
    "\n",
    "When we want read data files into a script, we do so by assigning the content of the file to a variable. This stores the data in memory and lets us perform processes and analyses on the data without changing the content of the source file.\n",
    "\n",
    "There are several ways to read files in Python - many libraries have methods for reading text, Excel and Word documents, PDFs, etc. This morning we're going to demonstrate using the ```read()``` and ```readlines()``` method in the standard library, and the Pandas```read_csv()``` function."
   ]
  },
  {
   "cell_type": "code",
   "execution_count": 23,
   "metadata": {},
   "outputs": [
    {
     "name": "stdout",
     "output_type": "stream",
     "text": [
      "ï»¿BEOWULF.\n",
      "\n",
      "I.\n",
      "\n",
      "THE LIFE AND DEATH OF SCYLD.\n",
      "\n",
      "\n",
      "{The famous race of Spear-Danes.}\n",
      "\n",
      "          Lo! the Spear-Danes' glory through splendid achievements\n",
      "          The folk-kings' former fame we have heard of,\n",
      "          How princes displayed then their prowess-in-battle.\n",
      "\n",
      "{Scyld, their mighty king, in honor of whom they are often called\n",
      "Scyldings. He is the great-grandfather of Hrothgar, so prominent in the\n",
      "poem.}\n",
      "\n",
      "          Oft Scyld the Scefing from scathers in numbers\n",
      "        5 From many a people their mead-benches tore.\n",
      "          Since first he found him friendless and wretched,\n",
      "          The earl had had terror: comfort he got for it,\n",
      "          Waxed 'neath the welkin, world-honor gained,\n",
      "          Till all his neighbors o'er sea were compelled to\n",
      "       10 Bow to his bidding and bring him their tribute:\n",
      "          An excellent atheling! After was borne him\n",
      "\n",
      "{A son is born to him, who receives the name of Beowulf--a name afterwards\n",
      "made so famous by the hero of the poem.}\n",
      "\n",
      "          A son and heir, young in his dwelling,\n",
      "          Whom God-Father sent to solace the people.\n",
      "          He had marked the misery malice had caused them,\n",
      "       15 [1]That reaved of their rulers they wretched had erstwhile[2]\n",
      "          Long been afflicted. The Lord, in requital,\n",
      "          Wielder of Glory, with world-honor blessed him.\n",
      "          Famed was Beowulf, far spread the glory\n",
      "          Of Scyld's great son in the lands of the Danemen.\n"
     ]
    }
   ],
   "source": [
    "# Read unstructured text\n",
    "\n",
    "# One way is to open the whole file as a block\n",
    "file_path = \"./beowulf\" # We can save the path to the file as a variable\n",
    "file_in = open(file_path, \"r\") # Options are 'r', 'w', and 'a' (read, write, append)\n",
    "beowulf_a = file_in.read()\n",
    "file_in.close()\n",
    "print(beowulf_a)"
   ]
  },
  {
   "cell_type": "code",
   "execution_count": 24,
   "metadata": {},
   "outputs": [
    {
     "name": "stdout",
     "output_type": "stream",
     "text": [
      "['ï»¿BEOWULF.\\n', '\\n', 'I.\\n', '\\n', 'THE LIFE AND DEATH OF SCYLD.\\n', '\\n', '\\n', '{The famous race of Spear-Danes.}\\n', '\\n', \"          Lo! the Spear-Danes' glory through splendid achievements\\n\", \"          The folk-kings' former fame we have heard of,\\n\", '          How princes displayed then their prowess-in-battle.\\n', '\\n', '{Scyld, their mighty king, in honor of whom they are often called\\n', 'Scyldings. He is the great-grandfather of Hrothgar, so prominent in the\\n', 'poem.}\\n', '\\n', '          Oft Scyld the Scefing from scathers in numbers\\n', '        5 From many a people their mead-benches tore.\\n', '          Since first he found him friendless and wretched,\\n', '          The earl had had terror: comfort he got for it,\\n', \"          Waxed 'neath the welkin, world-honor gained,\\n\", \"          Till all his neighbors o'er sea were compelled to\\n\", '       10 Bow to his bidding and bring him their tribute:\\n', '          An excellent atheling! After was borne him\\n', '\\n', '{A son is born to him, who receives the name of Beowulf--a name afterwards\\n', 'made so famous by the hero of the poem.}\\n', '\\n', '          A son and heir, young in his dwelling,\\n', '          Whom God-Father sent to solace the people.\\n', '          He had marked the misery malice had caused them,\\n', '       15 [1]That reaved of their rulers they wretched had erstwhile[2]\\n', '          Long been afflicted. The Lord, in requital,\\n', '          Wielder of Glory, with world-honor blessed him.\\n', '          Famed was Beowulf, far spread the glory\\n', \"          Of Scyld's great son in the lands of the Danemen.\"]\n"
     ]
    }
   ],
   "source": [
    "# Another way is to read the file as a list of individual lines\n",
    "\n",
    "with open(file_path, \"r\") as b:\n",
    "    beowulf_b = b.readlines()\n",
    "\n",
    "print(beowulf_b)"
   ]
  },
  {
   "cell_type": "code",
   "execution_count": 25,
   "metadata": {},
   "outputs": [
    {
     "name": "stdout",
     "output_type": "stream",
     "text": [
      "ï»¿BEOWULF.\n",
      "\n",
      "\n",
      "\n",
      "I.\n",
      "\n",
      "\n",
      "\n",
      "THE LIFE AND DEATH OF SCYLD.\n",
      "\n",
      "\n",
      "\n",
      "\n",
      "\n",
      "{The famous race of Spear-Danes.}\n",
      "\n",
      "\n",
      "\n",
      "          Lo! the Spear-Danes' glory through splendid achievements\n",
      "\n",
      "          The folk-kings' former fame we have heard of,\n",
      "\n",
      "          How princes displayed then their prowess-in-battle.\n",
      "\n",
      "\n",
      "\n",
      "{Scyld, their mighty king, in honor of whom they are often called\n",
      "\n",
      "Scyldings. He is the great-grandfather of Hrothgar, so prominent in the\n",
      "\n",
      "poem.}\n",
      "\n",
      "\n",
      "\n",
      "          Oft Scyld the Scefing from scathers in numbers\n",
      "\n",
      "        5 From many a people their mead-benches tore.\n",
      "\n",
      "          Since first he found him friendless and wretched,\n",
      "\n",
      "          The earl had had terror: comfort he got for it,\n",
      "\n",
      "          Waxed 'neath the welkin, world-honor gained,\n",
      "\n",
      "          Till all his neighbors o'er sea were compelled to\n",
      "\n",
      "       10 Bow to his bidding and bring him their tribute:\n",
      "\n",
      "          An excellent atheling! After was borne him\n",
      "\n",
      "\n",
      "\n",
      "{A son is born to him, who receives the name of Beowulf--a name afterwards\n",
      "\n",
      "made so famous by the hero of the poem.}\n",
      "\n",
      "\n",
      "\n",
      "          A son and heir, young in his dwelling,\n",
      "\n",
      "          Whom God-Father sent to solace the people.\n",
      "\n",
      "          He had marked the misery malice had caused them,\n",
      "\n",
      "       15 [1]That reaved of their rulers they wretched had erstwhile[2]\n",
      "\n",
      "          Long been afflicted. The Lord, in requital,\n",
      "\n",
      "          Wielder of Glory, with world-honor blessed him.\n",
      "\n",
      "          Famed was Beowulf, far spread the glory\n",
      "\n",
      "          Of Scyld's great son in the lands of the Danemen.\n"
     ]
    }
   ],
   "source": [
    "# In order to get a similar printout to the first method, we use a for loop\n",
    "# to print line by line - more on for loops below!\n",
    "\n",
    "for l in beowulf_b:\n",
    "    print(l)"
   ]
  },
  {
   "cell_type": "code",
   "execution_count": 31,
   "metadata": {},
   "outputs": [
    {
     "name": "stdout",
     "output_type": "stream",
     "text": [
      "As string: ï\n",
      "As list of lines: ï»¿BEOWULF.\n",
      "\n"
     ]
    }
   ],
   "source": [
    "# We now have two variables with the content of our 'beowulf' file represented using two different data structures.\n",
    "# Why do you think we get the different outputs from the next two statements?\n",
    "\n",
    "# Beowulf text stored as one large string\n",
    "print(\"As string:\", beowulf_a[0])\n",
    "\n",
    "# Beowulf text stored as a list of lines\n",
    "print(\"As list of lines:\", beowulf_b[0])"
   ]
  },
  {
   "cell_type": "code",
   "execution_count": 32,
   "metadata": {},
   "outputs": [],
   "source": [
    "# Read CSV files using the Pandas read_csv method.\n",
    "# Note: Pandas also includes methods for reading Excel.\n",
    "\n",
    "# First we need to import the pandas library\n",
    "import pandas as pd\n",
    "\n",
    "# Create a variable to hold the path to the file\n",
    "fpath = \"aaj1945_DataS1_Egg_shape_by_species_v2.csv\"\n",
    "egg_data = pd.read_csv(fpath)"
   ]
  },
  {
   "cell_type": "code",
   "execution_count": 34,
   "metadata": {},
   "outputs": [
    {
     "name": "stdout",
     "output_type": "stream",
     "text": [
      "<class 'pandas.core.frame.DataFrame'>\n",
      "RangeIndex: 1400 entries, 0 to 1399\n",
      "Data columns (total 9 columns):\n",
      " #   Column            Non-Null Count  Dtype  \n",
      "---  ------            --------------  -----  \n",
      " 0   Order             1400 non-null   object \n",
      " 1   Family            1400 non-null   object \n",
      " 2   MVZDatabase       1400 non-null   object \n",
      " 3   Species           1396 non-null   object \n",
      " 4   Asymmetry         1400 non-null   float64\n",
      " 5   Ellipticity       1400 non-null   float64\n",
      " 6   AvgLength (cm)    1400 non-null   float64\n",
      " 7   Number of images  1400 non-null   int64  \n",
      " 8   Number of eggs    1400 non-null   int64  \n",
      "dtypes: float64(3), int64(2), object(4)\n",
      "memory usage: 98.6+ KB\n",
      "None\n"
     ]
    }
   ],
   "source": [
    "# We can get all kinds of info about the dataset\n",
    "\n",
    "# info() provides an overview of the structure\n",
    "print(egg_data.info())"
   ]
  },
  {
   "cell_type": "code",
   "execution_count": 47,
   "metadata": {},
   "outputs": [
    {
     "data": {
      "text/html": [
       "<div>\n",
       "<style scoped>\n",
       "    .dataframe tbody tr th:only-of-type {\n",
       "        vertical-align: middle;\n",
       "    }\n",
       "\n",
       "    .dataframe tbody tr th {\n",
       "        vertical-align: top;\n",
       "    }\n",
       "\n",
       "    .dataframe thead th {\n",
       "        text-align: right;\n",
       "    }\n",
       "</style>\n",
       "<table border=\"1\" class=\"dataframe\">\n",
       "  <thead>\n",
       "    <tr style=\"text-align: right;\">\n",
       "      <th></th>\n",
       "      <th>Order</th>\n",
       "      <th>Family</th>\n",
       "      <th>MVZDatabase</th>\n",
       "      <th>Species</th>\n",
       "      <th>Asymmetry</th>\n",
       "      <th>Ellipticity</th>\n",
       "      <th>AvgLength (cm)</th>\n",
       "      <th>Number of images</th>\n",
       "      <th>Number of eggs</th>\n",
       "    </tr>\n",
       "  </thead>\n",
       "  <tbody>\n",
       "    <tr>\n",
       "      <th>0</th>\n",
       "      <td>ACCIPITRIFORMES</td>\n",
       "      <td>Accipitridae</td>\n",
       "      <td>Accipiter badius</td>\n",
       "      <td>Accipiter badius</td>\n",
       "      <td>0.1378</td>\n",
       "      <td>0.3435</td>\n",
       "      <td>3.8642</td>\n",
       "      <td>1</td>\n",
       "      <td>2</td>\n",
       "    </tr>\n",
       "    <tr>\n",
       "      <th>1</th>\n",
       "      <td>ACCIPITRIFORMES</td>\n",
       "      <td>Accipitridae</td>\n",
       "      <td>Accipiter cooperii</td>\n",
       "      <td>Accipiter cooperii</td>\n",
       "      <td>0.0937</td>\n",
       "      <td>0.2715</td>\n",
       "      <td>4.9008</td>\n",
       "      <td>27</td>\n",
       "      <td>103</td>\n",
       "    </tr>\n",
       "    <tr>\n",
       "      <th>2</th>\n",
       "      <td>ACCIPITRIFORMES</td>\n",
       "      <td>Accipitridae</td>\n",
       "      <td>Accipiter gentilis</td>\n",
       "      <td>Accipiter gentilis</td>\n",
       "      <td>0.1114</td>\n",
       "      <td>0.3186</td>\n",
       "      <td>5.9863</td>\n",
       "      <td>7</td>\n",
       "      <td>18</td>\n",
       "    </tr>\n",
       "    <tr>\n",
       "      <th>3</th>\n",
       "      <td>ACCIPITRIFORMES</td>\n",
       "      <td>Accipitridae</td>\n",
       "      <td>Accipiter nisus</td>\n",
       "      <td>Accipiter nisus</td>\n",
       "      <td>0.0808</td>\n",
       "      <td>0.2391</td>\n",
       "      <td>4.0355</td>\n",
       "      <td>13</td>\n",
       "      <td>61</td>\n",
       "    </tr>\n",
       "    <tr>\n",
       "      <th>4</th>\n",
       "      <td>ACCIPITRIFORMES</td>\n",
       "      <td>Accipitridae</td>\n",
       "      <td>Accipiter striatus</td>\n",
       "      <td>Accipiter striatus</td>\n",
       "      <td>0.0749</td>\n",
       "      <td>0.2543</td>\n",
       "      <td>3.8700</td>\n",
       "      <td>15</td>\n",
       "      <td>57</td>\n",
       "    </tr>\n",
       "  </tbody>\n",
       "</table>\n",
       "</div>"
      ],
      "text/plain": [
       "             Order        Family         MVZDatabase             Species  \\\n",
       "0  ACCIPITRIFORMES  Accipitridae    Accipiter badius    Accipiter badius   \n",
       "1  ACCIPITRIFORMES  Accipitridae  Accipiter cooperii  Accipiter cooperii   \n",
       "2  ACCIPITRIFORMES  Accipitridae  Accipiter gentilis  Accipiter gentilis   \n",
       "3  ACCIPITRIFORMES  Accipitridae     Accipiter nisus     Accipiter nisus   \n",
       "4  ACCIPITRIFORMES  Accipitridae  Accipiter striatus  Accipiter striatus   \n",
       "\n",
       "   Asymmetry  Ellipticity  AvgLength (cm)  Number of images  Number of eggs  \n",
       "0     0.1378       0.3435          3.8642                 1               2  \n",
       "1     0.0937       0.2715          4.9008                27             103  \n",
       "2     0.1114       0.3186          5.9863                 7              18  \n",
       "3     0.0808       0.2391          4.0355                13              61  \n",
       "4     0.0749       0.2543          3.8700                15              57  "
      ]
     },
     "execution_count": 47,
     "metadata": {},
     "output_type": "execute_result"
    }
   ],
   "source": [
    "# Look at the first five rows\n",
    "egg_data.head()"
   ]
  },
  {
   "cell_type": "code",
   "execution_count": 39,
   "metadata": {},
   "outputs": [
    {
     "name": "stdout",
     "output_type": "stream",
     "text": [
      "['Order' 'Family' 'MVZDatabase' 'Species' 'Asymmetry' 'Ellipticity'\n",
      " 'AvgLength (cm)' 'Number of images' 'Number of eggs']\n"
     ]
    }
   ],
   "source": [
    "# Names of columns\n",
    "print(egg_data.columns.values)"
   ]
  },
  {
   "cell_type": "code",
   "execution_count": 42,
   "metadata": {},
   "outputs": [
    {
     "name": "stdout",
     "output_type": "stream",
     "text": [
      "(1400, 9)\n"
     ]
    }
   ],
   "source": [
    "# Dimensions (number of rows and columns)\n",
    "print(egg_data.shape)"
   ]
  },
  {
   "cell_type": "code",
   "execution_count": 44,
   "metadata": {},
   "outputs": [
    {
     "name": "stdout",
     "output_type": "stream",
     "text": [
      "count    1400.000000\n",
      "mean       35.125000\n",
      "std        85.790347\n",
      "min         1.000000\n",
      "25%         3.000000\n",
      "50%         8.000000\n",
      "75%        26.250000\n",
      "max      1139.000000\n",
      "Name: Number of eggs, dtype: float64\n"
     ]
    }
   ],
   "source": [
    "# And much more! But as a final example we can perform operations on the data.\n",
    "# Descriptive statistics on the \"Number of eggs\" column\n",
    "print(egg_data[\"Number of eggs\"].describe())"
   ]
  },
  {
   "cell_type": "code",
   "execution_count": 45,
   "metadata": {},
   "outputs": [
    {
     "name": "stdout",
     "output_type": "stream",
     "text": [
      "         Asymmetry  Ellipticity  AvgLength (cm)  Number of images  \\\n",
      "count  1400.000000  1400.000000     1400.000000       1400.000000   \n",
      "mean      0.148230     0.384384        3.426853          9.320714   \n",
      "std       0.071228     0.089594        2.161549         20.747693   \n",
      "min       0.001400     0.096700        1.196000          1.000000   \n",
      "25%       0.104800     0.325775        1.958925          1.000000   \n",
      "50%       0.141750     0.377400        2.581150          2.000000   \n",
      "75%       0.184825     0.435075        4.323650          8.000000   \n",
      "max       0.484700     0.723700       23.870000        300.000000   \n",
      "\n",
      "       Number of eggs  \n",
      "count     1400.000000  \n",
      "mean        35.125000  \n",
      "std         85.790347  \n",
      "min          1.000000  \n",
      "25%          3.000000  \n",
      "50%          8.000000  \n",
      "75%         26.250000  \n",
      "max       1139.000000  \n"
     ]
    }
   ],
   "source": [
    "# Or all of the columns in whole table with numeric data types:\n",
    "print(egg_data.describe())"
   ]
  },
  {
   "cell_type": "markdown",
   "metadata": {},
   "source": [
    "### Structure\n",
    "\n",
    "Now that we have practiced assigning variables and reading information from files, we will have a look at concepts that are key to developing processes to use and analyze this information.\n",
    "\n",
    "#### Blocks\n",
    "\n",
    "The structure of a Python program is pretty simple:\n",
    "Blocks of code are defined using indentation. Code that is at a lower level of indentation is not considerd part of a block. Indentation can be defined using spaces or tabs (spaces are recommended by the style guide), but be consistent (and prepared to defend your choice). As we will see, code blocks define the boundaries of sets of commands that fit within a given section of code. This indentation model for defining blocks of code significantly increases the readabiltiy of Python code.\n",
    "\n",
    "For example:\n",
    "\n",
    "    >>>a = 5\n",
    "    >>>b = 10\n",
    "    >>>while b > a:\n",
    "    ...    print(\"b=\"+str(b))\n",
    "    ...    b = b-1\n",
    "    >>>print(\"I'm outside the block\")"
   ]
  },
  {
   "cell_type": "markdown",
   "metadata": {},
   "source": [
    "#### Comments & Documentation\n",
    "\n",
    "You can (and should) also include documentation and comments in the code your write - both for yourself, and potential future users (including yourself). Comments are pretty much any content on a line that follows a `#` symbol (unless it is between quotation marks. For example:\n",
    "\n",
    "    >>># we're going to do some math now\n",
    "    >>>yae = 5                   # the number of votes in favor\n",
    "    >>>nay = 10                  # the number of votes against\n",
    "    >>>proportion = yae / nay    # the proportion of votes in favor\n",
    "    >>>print(proportion)\n"
   ]
  },
  {
   "cell_type": "markdown",
   "metadata": {},
   "source": [
    "When you are creating functions or classes (a bit more on what these are in a bit) you can also create what are called *doc strings* that provide a defined location for content that is used to generate the `help()` information highlighted above and is also used by other systems for the automatic generation of documentation for packages that contain these *doc strings*. Creating a *doc string* is simple - just create a single or multi-line text string (more on this soon) that starts on the first indented line following the start of the definition of the function or class. For example:  \n",
    "\n",
    "    >>># we're going to create a documented function and then access the information about the function\n",
    "    >>>def doc_demo(some_text=\"Ill skewer yer gizzard, ye salty sea bass\"):\n",
    "    ...    \"\"\"This function takes the provided text and prints it out in Pirate\n",
    "    ...    \n",
    "    ...    If a string is not provided for `some_text` a default message will be displayed\n",
    "    ...    \"\"\"\n",
    "    ...    out_string = \"Ahoy Matey. \" + some_text\n",
    "    ...    print(out_string)\n",
    "    >>>help(doc_demo)\n",
    "    >>>doc_demo()\n",
    "    >>>doc_demo(\"Sail ho!\")"
   ]
  },
  {
   "cell_type": "markdown",
   "metadata": {},
   "source": [
    "### Standard Objects\n",
    "\n",
    "Any programming language has at its foundation a collection of *types* or in Python's terminology *objects*. The standard objects of Python consist of the following:\n",
    "\n",
    "* **Numbers** - integer, floating point, complex, and multiple-base defined numeric values\n",
    "* **Strings** - **immutable** strings of characters, numbers, and symbols that are bounded by single- or double-quotes\n",
    "* **Lists** - an ordered collection of objects that is bounded by square-brackets - `[]`. Elements in lists are extracted or referenced by their position in the list. For example, `my_list[0]` refers to the first item in the list, `my_list[5]` the sixth, and `my_list[-1]` to the last item in the list. \n",
    "* **Dictionaries** -  an unordered collection of objects that are referenced by *keys* that allow for referring to those objexts by reference to those keys. Dictionaryies are bounded by curley-brackets - `{}` with each element of the dictionary consisting of a *key* (string) and a *value* (object) separated by a colon `:`. Elements of a dictionary are extracted or referenced using their keys. for example:\n",
    "\n",
    "        my_dict = {\"key1\":\"value1\", \"key2\":36, \"key3\":[1,2,3]}\n",
    "        my_dict['key1'] returns \"value1\"\n",
    "        my_dict['key3'] returns [1,2,3]\n",
    "\n",
    "* **Tuples** - **immutable** lists that are bounded by parentheses = `()`. Referencing elements in a tuple is the same as referencing elements in a list above. \n",
    "* **Files** - objects that represent external files on the file system. Programs can interact with (e.g. read, write, append) external files through their representative file objects in the program.\n",
    "* **Sets** - unordered, collections of **immutable** objects (i.e. ints, floats, strings, and tuples) where membership in the set and uniqueness within the set are defining characteristics of the member objects. Sets are created using the `set` function on a sequence of objects. A specialized list of operators on sets allow for identifying *union*, *intersection*, and *difference* (among others) between sets. \n",
    "* **Other core types** - Booleans, types, `None`\n",
    "* **Program unit types** - *functions*, *modules*, and *classes* for example\n",
    "* **Implementation-related types** (not covered in this workshop)\n",
    "\n",
    "These objects have their own sets of related methods (as we saw in the `help()` examples above) that enable their creation, and operations upon them."
   ]
  },
  {
   "cell_type": "code",
   "execution_count": 45,
   "metadata": {},
   "outputs": [
    {
     "data": {
      "text/plain": [
       "'121527'"
      ]
     },
     "execution_count": 45,
     "metadata": {},
     "output_type": "execute_result"
    }
   ],
   "source": [
    "# Fun with types\n",
    "\n",
    "this = 12\n",
    "that = 15\n",
    "the_other = \"27\"\n",
    "my_stuff = [this,that,the_other,[\"a\",\"b\",\"c\",4]]\n",
    "more_stuff = {\n",
    "    \"item1\": this, \n",
    "    \"item2\": that, \n",
    "    \"item3\": the_other, \n",
    "    \"item4\": my_stuff\n",
    "}\n",
    "this + that\n",
    "\n",
    "# this won't work ...\n",
    "# this + that + the_other\n",
    "\n",
    "# ... but this will ...\n",
    "this + that + int(the_other)\n",
    "\n",
    "# ...and this too\n",
    "str(this) + str(that) + the_other"
   ]
  },
  {
   "cell_type": "markdown",
   "metadata": {},
   "source": [
    "## Lists\n",
    "\n",
    "<https://docs.python.org/3/library/stdtypes.html?highlight=lists#list>\n",
    "\n",
    "Lists are a type of collection in Python. Lists allow us to store sequences of items that are typically but not always similar. All of the following lists are legal in Python:"
   ]
  },
  {
   "cell_type": "code",
   "execution_count": 46,
   "metadata": {},
   "outputs": [],
   "source": [
    "# Separate list items with commas!\n",
    "\n",
    "number_list = [1, 2, 3, 4, 5]\n",
    "string_list = ['apples', 'oranges', 'pears', 'grapes', 'pineapples']\n",
    "combined_list = [1, 2, 'oranges', 3.14, 'peaches', 'grapes', 99.19876]\n",
    "\n",
    "# Nested lists - lists of lists - are allowed.\n",
    "\n",
    "list_of_lists = [[1, 2, 3], ['oranges', 'grapes', 8], [['small list'], ['bigger', 'list', 55], ['url_1', 'url_2']]]"
   ]
  },
  {
   "cell_type": "markdown",
   "metadata": {},
   "source": [
    "There are multiple ways to create a list:"
   ]
  },
  {
   "cell_type": "code",
   "execution_count": 47,
   "metadata": {},
   "outputs": [],
   "source": [
    "# Create an empty list\n",
    "\n",
    "empty_list = []\n",
    "\n",
    "# As we did above, by using square brackets around a comma-separated sequence of items\n",
    "\n",
    "new_list = [1, 2, 3]\n",
    "\n",
    "# Using the type constructor\n",
    "\n",
    "constructed_list = list('purple')\n",
    "\n",
    "# Using a list comprehension\n",
    "\n",
    "result_list = [i for i in range(1, 20)]"
   ]
  },
  {
   "cell_type": "markdown",
   "metadata": {},
   "source": [
    "We can inspect our lists:"
   ]
  },
  {
   "cell_type": "code",
   "execution_count": 48,
   "metadata": {},
   "outputs": [
    {
     "data": {
      "text/plain": [
       "[]"
      ]
     },
     "execution_count": 48,
     "metadata": {},
     "output_type": "execute_result"
    }
   ],
   "source": [
    "empty_list"
   ]
  },
  {
   "cell_type": "code",
   "execution_count": 49,
   "metadata": {},
   "outputs": [
    {
     "data": {
      "text/plain": [
       "[1, 2, 3]"
      ]
     },
     "execution_count": 49,
     "metadata": {},
     "output_type": "execute_result"
    }
   ],
   "source": [
    "new_list"
   ]
  },
  {
   "cell_type": "code",
   "execution_count": 50,
   "metadata": {},
   "outputs": [
    {
     "data": {
      "text/plain": [
       "[1, 2, 3, 4, 5, 6, 7, 8, 9, 10, 11, 12, 13, 14, 15, 16, 17, 18, 19]"
      ]
     },
     "execution_count": 50,
     "metadata": {},
     "output_type": "execute_result"
    }
   ],
   "source": [
    "result_list"
   ]
  },
  {
   "cell_type": "code",
   "execution_count": 51,
   "metadata": {},
   "outputs": [
    {
     "data": {
      "text/plain": [
       "['p', 'u', 'r', 'p', 'l', 'e']"
      ]
     },
     "execution_count": 51,
     "metadata": {},
     "output_type": "execute_result"
    }
   ],
   "source": [
    "constructed_list"
   ]
  },
  {
   "cell_type": "markdown",
   "metadata": {},
   "source": [
    "The above output for `typed_list` may seem odd. Referring to the documentation, we see that the argument to the type constructor is an _iterable_, which according to the documentation is \"An object capable of returning its members one at a time.\" In our construtor statement above\n",
    "\n",
    "```\n",
    "# Using the type constructor\n",
    "\n",
    "constructed_list = list('purple')\n",
    "```\n",
    "\n",
    "the word 'purple' is the object - in this case a word - that when used to construct a list returns its members (individual letters) one at a time.\n",
    "\n",
    "Compare the outputs below:"
   ]
  },
  {
   "cell_type": "code",
   "execution_count": 52,
   "metadata": {},
   "outputs": [
    {
     "ename": "TypeError",
     "evalue": "'int' object is not iterable",
     "output_type": "error",
     "traceback": [
      "\u001b[0;31m---------------------------------------------------------------------------\u001b[0m",
      "\u001b[0;31mTypeError\u001b[0m                                 Traceback (most recent call last)",
      "\u001b[0;32m<ipython-input-52-c2e9f559c5ec>\u001b[0m in \u001b[0;36m<module>\u001b[0;34m()\u001b[0m\n\u001b[0;32m----> 1\u001b[0;31m \u001b[0mconstructed_list_int\u001b[0m \u001b[0;34m=\u001b[0m \u001b[0mlist\u001b[0m\u001b[0;34m(\u001b[0m\u001b[0;36m123\u001b[0m\u001b[0;34m)\u001b[0m\u001b[0;34m\u001b[0m\u001b[0m\n\u001b[0m",
      "\u001b[0;31mTypeError\u001b[0m: 'int' object is not iterable"
     ]
    }
   ],
   "source": [
    "constructed_list_int = list(123)"
   ]
  },
  {
   "cell_type": "code",
   "execution_count": 53,
   "metadata": {},
   "outputs": [
    {
     "data": {
      "text/plain": [
       "['1', '2', '3']"
      ]
     },
     "execution_count": 53,
     "metadata": {},
     "output_type": "execute_result"
    }
   ],
   "source": [
    "constructed_list_str = list('123')\n",
    "constructed_list_str"
   ]
  },
  {
   "cell_type": "markdown",
   "metadata": {},
   "source": [
    "Lists in Python are:\n",
    "\n",
    "* mutable - the list and list items can be changed\n",
    "* ordered - list items keep the same \"place\" in the list\n",
    "\n",
    "_Ordered_ here does not mean sorted. The list below is printed with the numbers in the order we added them to the list, not in numeric order:"
   ]
  },
  {
   "cell_type": "code",
   "execution_count": 54,
   "metadata": {},
   "outputs": [
    {
     "data": {
      "text/plain": [
       "[3, 2, 7, 1, 19, 0]"
      ]
     },
     "execution_count": 54,
     "metadata": {},
     "output_type": "execute_result"
    }
   ],
   "source": [
    "ordered = [3, 2, 7, 1, 19, 0]\n",
    "ordered"
   ]
  },
  {
   "cell_type": "code",
   "execution_count": 55,
   "metadata": {},
   "outputs": [
    {
     "data": {
      "text/plain": [
       "[0, 1, 2, 3, 7, 19]"
      ]
     },
     "execution_count": 55,
     "metadata": {},
     "output_type": "execute_result"
    }
   ],
   "source": [
    "# There is a 'sort' method for sorting list items as needed:\n",
    "\n",
    "ordered.sort()\n",
    "ordered"
   ]
  },
  {
   "cell_type": "markdown",
   "metadata": {},
   "source": [
    "Info on additional list methods is available at <https://docs.python.org/3/library/stdtypes.html?highlight=lists#mutable-sequence-types>\n",
    "\n",
    "Because lists are ordered, it is possible to access list items by referencing their positions. Note that the position of the first item in a list is 0 (zero), not 1!"
   ]
  },
  {
   "cell_type": "code",
   "execution_count": 56,
   "metadata": {},
   "outputs": [],
   "source": [
    "string_list = ['apples', 'oranges', 'pears', 'grapes', 'pineapples']"
   ]
  },
  {
   "cell_type": "code",
   "execution_count": 57,
   "metadata": {},
   "outputs": [
    {
     "data": {
      "text/plain": [
       "'apples'"
      ]
     },
     "execution_count": 57,
     "metadata": {},
     "output_type": "execute_result"
    }
   ],
   "source": [
    "string_list[0]"
   ]
  },
  {
   "cell_type": "code",
   "execution_count": 58,
   "metadata": {},
   "outputs": [
    {
     "data": {
      "text/plain": [
       "['grapes', 'pineapples']"
      ]
     },
     "execution_count": 58,
     "metadata": {},
     "output_type": "execute_result"
    }
   ],
   "source": [
    "# We can use positions to 'slice' or selection sections of a list:\n",
    "\n",
    "string_list[3:]"
   ]
  },
  {
   "cell_type": "code",
   "execution_count": 59,
   "metadata": {},
   "outputs": [
    {
     "data": {
      "text/plain": [
       "['apples', 'oranges', 'pears']"
      ]
     },
     "execution_count": 59,
     "metadata": {},
     "output_type": "execute_result"
    }
   ],
   "source": [
    "string_list[:3]"
   ]
  },
  {
   "cell_type": "code",
   "execution_count": 60,
   "metadata": {},
   "outputs": [
    {
     "data": {
      "text/plain": [
       "['oranges', 'pears', 'grapes']"
      ]
     },
     "execution_count": 60,
     "metadata": {},
     "output_type": "execute_result"
    }
   ],
   "source": [
    "string_list[1:4]"
   ]
  },
  {
   "cell_type": "code",
   "execution_count": 61,
   "metadata": {},
   "outputs": [
    {
     "data": {
      "text/plain": [
       "2"
      ]
     },
     "execution_count": 61,
     "metadata": {},
     "output_type": "execute_result"
    }
   ],
   "source": [
    "# If we don't know the position of a list item, we can use the 'index()' method to find out.\n",
    "# Note that in the case of duplicate list items, this only returns the position of the first one:\n",
    "\n",
    "string_list.index('pears')"
   ]
  },
  {
   "cell_type": "code",
   "execution_count": 62,
   "metadata": {},
   "outputs": [],
   "source": [
    "string_list.append('oranges')"
   ]
  },
  {
   "cell_type": "code",
   "execution_count": 63,
   "metadata": {},
   "outputs": [
    {
     "data": {
      "text/plain": [
       "['apples', 'oranges', 'pears', 'grapes', 'pineapples', 'oranges']"
      ]
     },
     "execution_count": 63,
     "metadata": {},
     "output_type": "execute_result"
    }
   ],
   "source": [
    "string_list"
   ]
  },
  {
   "cell_type": "code",
   "execution_count": 64,
   "metadata": {},
   "outputs": [
    {
     "data": {
      "text/plain": [
       "1"
      ]
     },
     "execution_count": 64,
     "metadata": {},
     "output_type": "execute_result"
    }
   ],
   "source": [
    "string_list.index('oranges')"
   ]
  },
  {
   "cell_type": "code",
   "execution_count": 65,
   "metadata": {},
   "outputs": [
    {
     "name": "stdout",
     "output_type": "stream",
     "text": [
      "54\n",
      "121527a\n",
      "54\n",
      "121527\n"
     ]
    }
   ],
   "source": [
    "# one more time with lists and dictionaries\n",
    "list_ex1 = my_stuff[0] + my_stuff[1] + int(my_stuff[2])\n",
    "print(list_ex1)\n",
    "\n",
    "list_ex2 = (\n",
    "    str(my_stuff[0]) \n",
    "    + str(my_stuff[1]) \n",
    "    + my_stuff[2] \n",
    "    + my_stuff[3][0]\n",
    ")\n",
    "print(list_ex2)\n",
    "\n",
    "dict_ex1 = (\n",
    "    more_stuff['item1']\n",
    "    + more_stuff['item2']\n",
    "    + int(more_stuff['item3'])\n",
    ")\n",
    "print(dict_ex1)\n",
    "\n",
    "dict_ex2 = (\n",
    "    str(more_stuff['item1'])\n",
    "    + str(more_stuff['item2'])\n",
    "    + more_stuff['item3']\n",
    ")\n",
    "print(dict_ex2)\n",
    "\n"
   ]
  },
  {
   "cell_type": "code",
   "execution_count": 66,
   "metadata": {},
   "outputs": [],
   "source": [
    "# Now try it yourself ...\n",
    "# print out the phrase \"The answer: 42\" using the following \n",
    "# variables and one or more of your own and the 'print()' function\n",
    "# (remember spaces are characters as well)\n",
    "\n",
    "start = \"The\"\n",
    "answer = 42\n"
   ]
  },
  {
   "cell_type": "markdown",
   "metadata": {},
   "source": [
    "### Operators\n",
    "\n",
    "If *objects* are the nouns, operators are the verbs of a programming language. We've already seen examples of some operators: *assignment* with the `=` operator, *arithmetic* addition *and* string concatenation with the `+` operator, *arithmetic* division with the `/` and `-` operators, and *comparison* with the `>` operator. Different object types have different operators that may be used with them. The [Python Documentation](https://docs.python.org/3/library/stdtypes.html) provides detailed information about the operators and their functions as they relate to the standard object types described above. \n",
    "\n",
    "###  Flow Control and Logical Tests\n",
    "\n",
    "Flow control commands allow for the dynamic execution of parts of the program based upon logical conditions, or processing of objects within an *iterable* object (like a list or dictionary). Some key flow control commands in python include:\n",
    "\n",
    "* `while-else` loops that continue to run until the termination test is `False` or a `break` command is issued within the loop:\n",
    "\n",
    "        done = False\n",
    "        i = 0\n",
    "        while not done:\n",
    "            i = i+1\n",
    "            if i > 5: done = True\n",
    "\n",
    "* `if-elif-else` statements defined alternative blocks of code that are executed if a test condition is met:\n",
    "\n",
    "        do_something = \"what?\"\n",
    "        if do_something == \"what?\":\n",
    "            print(do_something)\n",
    "        elif do_something == \"where?\":\n",
    "            print(\"Where are we going?\")\n",
    "        else:\n",
    "            print(\"I guess nothing is going to happen\")\n",
    "            \n",
    "* `for` loops allow for repeated execution of a block of code for each item in a python sequence such as a list or dictionary. For example:\n",
    "\n",
    "        my_stuff = ['a', 'b', 'c']\n",
    "        for item in my_stuff:\n",
    "            print(item)\n",
    "        \n",
    "        a\n",
    "        b\n",
    "        c\n"
   ]
  }
 ],
 "metadata": {
  "kernelspec": {
   "display_name": "Python 3",
   "language": "python",
   "name": "python3"
  },
  "language_info": {
   "codemirror_mode": {
    "name": "ipython",
    "version": 3
   },
   "file_extension": ".py",
   "mimetype": "text/x-python",
   "name": "python",
   "nbconvert_exporter": "python",
   "pygments_lexer": "ipython3",
   "version": "3.8.8"
  }
 },
 "nbformat": 4,
 "nbformat_minor": 2
}
