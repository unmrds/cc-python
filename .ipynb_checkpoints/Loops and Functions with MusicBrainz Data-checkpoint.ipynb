{
 "cells": [
  {
   "cell_type": "markdown",
   "metadata": {},
   "source": [
    "# Python 2: Loops & Functions with MusicBrainz Data\n",
    "\n",
    "First, install the musicbrainz API wrapper. This only needs to be done one time:"
   ]
  },
  {
   "cell_type": "code",
   "execution_count": 40,
   "metadata": {},
   "outputs": [],
   "source": [
    "#!pip install musicbrainzngs"
   ]
  },
  {
   "cell_type": "markdown",
   "metadata": {},
   "source": [
    "## First: A Review of Lists and Dictionaries"
   ]
  },
  {
   "cell_type": "code",
   "execution_count": 41,
   "metadata": {},
   "outputs": [
    {
     "name": "stdout",
     "output_type": "stream",
     "text": [
      "[] <class 'list'>\n",
      "['avengers', 'frozen', 'cats']\n",
      "['j', 'u', 'm', 'a', 'n', 'j', 'i']\n",
      "[2, 4, 6, 8, 10, 12, 14, 16, 18]\n"
     ]
    }
   ],
   "source": [
    "# A list is a mutable, ordered collection\n",
    "# Collections can be heterogenous: integers, strings, other data structures, etc.\n",
    "#    can all be added to a single list.\n",
    "\n",
    "# Creating lists:\n",
    "\n",
    "# Initialize an empty list:\n",
    "my_movies = []\n",
    "print(my_movies, type(my_movies))\n",
    "\n",
    "# Initialize a list with one or more objects in it\n",
    "unwatched = ['avengers', 'frozen', 'cats']\n",
    "print(unwatched)\n",
    "\n",
    "# Use the list() type constructor\n",
    "# Note that the constructed \"list\" may not be what we expect \n",
    "watched = list('jumanji')\n",
    "print(watched)\n",
    "\n",
    "# Use list comprehension\n",
    "even_numbers = [i for i in range(2, 20, 2)]\n",
    "print(even_numbers)"
   ]
  },
  {
   "cell_type": "code",
   "execution_count": 42,
   "metadata": {},
   "outputs": [
    {
     "name": "stdout",
     "output_type": "stream",
     "text": [
      "7\n"
     ]
    }
   ],
   "source": [
    "# We can use index numbers to select and slice from lists\n",
    "print(len(watched))"
   ]
  },
  {
   "cell_type": "code",
   "execution_count": 43,
   "metadata": {},
   "outputs": [
    {
     "data": {
      "text/plain": [
       "'j'"
      ]
     },
     "execution_count": 43,
     "metadata": {},
     "output_type": "execute_result"
    }
   ],
   "source": [
    "# The first object is a list has index/position 0\n",
    "watched[0]"
   ]
  },
  {
   "cell_type": "code",
   "execution_count": 44,
   "metadata": {},
   "outputs": [
    {
     "ename": "IndexError",
     "evalue": "list index out of range",
     "output_type": "error",
     "traceback": [
      "\u001b[0;31m---------------------------------------------------------------------------\u001b[0m",
      "\u001b[0;31mIndexError\u001b[0m                                Traceback (most recent call last)",
      "\u001b[0;32m<ipython-input-44-96938fcea399>\u001b[0m in \u001b[0;36m<module>\u001b[0;34m\u001b[0m\n\u001b[1;32m      1\u001b[0m \u001b[0;31m# So even though the list is 7 objects long, if we try to select the object in position 7\u001b[0m\u001b[0;34m\u001b[0m\u001b[0;34m\u001b[0m\u001b[0;34m\u001b[0m\u001b[0m\n\u001b[1;32m      2\u001b[0m \u001b[0;31m#  we will get an index out of range error\u001b[0m\u001b[0;34m\u001b[0m\u001b[0;34m\u001b[0m\u001b[0;34m\u001b[0m\u001b[0m\n\u001b[0;32m----> 3\u001b[0;31m \u001b[0mwatched\u001b[0m\u001b[0;34m[\u001b[0m\u001b[0;36m7\u001b[0m\u001b[0;34m]\u001b[0m\u001b[0;34m\u001b[0m\u001b[0;34m\u001b[0m\u001b[0m\n\u001b[0m",
      "\u001b[0;31mIndexError\u001b[0m: list index out of range"
     ]
    }
   ],
   "source": [
    "# So even though the list is 7 objects long, if we try to select the object in position 7\n",
    "#  we will get an index out of range error\n",
    "watched[7]"
   ]
  },
  {
   "cell_type": "code",
   "execution_count": 45,
   "metadata": {},
   "outputs": [
    {
     "data": {
      "text/plain": [
       "'i'"
      ]
     },
     "execution_count": 45,
     "metadata": {},
     "output_type": "execute_result"
    }
   ],
   "source": [
    "watched[6]"
   ]
  },
  {
   "cell_type": "code",
   "execution_count": 46,
   "metadata": {},
   "outputs": [
    {
     "data": {
      "text/plain": [
       "['j', 'u', 'm']"
      ]
     },
     "execution_count": 46,
     "metadata": {},
     "output_type": "execute_result"
    }
   ],
   "source": [
    "# We can slice out subsections using start and finish index positions separated by a colon\n",
    "# Note the \"finish\" position should be read as \"up to but not including\" the object at that position\n",
    "watched[0:3]"
   ]
  },
  {
   "cell_type": "code",
   "execution_count": 47,
   "metadata": {},
   "outputs": [
    {
     "data": {
      "text/plain": [
       "['j', 'u', 'm']"
      ]
     },
     "execution_count": 47,
     "metadata": {},
     "output_type": "execute_result"
    }
   ],
   "source": [
    "# Same output as above\n",
    "watched[:3]"
   ]
  },
  {
   "cell_type": "code",
   "execution_count": 48,
   "metadata": {},
   "outputs": [
    {
     "data": {
      "text/plain": [
       "['n', 'j', 'i']"
      ]
     },
     "execution_count": 48,
     "metadata": {},
     "output_type": "execute_result"
    }
   ],
   "source": [
    "watched[4:7]"
   ]
  },
  {
   "cell_type": "code",
   "execution_count": 49,
   "metadata": {},
   "outputs": [
    {
     "data": {
      "text/plain": [
       "['n', 'j', 'i']"
      ]
     },
     "execution_count": 49,
     "metadata": {},
     "output_type": "execute_result"
    }
   ],
   "source": [
    "# Same output as above\n",
    "watched[4:]"
   ]
  },
  {
   "cell_type": "code",
   "execution_count": 50,
   "metadata": {},
   "outputs": [
    {
     "name": "stdout",
     "output_type": "stream",
     "text": [
      "['j', 'u', 'm', 'a', 'n', 'j', 'i']\n",
      "['jumanji', 'u', 'm', 'a', 'n', 'j', 'i']\n"
     ]
    }
   ],
   "source": [
    "# Lists are mutable - we can edit, add, remove objects\n",
    "print(watched)\n",
    "watched[0] = 'jumanji'\n",
    "print(watched)"
   ]
  },
  {
   "cell_type": "code",
   "execution_count": 51,
   "metadata": {},
   "outputs": [
    {
     "name": "stdout",
     "output_type": "stream",
     "text": [
      "['jumanji', 'm', 'a', 'n', 'j', 'i']\n"
     ]
    }
   ],
   "source": [
    "watched.remove('u')\n",
    "print(watched)"
   ]
  },
  {
   "cell_type": "code",
   "execution_count": 52,
   "metadata": {},
   "outputs": [
    {
     "name": "stdout",
     "output_type": "stream",
     "text": [
      "['jumanji']\n"
     ]
    }
   ],
   "source": [
    "# There are other ways we can fix the \"watched\" list, but \n",
    "# in this case it is most efficient to reassign the \"watched\" variable as a new list\n",
    "watched = [watched[0]]\n",
    "print(watched)"
   ]
  },
  {
   "cell_type": "code",
   "execution_count": 53,
   "metadata": {},
   "outputs": [
    {
     "name": "stdout",
     "output_type": "stream",
     "text": [
      "[]\n",
      "[['avengers', 'frozen', 'cats']]\n",
      "[['avengers', 'frozen', 'cats'], ['jumanji']]\n"
     ]
    }
   ],
   "source": [
    "# We can make a list of lists using append()\n",
    "print(my_movies)\n",
    "my_movies.append(unwatched)\n",
    "print(my_movies)\n",
    "my_movies.append(watched)\n",
    "print(my_movies)"
   ]
  },
  {
   "cell_type": "markdown",
   "metadata": {},
   "source": [
    "This is okay - we have a master list of all of our movies. The nested lists break our collection down further by watched and unwatched, but we don't know which list is which.\n",
    "\n",
    "One way to improve this design is to use a dictionary."
   ]
  },
  {
   "cell_type": "code",
   "execution_count": 55,
   "metadata": {},
   "outputs": [
    {
     "name": "stdout",
     "output_type": "stream",
     "text": [
      "{'unwatched': ['avengers', 'frozen', 'cats']}\n"
     ]
    }
   ],
   "source": [
    "# A dictionary is a mutable, unordered list of key-value pairs\n",
    "# Like lists, the values in a dictionary can be composed of different data types or structures\n",
    "\n",
    "# Re-assign my_movies to an empty dictionary\n",
    "my_movies = {}\n",
    "\n",
    "# Now add our lists of unwatched and watched movies\n",
    "# Note we are using a string as the key and the list as the value\n",
    "my_movies[\"unwatched\"] = unwatched\n",
    "print(my_movies)"
   ]
  },
  {
   "cell_type": "code",
   "execution_count": 57,
   "metadata": {},
   "outputs": [
    {
     "name": "stdout",
     "output_type": "stream",
     "text": [
      "{'unwatched': ['avengers', 'frozen', 'cats'], 'watched': ['jumanji']}\n"
     ]
    }
   ],
   "source": [
    "my_movies[\"watched\"] = watched\n",
    "print(my_movies)"
   ]
  },
  {
   "cell_type": "code",
   "execution_count": 60,
   "metadata": {},
   "outputs": [
    {
     "name": "stdout",
     "output_type": "stream",
     "text": [
      "dict_keys(['unwatched', 'watched'])\n"
     ]
    }
   ],
   "source": [
    "# We retrieve items from a dictionary using the keys.\n",
    "# If we don't know the keys, we can ask for them first using the 'keys()' attribute:\n",
    "print(my_movies.keys())"
   ]
  },
  {
   "cell_type": "code",
   "execution_count": 61,
   "metadata": {},
   "outputs": [
    {
     "name": "stdout",
     "output_type": "stream",
     "text": [
      "['jumanji']\n"
     ]
    }
   ],
   "source": [
    "print(my_movies['watched'])"
   ]
  },
  {
   "cell_type": "code",
   "execution_count": null,
   "metadata": {},
   "outputs": [],
   "source": []
  }
 ],
 "metadata": {
  "kernelspec": {
   "display_name": "Python 3",
   "language": "python",
   "name": "python3"
  },
  "language_info": {
   "codemirror_mode": {
    "name": "ipython",
    "version": 3
   },
   "file_extension": ".py",
   "mimetype": "text/x-python",
   "name": "python",
   "nbconvert_exporter": "python",
   "pygments_lexer": "ipython3",
   "version": "3.7.6"
  }
 },
 "nbformat": 4,
 "nbformat_minor": 2
}
