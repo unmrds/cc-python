{
 "cells": [
  {
   "cell_type": "markdown",
   "metadata": {},
   "source": [
    "# A Gentle Introduction to Programming Concepts - Using Python"
   ]
  },
  {
   "cell_type": "markdown",
   "metadata": {},
   "source": [
    "## Introduction"
   ]
  },
  {
   "cell_type": "markdown",
   "metadata": {},
   "source": [
    "### Play along at home\n",
    "\n",
    "You can follow along and through the notebooks that we will be working through by going to the GitHub repository that we manage our content in.\n",
    "\n",
    "* Repository: https://github.com/unmrds/cc-python\n",
    "* Introduction/Concepts (this notebook): \n",
    "    * http://tinyurl.com/cc-python-intro \n",
    "    * https://github.com/unmrds/cc-python/blob/master/Programming%20Concepts.ipynb\n",
    "* Aboutness demo: \n",
    "    * http://tinyurl.com/cc-python-aboutness \n",
    "    * https://github.com/unmrds/cc-python/blob/master/IR%20Keywords%20Versus%20IR%20%22Aboutness%22.ipynb\n",
    "* Space Analysis: \n",
    "    * http://tinyurl.com/cc-python-space \n",
    "    * https://github.com/unmrds/cc-python/blob/master/Space%20Analysis%20.ipynb\n",
    "    \n",
    "You can practice and play with code in Pangeo binder environment: \n",
    "\n",
    "[![Binder](https://binder.pangeo.io/badge_logo.svg)](https://binder.pangeo.io/v2/gh/unmrds/cc-python.git/master)\n",
    "\n",
    "### Why learn the basic principles of programming?\n",
    "\n",
    "* Thinking algorithmically (a key element in the process used in developing programming solutions) is a powerful problem solving skill that is reinforeced with practice. Practicing programming is great practice. \n",
    "    * Defining a problem with sufficient specificity that a solution can be effectively developed\n",
    "    * Defining what the end-product of the process should be\n",
    "    * Breaking a problem down into smaller components that interact with each other\n",
    "    * Identifying the objects/data and actions that are needed to meet the requirements of each component\n",
    "    * Linking components together to solve the defined problem\n",
    "    * Identifying potential expansion points to reuse the developed capacity for solving related problems\n",
    "\n",
    "![Problem decomposition illustration](problemDecomposition.png)\n",
    "\n",
    "* Capabilities to streamline and automate routine processes through scripting are ubiquitous\n",
    "    * Query languages built into existing tools (e.g. Excel, ArcGIS, Word)\n",
    "    * Specialized languages for specific tasks (e.g. R, Pandoc template language, PHP)\n",
    "    * General purpose languages for solving many problems (e.g. Bash shell, Perl, Python, C#)\n",
    "\n",
    "* Repeatabilty with documentation\n",
    "* Scalability\n",
    "* Portability"
   ]
  },
  {
   "cell_type": "markdown",
   "metadata": {},
   "source": [
    "### Why Python?\n",
    "\n",
    "* It is available as a free and [Open Source](https://opensource.org/osd-annotated) programming language that can be \n",
    "installed on numerous computer systems, including Windows, Linux and the Mac OS. It can even be editited and run \n",
    "through a web interface such as this Jupyter Notebook. \n",
    "* It is a modern programming language that includes many features that make it a very efficient language\n",
    "to both learn programming with and write programs in.\n",
    "* It is readable and expressive. \n",
    "* It supports a variety of development models including object-oriented, procedural and functional capabilities. \n",
    "* It includes a standard library of functions that support significant programming capabilities including:\n",
    "    * Handling email\n",
    "    * Interacting with and publishing web and other online resources\n",
    "    * Connecting with a wide variety of databases\n",
    "    * Executing operating system commands\n",
    "    * Developing graphical user interfaces\n",
    "* It is relatively easy to start to become productive in Python, though it still takes time and practice to become\n",
    "an expert (as is the case with any programming language).\n",
    "\n",
    "The primary downside that is mentioned when discussing the choice of Python as a programming language is that as\n",
    "an interpreted language it can execute more slowly than traditional compiled languages such as C or C++. "
   ]
  },
  {
   "cell_type": "markdown",
   "metadata": {},
   "source": [
    "### Can I Play at Home?\n",
    "\n",
    "There are a variety of ways to run Python on your computer:\n",
    "\n",
    "* You may already have a version of Python installed. Many operating systems have a version of Python installed that is used for routine processes within the operating system. You can easily check to see what version of Python might already be on your computer by typing `python` at the `Command Prompt` (Windows) or in the `Terminal` (Mac OS) and seeing what response you get. If Python is installed you will typically see information about the currently installed version and then be taken to the Python command prompt where you can start typing commands. \n",
    "* You can install one of the available versions directly from the Python project site: https://www.python.org/downloads/. Following this installation you will be able to execute commands from the *interactive command prompt* or you can start the *IDLE* integrated development environment (IDE). \n",
    "* You can install a pre-packaged python system such as the Anaconda release of Python (https://www.continuum.io/downloads) that has both Python 2.x and 3.x versions available for download. I prefer this method as it installs a copy of Python that is separate from any previous ones on your system, and allows you to execute the (enhanced) interactive Python command prompt, **and** run the Jupyter Notebook web-based environment for writing and executing Python code. The examples that we will go through today will be executed in the Jupyter Notebook environment. "
   ]
  },
  {
   "cell_type": "markdown",
   "metadata": {},
   "source": [
    "## Running a Python Environment\n",
    "\n",
    "Once Python is installed on your computer you have a number of options for how you start up an environment where you can execute Python commands/code. \n",
    "\n",
    "1. The most simple method is to just type `python` at the *Command Prompt* (Windows) or *Terminal* (Mac OS and Linux). If you installation was successful you will be taken to the interactive prompt. For example:\n",
    "    \n",
    "        UL0100MAC:~ kbene$ python\n",
    "        Python 2.7.10 |Anaconda 2.3.0 (x86_64)| (default, May 28 2015, 17:04:42)\n",
    "        [GCC 4.2.1 (Apple Inc. build 5577)] on darwin\n",
    "        Type \"help\", \"copyright\", \"credits\" or \"license\" for more information.\n",
    "        Anaconda is brought to you by Continuum Analytics.\n",
    "        Please check out: http://continuum.io/thanks and https://binstar.org\n",
    "        >>>\n",
    "\n",
    "2. If you would like to run the IDLE IDE you should be able to find the executable file in the folder where the Python executable installed on your system.\n",
    "\n",
    "3. If you installed the Anaconda release of Python you can type `ipython` at the *Command Prompt* (Windows) or *Terminal* (Mac OS and Linux). If you installation was successful you will be taken to an enhanced (compared with the basic Python prompt) interactive prompt. For example:\n",
    "\n",
    "        UL0100MAC:~ kbene$ ipython\n",
    "        Python 2.7.10 |Anaconda 2.3.0 (x86_64)| (default, May 28 2015, 17:04:42)\n",
    "        Type \"copyright\", \"credits\" or \"license\" for more information.\n",
    "\n",
    "        IPython 3.2.0 -- An enhanced Interactive Python.\n",
    "        Anaconda is brought to you by Continuum Analytics.\n",
    "        Please check out: http://continuum.io/thanks and https://anaconda.org\n",
    "        ?         -> Introduction and overview of IPython's features.\n",
    "        %quickref -> Quick reference.\n",
    "        help      -> Python's own help system.\n",
    "        object?   -> Details about 'object', use 'object??' for extra details.\n",
    "\n",
    "        In [1]:\n",
    "\n",
    "4. If you installed the Anaconda release of Python you can type `jupyter notebook` at the *Command Prompt* (Windows) or *Terminal* (Mac OS and Linux). If you installation was successful you should see some startup messages in the terminal window and your browser should open up and display the *Jupyter Notebook* interface from where you can navigate through your system's folder structure (starting in the folder that you ran the `ipython notebook` command from), and load existing notebooks or create new ones in which you can enter and execute Python commands. You can also start a local Jupyter Notebook instance through the *Anaconda Navigator* application that is included with recent releases of the Anaconda Python distribution. In more recent releases of the Anaconda Python distribution you can run the *Anaconda Navigator* from which you can run *Jupyter Notebooks* and other applications. *This is the interface that we are using for today's workshop**. \n",
    "\n",
    "\n",
    "[![Binder](https://binder.pangeo.io/badge_logo.svg)](https://binder.pangeo.io/v2/gh/unmrds/cc-python.git/master)\n"
   ]
  },
  {
   "cell_type": "markdown",
   "metadata": {},
   "source": [
    "## Getting Help\n",
    "\n",
    "There are a number of strategies that you can use for getting help with specific Python commands and syntax. First and foremost you can access the Python [documentation](https://docs.python.org/3/index.html) which will default to the most recent Python 3.x version that is in production, but from which (in the upper left corner of the page) you can select other Python versions if you are not using the version referenced by the page. Looking at and working through some of the materials in the Python [tutorial](https://docs.python.org/3/tutorial/) is also a great way to see the core Python capabilities in action. \n",
    "\n",
    "In some cases you can find quite a few useful and interesting resources through a resonably crafted Google search: e.g. for [`python create list`](https://www.google.com/search?client=safari&rls=en&q=python+create+list&ie=UTF-8&oe=UTF-8). \n",
    "\n",
    "You can also get targeted help some specific commands or objects from the command prompt by just using the `help()` function. Where you put the name of the command or object between the parentheses `()`. \n",
    "\n",
    "For example:\n",
    "\n",
    "    >>>help(print)\n",
    " \n",
    "and\n",
    "\n",
    "    >>>help(str)\n",
    "\n",
    "and\n",
    "\n",
    "    >>>myVar = [1,2,3,4,5]\n",
    "    >>>help(myVar)"
   ]
  },
  {
   "cell_type": "markdown",
   "metadata": {},
   "source": [
    "### Try It Yourself\n",
    "\n",
    "Type in the help command in a code box in Jupyter Notebook for a few of the following commands/objects and take a look at the information you get:\n",
    "\n",
    "* `dict` - e.g. `help(dict)`\n",
    "* `print`\n",
    "* `sorted`\n",
    "* `float`\n",
    "\n",
    "For some commands/functions you need to import the module that that command belongs to. For example:\n",
    "\n",
    "        import os\n",
    "        help(os.path)\n",
    "\n",
    "Try this pair of commands in a code window in your Jupyter Notebook or interactive terminal. "
   ]
  },
  {
   "cell_type": "code",
   "execution_count": 1,
   "metadata": {
    "collapsed": true
   },
   "outputs": [],
   "source": [
    "# type your help commands in the box and \n",
    "# execute the code in the box by typing shift-enter \n",
    "# (hold down the shift key while hitting the enter/return key)"
   ]
  },
  {
   "cell_type": "markdown",
   "metadata": {},
   "source": [
    "## Going beyond the *Standard Library*\n",
    "\n",
    "While Python's *Standard Library* of modules is very powerful and diverse, you will encounter times when you need functionality that is not included in the base installation of Python. *Fear not*, there are over 100,000 additional packages that have been developed to extend the capabilities of Python beyond those provided in the default installation. The central repository for Python packages is the [*Python Package Index*](https://pypi.python.org/pypi)  that can be browsed on the web, or can be programmatically interacted with using the [PIP](https://docs.python.org/3/tutorial/venv.html#managing-packages-with-pip) utility.\n",
    "\n",
    "Once installed, the functionality of a module (standard or not) is added to a script using the `import` command. "
   ]
  },
  {
   "cell_type": "markdown",
   "metadata": {},
   "source": [
    "## Resources\n",
    "\n",
    "* [*Computational Thinking for Teacher Education*](https://cacm.acm.org/magazines/2017/4/215031-computational-thinking-for-teacher-education/fulltext?mobile=false)\n",
    "* [Python Project Site](https://www.python.org/downloads/)\n",
    "* [Anaconda Python Site](https://www.continuum.io/downloads)\n",
    "* [Python Documentation](https://docs.python.org/3/index.html)\n",
    "* [Python 3.6 Tutorial](https://docs.python.org/3/tutorial/)\n",
    "\n",
    "Some book-length resources:\n",
    "\n",
    "* *Python 3 for Absolute Beginners*. 2009. Tim Hall and J-P Stacey. http://library.books24x7.com.libproxy.unm.edu/toc.aspx?bookid=33297\n",
    "* *Learning Python* 5th ed. 2013. Mark Lutz. https://www.amazon.com/Learning-Python-5th-Mark-Lutz/dp/1449355730/ref=sr_1_1?ie=UTF8&qid=1497019326&sr=8-1&keywords=%22learning+python%22\n",
    "* *The Quick Python Book* 2010. Naomi Ceder. https://www.amazon.com/Quick-Python-Book-Second/dp/193518220X/ref=sr_1_1?s=books&ie=UTF8&qid=1497019549&sr=1-1&keywords=%22quick+python%22\n",
    "\n"
   ]
  },
  {
   "cell_type": "code",
   "execution_count": null,
   "metadata": {
    "collapsed": true
   },
   "outputs": [],
   "source": []
  }
 ],
 "metadata": {
  "kernelspec": {
   "display_name": "Python 3",
   "language": "python",
   "name": "python3"
  },
  "language_info": {
   "codemirror_mode": {
    "name": "ipython",
    "version": 3
   },
   "file_extension": ".py",
   "mimetype": "text/x-python",
   "name": "python",
   "nbconvert_exporter": "python",
   "pygments_lexer": "ipython3",
   "version": "3.7.2"
  }
 },
 "nbformat": 4,
 "nbformat_minor": 2
}
